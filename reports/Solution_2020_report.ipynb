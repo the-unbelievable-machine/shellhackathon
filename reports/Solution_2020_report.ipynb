{
 "cells": [
  {
   "cell_type": "markdown",
   "id": "bb97853b-baec-4205-8c0e-5120d02ab967",
   "metadata": {
    "slideshow": {
     "slide_type": "slide"
    }
   },
   "source": [
    "# Shell Hackathon Solution 2020\n",
    "\n",
    "This is the same code as for the solution for 2019, except that we use the predicted electricity demand of 2020 as input. And we use the infrastructure suggested by our solution from 2019 as basis for computing the optimal solution for 2020."
   ]
  },
  {
   "cell_type": "code",
   "execution_count": 1,
   "id": "22dabfdc-c2c9-43b7-9d07-d5aa3aba339a",
   "metadata": {
    "slideshow": {
     "slide_type": "skip"
    }
   },
   "outputs": [],
   "source": [
    "from math import sqrt\n",
    "from itertools import product\n",
    "\n",
    "import pandas as pd\n",
    "\n",
    "from ortools.linear_solver import pywraplp\n",
    "from ortools.init import pywrapinit"
   ]
  },
  {
   "cell_type": "code",
   "execution_count": 2,
   "id": "4eab6a9d-4618-4720-af5d-1bc4c0214a1b",
   "metadata": {
    "slideshow": {
     "slide_type": "slide"
    }
   },
   "outputs": [],
   "source": [
    "supply = pd.read_csv(\"../data/processed/exisiting_EV_infrastructure_2019.csv\")\n",
    "demand = pd.read_csv(\"../data/processed/Demand_Future.csv\")"
   ]
  },
  {
   "cell_type": "code",
   "execution_count": 3,
   "id": "1deb79d4-f333-4803-93ff-06e8f2ac01f2",
   "metadata": {
    "slideshow": {
     "slide_type": "skip"
    }
   },
   "outputs": [],
   "source": [
    "slow_charger = 200\n",
    "slow_costs = 1.0*600\n",
    "fast_charger = 400\n",
    "fast_costs = 1.5*600"
   ]
  },
  {
   "cell_type": "code",
   "execution_count": 4,
   "id": "52c5add9-7e98-4c06-bb26-24d493978ddb",
   "metadata": {
    "slideshow": {
     "slide_type": "fragment"
    }
   },
   "outputs": [],
   "source": [
    "# real capacities\n",
    "real_capacities = (supply[\"existing_num_SCS\"]*slow_charger + supply[\"existing_num_FCS\"]*fast_charger).tolist()\n",
    "# maximum theoretical capacities\n",
    "capacities = (supply[\"total_parking_slots\"]*fast_charger).tolist()\n",
    "demands = demand[\"2020\"].tolist()"
   ]
  },
  {
   "cell_type": "code",
   "execution_count": 5,
   "id": "a9a3aea1-88e5-48b5-bcac-0524eb2a8e63",
   "metadata": {
    "slideshow": {
     "slide_type": "fragment"
    }
   },
   "outputs": [
    {
     "data": {
      "text/plain": [
       "(True, 1000000, 533059.8972105536, 473600.0)"
      ]
     },
     "execution_count": 5,
     "metadata": {},
     "output_type": "execute_result"
    }
   ],
   "source": [
    "sum(capacities) > sum(demands), sum(capacities), sum(demands), sum(real_capacities)"
   ]
  },
  {
   "cell_type": "markdown",
   "id": "22249f94-ad0d-4fbe-a25e-334965d772fb",
   "metadata": {
    "slideshow": {
     "slide_type": "fragment"
    }
   },
   "source": [
    "Also for 2020 the maximal capacity of all parking slots is enough to fulfill the demand."
   ]
  },
  {
   "cell_type": "code",
   "execution_count": 6,
   "id": "0554a80c-699b-4415-814b-fbe26828cce7",
   "metadata": {
    "slideshow": {
     "slide_type": "skip"
    }
   },
   "outputs": [],
   "source": [
    "# facilities are parking slots\n",
    "facilities = list(supply[[\"x_coordinate\",\"y_coordinate\"]].itertuples(index=False, name=None))\n",
    "# customers are areas of electricity demand\n",
    "customers = list(demand[[\"x_coordinate\",\"y_coordinate\"]].itertuples(index=False, name=None))"
   ]
  },
  {
   "cell_type": "code",
   "execution_count": 7,
   "id": "c1649a16-1b53-479f-9ab3-5b5d7e49bce0",
   "metadata": {
    "slideshow": {
     "slide_type": "skip"
    }
   },
   "outputs": [],
   "source": [
    "# Compute key parameters of MIP model formulation\n",
    "num_facilities = len(facilities)\n",
    "num_customers = len(customers)\n",
    "cartesian_prod = list(product(range(num_customers), range(num_facilities)))"
   ]
  },
  {
   "cell_type": "code",
   "execution_count": 8,
   "id": "9d057c02-4b9d-4233-87d3-93d2de193949",
   "metadata": {
    "slideshow": {
     "slide_type": "skip"
    }
   },
   "outputs": [],
   "source": [
    "# This function determines the Euclidean distance between a facility and customer sites.\n",
    "def compute_distance(loc1, loc2):\n",
    "    dx = loc1[0] - loc2[0]\n",
    "    dy = loc1[1] - loc2[1]\n",
    "    return sqrt(dx*dx + dy*dy)"
   ]
  },
  {
   "cell_type": "code",
   "execution_count": 9,
   "id": "5557d5c1-cf44-43cd-b428-71165bbd4ca9",
   "metadata": {
    "slideshow": {
     "slide_type": "skip"
    }
   },
   "outputs": [],
   "source": [
    "# Compute distance matrix\n",
    "distance = {(c,f): compute_distance(customers[c], facilities[f]) for c, f in cartesian_prod}"
   ]
  },
  {
   "cell_type": "code",
   "execution_count": 10,
   "id": "617c1387-082b-4b33-8336-2d3a656da712",
   "metadata": {
    "slideshow": {
     "slide_type": "skip"
    }
   },
   "outputs": [],
   "source": [
    "# maximum slots for chargers\n",
    "slots = supply[\"total_parking_slots\"].tolist()\n",
    "\n",
    "# existing chargers\n",
    "slow_slots = supply[\"existing_num_SCS\"].tolist()\n",
    "fast_slots = supply[\"existing_num_FCS\"].tolist()"
   ]
  },
  {
   "cell_type": "code",
   "execution_count": 11,
   "id": "f2bf8300-7946-4f36-9dee-a7ec549b1e05",
   "metadata": {
    "slideshow": {
     "slide_type": "skip"
    }
   },
   "outputs": [],
   "source": [
    "solver = pywraplp.Solver.CreateSolver('SCIP_MIXED_INTEGER_PROGRAMMING')"
   ]
  },
  {
   "cell_type": "code",
   "execution_count": 12,
   "id": "c92c3d9a-7e42-4b06-958d-66997eb906a5",
   "metadata": {
    "slideshow": {
     "slide_type": "skip"
    }
   },
   "outputs": [],
   "source": [
    "# Variables\n",
    "assign = {}\n",
    "for i,j in distance.keys(): \n",
    "    assign[(i,j)] = solver.NumVar(0,solver.infinity(),\"Assign\")\n",
    "# Do not delete existing chargers (Constraint/Boundaries 2) \n",
    "slow = {}\n",
    "for j in range(num_facilities):\n",
    "    slow[j] = solver.IntVar(slow_slots[j], solver.infinity(), \"Slow\")\n",
    "fast = {}\n",
    "for j in range(num_facilities):\n",
    "    fast[j] = solver.IntVar(fast_slots[j], solver.infinity(), \"Fast\")          "
   ]
  },
  {
   "cell_type": "code",
   "execution_count": 13,
   "id": "f95dc9b2-ae96-4d29-8c96-71130f3b963e",
   "metadata": {
    "slideshow": {
     "slide_type": "skip"
    }
   },
   "outputs": [],
   "source": [
    "# Constraint 3 (slots)\n",
    "for j in range(num_facilities):\n",
    "    solver.Add(slow[j] + fast[j] <= slots[j])\n",
    "# Constraint 5 (capacity constraints)\n",
    "for j in range(num_facilities):\n",
    "    solver.Add(sum(assign[(i,j)] for i in range(num_customers)) <= (slow[j]*200 + fast[j]*400))\n",
    "# Constraint 6 (demand constraints)\n",
    "for i in range(num_customers):\n",
    "    solver.Add(sum(assign[(i,j)] for j in range(num_facilities)) == demands[i] )    "
   ]
  },
  {
   "cell_type": "code",
   "execution_count": 14,
   "id": "42e2cd57-88da-4482-85e9-780b2be55159",
   "metadata": {
    "slideshow": {
     "slide_type": "skip"
    }
   },
   "outputs": [],
   "source": [
    "objective = solver.Objective()\n",
    "# Building costs for chargers\n",
    "for j in range(num_facilities):\n",
    "    objective.SetCoefficient(slow[j], slow_costs)\n",
    "for j in range(num_facilities):\n",
    "    objective.SetCoefficient(fast[j], fast_costs)\n",
    "# distance costs\n",
    "for i in range(num_customers):\n",
    "    for j in range(num_facilities):\n",
    "        objective.SetCoefficient(assign[(i,j)],distance[(i,j)]) \n",
    "objective.SetMinimization()    "
   ]
  },
  {
   "cell_type": "markdown",
   "id": "713eeb0f-731f-4ceb-985e-9ddf917ae203",
   "metadata": {
    "slideshow": {
     "slide_type": "skip"
    }
   },
   "source": [
    "The Shell Hackathon cost function includes the MAE of the demand prediction as additional term. We know the exact demand for 2018, so this term is zero. For 2019/2020 we cannot compute the term, because we only have the predicted values, but not the exact ones."
   ]
  },
  {
   "cell_type": "code",
   "execution_count": 15,
   "id": "729bbae4-c18a-488c-bba6-72c36e79796b",
   "metadata": {
    "slideshow": {
     "slide_type": "skip"
    }
   },
   "outputs": [],
   "source": [
    "status = solver.Solve()"
   ]
  },
  {
   "cell_type": "code",
   "execution_count": 16,
   "id": "de38a064-12f7-4f70-8a6e-ec43c1bbe983",
   "metadata": {
    "slideshow": {
     "slide_type": "skip"
    }
   },
   "outputs": [
    {
     "name": "stdout",
     "output_type": "stream",
     "text": [
      "Objective value = 3447334.1709842305\n",
      "\n",
      "Problem solved in 27089.000000 milliseconds\n",
      "Problem solved in 11332 iterations\n",
      "Problem solved in 1 branch-and-bound nodes\n"
     ]
    }
   ],
   "source": [
    "if status == pywraplp.Solver.OPTIMAL:\n",
    "    print('Objective value =', solver.Objective().Value())\n",
    "    print()\n",
    "    print('Problem solved in %f milliseconds' % solver.wall_time())\n",
    "    print('Problem solved in %d iterations' % solver.iterations())\n",
    "    print('Problem solved in %d branch-and-bound nodes' % solver.nodes())\n",
    "else:\n",
    "    print('The problem does not have an optimal solution.')"
   ]
  },
  {
   "cell_type": "code",
   "execution_count": 17,
   "id": "07dd9a6f-9f29-4987-9288-73e618cf388b",
   "metadata": {
    "slideshow": {
     "slide_type": "slide"
    }
   },
   "outputs": [
    {
     "name": "stdout",
     "output_type": "stream",
     "text": [
      "...\n",
      "Build 0.0 slow charger  and 13.0 fast charger at location 88.\n",
      "Build 0.0 slow charger  and 1.0 fast charger at location 89.\n",
      "Build 0.0 slow charger  and 5.0 fast charger at location 96.\n",
      "Build 0.0 slow charger  and 3.0 fast charger at location 97.\n",
      "Build 0.0 slow charger  and 11.0 fast charger at location 100.\n",
      "Number of construction sites: 30\n"
     ]
    }
   ],
   "source": [
    "# display optimal values of decision variables\n",
    "lines = []\n",
    "for j in range(num_facilities):\n",
    "    build_slow = slow[j].solution_value() - slow_slots[j]\n",
    "    build_fast = fast[j].solution_value() - fast_slots[j]\n",
    "    if build_slow > 0 or build_fast > 0: \n",
    "        lines.append(f\"Build {slow[j].solution_value() - slow_slots[j]} slow charger  and {fast[j].solution_value() - fast_slots[j]} fast charger at location {j + 1}.\")\n",
    "#for line in lines[:5]: print(line)\n",
    "print(\"...\")\n",
    "for line in lines[-5:]: print(line)\n",
    "    \n",
    "print(\"Number of construction sites:\", len(lines))          "
   ]
  },
  {
   "cell_type": "code",
   "execution_count": 18,
   "id": "e59385ad-a9e0-474c-91bd-d020450eead0",
   "metadata": {
    "slideshow": {
     "slide_type": "slide"
    }
   },
   "outputs": [
    {
     "data": {
      "text/plain": [
       "(533059.8972105536, 540800.0)"
      ]
     },
     "execution_count": 18,
     "metadata": {},
     "output_type": "execute_result"
    }
   ],
   "source": [
    "# compute the total electricity supply of our solution\n",
    "total_supply = 0\n",
    "for j in range(num_facilities):\n",
    "    total_supply += slow[j].solution_value()*200 + fast[j].solution_value()*400\n",
    "sum(demands), total_supply   "
   ]
  },
  {
   "cell_type": "markdown",
   "id": "5809e204-2031-4b01-aa4f-fb7a3fc03495",
   "metadata": {
    "slideshow": {
     "slide_type": "fragment"
    }
   },
   "source": [
    "In 2020 our total supply is closer to the predicted demand than in 2018 and 2019."
   ]
  },
  {
   "cell_type": "code",
   "execution_count": 19,
   "id": "1e67675e-f07b-40f5-84f3-c26af394ac69",
   "metadata": {
    "slideshow": {
     "slide_type": "skip"
    }
   },
   "outputs": [
    {
     "name": "stdout",
     "output_type": "stream",
     "text": [
      "Demand point 1 receives 27.16 of its demand 27.16 from parking slot 39 .\n",
      "Demand point 2 receives 26.95 of its demand 26.95 from parking slot 39 .\n",
      "Demand point 3 receives 25.93 of its demand 25.93 from parking slot 39 .\n",
      "Demand point 4 receives 28.65 of its demand 28.65 from parking slot 39 .\n",
      "Demand point 5 receives 29.72 of its demand 29.72 from parking slot 39 .\n",
      "...\n",
      "Demand point 4092 receives 12.23 of its demand 12.23 from parking slot 3 .\n",
      "Demand point 4093 receives 3.8 of its demand 3.8 from parking slot 3 .\n",
      "Demand point 4094 receives 7.37 of its demand 7.37 from parking slot 3 .\n",
      "Demand point 4095 receives 14.0 of its demand 14.0 from parking slot 3 .\n",
      "Demand point 4096 receives 14.99 of its demand 14.99 from parking slot 3 .\n"
     ]
    }
   ],
   "source": [
    "# Shipments from facilities to customers.\n",
    "lines = []\n",
    "for i, j in assign.keys():\n",
    "    if (abs(assign[i, j].solution_value()) > 1e-6):\n",
    "        lines.append(f\"Demand point {i + 1} receives {round(assign[i, j].solution_value(), 2)} of its demand {round(demands[i],2)} from parking slot {j + 1} .\")\n",
    "for line in lines[:5]: print(line)\n",
    "print(\"...\")\n",
    "for line in lines[-5:]: print(line)   "
   ]
  },
  {
   "cell_type": "markdown",
   "id": "e1fbf933-63cd-45e7-b6de-f3ca592d446b",
   "metadata": {
    "slideshow": {
     "slide_type": "skip"
    }
   },
   "source": [
    "### Creating result file for submission\n",
    "\n",
    "This file will later be used to create the final submission."
   ]
  },
  {
   "cell_type": "code",
   "execution_count": 20,
   "id": "e0ba55a8-5f95-4f58-9139-d7a6be3df3a6",
   "metadata": {
    "slideshow": {
     "slide_type": "skip"
    }
   },
   "outputs": [],
   "source": [
    "slow_list = []\n",
    "for j in range(num_facilities):\n",
    "    slow_list.append((2020, \"SCS\", \"\", j, slow[j].solution_value()))\n",
    "fast_list = []\n",
    "for j in range(num_facilities):\n",
    "    fast_list.append((2020, \"FCS\", \"\", j, fast[j].solution_value()))    "
   ]
  },
  {
   "cell_type": "code",
   "execution_count": 21,
   "id": "0926221a-c81b-4a63-aa75-cc4d940c6cdb",
   "metadata": {
    "slideshow": {
     "slide_type": "skip"
    }
   },
   "outputs": [],
   "source": [
    "assign_list = []\n",
    "for i in range(num_customers):\n",
    "    for j in range(num_facilities):\n",
    "        assign_list.append((2020, \"DS\", i, j, assign[(i,j)].solution_value()))"
   ]
  },
  {
   "cell_type": "code",
   "execution_count": 22,
   "id": "64e62b7c-2443-4ef7-8ee7-170d80cbf2ea",
   "metadata": {
    "slideshow": {
     "slide_type": "skip"
    }
   },
   "outputs": [],
   "source": [
    "result = slow_list + fast_list + assign_list"
   ]
  },
  {
   "cell_type": "code",
   "execution_count": 23,
   "id": "e2f02156-4382-4b2a-91eb-c41dec4d47d1",
   "metadata": {
    "slideshow": {
     "slide_type": "skip"
    }
   },
   "outputs": [
    {
     "data": {
      "text/html": [
       "<div>\n",
       "<style scoped>\n",
       "    .dataframe tbody tr th:only-of-type {\n",
       "        vertical-align: middle;\n",
       "    }\n",
       "\n",
       "    .dataframe tbody tr th {\n",
       "        vertical-align: top;\n",
       "    }\n",
       "\n",
       "    .dataframe thead th {\n",
       "        text-align: right;\n",
       "    }\n",
       "</style>\n",
       "<table border=\"1\" class=\"dataframe\">\n",
       "  <thead>\n",
       "    <tr style=\"text-align: right;\">\n",
       "      <th></th>\n",
       "      <th>year</th>\n",
       "      <th>data_type</th>\n",
       "      <th>demand_point_index</th>\n",
       "      <th>supply_point_index</th>\n",
       "      <th>value</th>\n",
       "    </tr>\n",
       "  </thead>\n",
       "  <tbody>\n",
       "    <tr>\n",
       "      <th>0</th>\n",
       "      <td>2020</td>\n",
       "      <td>SCS</td>\n",
       "      <td></td>\n",
       "      <td>0</td>\n",
       "      <td>5.0</td>\n",
       "    </tr>\n",
       "    <tr>\n",
       "      <th>1</th>\n",
       "      <td>2020</td>\n",
       "      <td>SCS</td>\n",
       "      <td></td>\n",
       "      <td>1</td>\n",
       "      <td>4.0</td>\n",
       "    </tr>\n",
       "    <tr>\n",
       "      <th>2</th>\n",
       "      <td>2020</td>\n",
       "      <td>SCS</td>\n",
       "      <td></td>\n",
       "      <td>2</td>\n",
       "      <td>6.0</td>\n",
       "    </tr>\n",
       "    <tr>\n",
       "      <th>3</th>\n",
       "      <td>2020</td>\n",
       "      <td>SCS</td>\n",
       "      <td></td>\n",
       "      <td>3</td>\n",
       "      <td>5.0</td>\n",
       "    </tr>\n",
       "    <tr>\n",
       "      <th>4</th>\n",
       "      <td>2020</td>\n",
       "      <td>SCS</td>\n",
       "      <td></td>\n",
       "      <td>4</td>\n",
       "      <td>11.0</td>\n",
       "    </tr>\n",
       "    <tr>\n",
       "      <th>...</th>\n",
       "      <td>...</td>\n",
       "      <td>...</td>\n",
       "      <td>...</td>\n",
       "      <td>...</td>\n",
       "      <td>...</td>\n",
       "    </tr>\n",
       "    <tr>\n",
       "      <th>409795</th>\n",
       "      <td>2020</td>\n",
       "      <td>DS</td>\n",
       "      <td>4095</td>\n",
       "      <td>95</td>\n",
       "      <td>0.0</td>\n",
       "    </tr>\n",
       "    <tr>\n",
       "      <th>409796</th>\n",
       "      <td>2020</td>\n",
       "      <td>DS</td>\n",
       "      <td>4095</td>\n",
       "      <td>96</td>\n",
       "      <td>0.0</td>\n",
       "    </tr>\n",
       "    <tr>\n",
       "      <th>409797</th>\n",
       "      <td>2020</td>\n",
       "      <td>DS</td>\n",
       "      <td>4095</td>\n",
       "      <td>97</td>\n",
       "      <td>0.0</td>\n",
       "    </tr>\n",
       "    <tr>\n",
       "      <th>409798</th>\n",
       "      <td>2020</td>\n",
       "      <td>DS</td>\n",
       "      <td>4095</td>\n",
       "      <td>98</td>\n",
       "      <td>0.0</td>\n",
       "    </tr>\n",
       "    <tr>\n",
       "      <th>409799</th>\n",
       "      <td>2020</td>\n",
       "      <td>DS</td>\n",
       "      <td>4095</td>\n",
       "      <td>99</td>\n",
       "      <td>0.0</td>\n",
       "    </tr>\n",
       "  </tbody>\n",
       "</table>\n",
       "<p>409800 rows × 5 columns</p>\n",
       "</div>"
      ],
      "text/plain": [
       "        year data_type demand_point_index  supply_point_index  value\n",
       "0       2020       SCS                                      0    5.0\n",
       "1       2020       SCS                                      1    4.0\n",
       "2       2020       SCS                                      2    6.0\n",
       "3       2020       SCS                                      3    5.0\n",
       "4       2020       SCS                                      4   11.0\n",
       "...      ...       ...                ...                 ...    ...\n",
       "409795  2020        DS               4095                  95    0.0\n",
       "409796  2020        DS               4095                  96    0.0\n",
       "409797  2020        DS               4095                  97    0.0\n",
       "409798  2020        DS               4095                  98    0.0\n",
       "409799  2020        DS               4095                  99    0.0\n",
       "\n",
       "[409800 rows x 5 columns]"
      ]
     },
     "execution_count": 23,
     "metadata": {},
     "output_type": "execute_result"
    }
   ],
   "source": [
    "df_result = pd.DataFrame(result, columns=[\"year\", \"data_type\", \"demand_point_index\", \"supply_point_index\", \"value\"])\n",
    "df_result"
   ]
  },
  {
   "cell_type": "code",
   "execution_count": 24,
   "id": "2124d7cd-37cf-42ca-8c4b-4475d832b53a",
   "metadata": {
    "slideshow": {
     "slide_type": "skip"
    }
   },
   "outputs": [],
   "source": [
    "# commented out, so we don't overwrite the result\n",
    "# df_result.to_csv(\"../data/processed/result_2020.csv\")"
   ]
  },
  {
   "cell_type": "code",
   "execution_count": 25,
   "id": "ad75eda4-7e84-4b48-9b3e-58dc108b035e",
   "metadata": {
    "slideshow": {
     "slide_type": "skip"
    }
   },
   "outputs": [],
   "source": [
    "# commented out, so we don't overwrite the result\n",
    "# supply_2020.to_csv(\"../data/processed/exisiting_EV_infrastructure_2020.csv\")"
   ]
  },
  {
   "cell_type": "markdown",
   "id": "401c3154-7f7e-4660-b781-a0af05bdf072",
   "metadata": {
    "slideshow": {
     "slide_type": "slide"
    }
   },
   "source": [
    "### Fiddeling with numerical issues\n",
    "\n",
    "Here we show, that truncating the numerical values of our solution will make sure that constraint 5 is never violated. It should be noted, that rounding doesn't work for this."
   ]
  },
  {
   "cell_type": "code",
   "execution_count": 32,
   "id": "9612ff94",
   "metadata": {
    "slideshow": {
     "slide_type": "fragment"
    }
   },
   "outputs": [
    {
     "data": {
      "text/plain": [
       "37"
      ]
     },
     "execution_count": 32,
     "metadata": {},
     "output_type": "execute_result"
    }
   ],
   "source": [
    "# Simple rounding leads to violations of the constraint\n",
    "violations = []\n",
    "for j in range(num_facilities):\n",
    "    constraint = sum(round(assign[(i,j)].solution_value(),2) for i in range(num_customers))<= (slow[j].solution_value()*200 + fast[j].solution_value()*400)\n",
    "    if not constraint:\n",
    "        violations.append(constraint)\n",
    "len(violations)"
   ]
  },
  {
   "cell_type": "code",
   "execution_count": 33,
   "id": "b594b0d5-35f6-4567-b2f9-8b450a8c33a8",
   "metadata": {
    "slideshow": {
     "slide_type": "slide"
    },
    "tags": []
   },
   "outputs": [],
   "source": [
    "# We need to truncate the results. Otherwise the constraints are violated due to floating point issues\n",
    "# see https://stackoverflow.com/a/49960574\n",
    "def truncate(theNumber, theDigits):\n",
    "    myDigits = 10 ** theDigits\n",
    "    return (int(theNumber * myDigits) / myDigits)"
   ]
  },
  {
   "cell_type": "code",
   "execution_count": 34,
   "id": "d57b961a-bd0c-47c9-997e-9b553482eb2a",
   "metadata": {
    "jupyter": {
     "outputs_hidden": true
    },
    "slideshow": {
     "slide_type": "fragment"
    },
    "tags": []
   },
   "outputs": [
    {
     "data": {
      "text/plain": [
       "0"
      ]
     },
     "execution_count": 34,
     "metadata": {},
     "output_type": "execute_result"
    }
   ],
   "source": [
    "violations = []\n",
    "for j in range(num_facilities):\n",
    "    constraint = sum(truncate(assign[(i,j)].solution_value(),2) for i in range(num_customers))<= (slow[j].solution_value()*200 + fast[j].solution_value()*400)\n",
    "    if not constraint:\n",
    "        violations.append(constraint)\n",
    "len(violations)        "
   ]
  }
 ],
 "metadata": {
  "celltoolbar": "Slideshow",
  "kernelspec": {
   "display_name": "Python 3 (ipykernel)",
   "language": "python",
   "name": "python3"
  },
  "language_info": {
   "codemirror_mode": {
    "name": "ipython",
    "version": 3
   },
   "file_extension": ".py",
   "mimetype": "text/x-python",
   "name": "python",
   "nbconvert_exporter": "python",
   "pygments_lexer": "ipython3",
   "version": "3.10.6"
  }
 },
 "nbformat": 4,
 "nbformat_minor": 5
}
