{
 "cells": [
  {
   "cell_type": "markdown",
   "id": "ae8edd7f",
   "metadata": {
    "slideshow": {
     "slide_type": "slide"
    }
   },
   "source": [
    "# Facility location problem (FLP)\n",
    "\n",
    "Location analysis is a branch of OR\n",
    "\n",
    "Fermat-Weber (geometric median) problem (17th century):\n",
    "- Find a fourth point so the sum of its (weighted) distances to three given points is minimal \n",
    "\n",
    "FLP: Determine location of new factories based on \n",
    "- transportation distance, costs \n",
    "- facility opening/maintenance cost\n",
    "- demand\n",
    "- Variation 1: (un-)capacitated FLP: facilities have (un-)limited capcacity\n",
    "- Variation 2: fixed locations FLP: choose the best of a number of fixed locations    \n",
    "  "
   ]
  },
  {
   "cell_type": "markdown",
   "id": "cc253614",
   "metadata": {
    "slideshow": {
     "slide_type": "slide"
    }
   },
   "source": [
    "FLP is\n",
    "- a mixed integer programming problem \n",
    "- for fixed locations it is a LP problem (Simplex algorithm)\n",
    "- if locations are not fixed it needs Second Order Cone Optimization (Interior points algorithm), see [Mathematica/ConvexOptimization/FLP](https://www.wolfram.com/language/12/convex-optimization/facility-location-problem.html)  \n",
    "\n",
    "![Hierarchy of convex optimization](https://upload.wikimedia.org/wikipedia/commons/1/11/Hierarchy_compact_convex.png)\n",
    "\n",
    "Fortunately the Shell Hackathon optimization problem is a capacitated, fixed location FLP. "
   ]
  },
  {
   "cell_type": "markdown",
   "id": "538f7042-3c30-436d-bdf6-9566723cd15f",
   "metadata": {
    "slideshow": {
     "slide_type": "slide"
    }
   },
   "source": [
    "## Example 1 (uncapacitated FLP)\n",
    "\n",
    "Given $i$ supermarket coordinates find the optimal location of $j$ warehouses/facilities from a list of possible locations. \n",
    "Many warehouses would reduce the transportation costs $c_{ij}$ to supermarkets, however opening a warehouse generates fixed costs $f_j$.\n",
    "\n",
    "Variables:\n",
    "- $s_j \\in {0,1}$ boolean variable = 1 if warehouse is build\n",
    "- $0 \\leq a_{ij} \\leq 1$ non-negative continuous variable, the fraction of supply received by customer $i$ from warehouse $j$\n",
    "\n",
    "Objective:\n",
    "$$\n",
    "min \\left( \\sum_j f_j s_j + \\sum_j \\sum_i c_{ij} a_{ij} \\right)\n",
    "$$\n",
    "\n",
    "\n",
    "See\n",
    "- https://www.gurobi.com/resource/modeling-examples-using-the-gurobi-python-api-in-jupyter-notebook/\n",
    "- https://www.gurobi.com/resource/facility-location-problem/"
   ]
  },
  {
   "cell_type": "markdown",
   "id": "60a55c08",
   "metadata": {
    "slideshow": {
     "slide_type": "slide"
    }
   },
   "source": [
    "Contraints:\n",
    "1. Demand (the sum of all fractions for a supermarkt $i$ over all warehouses $j$ must be 1)\n",
    "$$\n",
    "\\sum_j a_{ij} = 1\n",
    "$$\n",
    "2. Shipping (warehouse $j$ must be opened to allow shipping)\n",
    "$$\n",
    "a_{ij} \\leq s_j\n",
    "$$"
   ]
  },
  {
   "cell_type": "code",
   "execution_count": 1,
   "id": "29c82bb6-d2c9-446a-9211-1a2dbc4e93ce",
   "metadata": {
    "slideshow": {
     "slide_type": "skip"
    }
   },
   "outputs": [],
   "source": [
    "from math import sqrt\n",
    "from itertools import product\n",
    "\n",
    "from ortools.linear_solver import pywraplp\n",
    "from ortools.init import pywrapinit"
   ]
  },
  {
   "cell_type": "code",
   "execution_count": 2,
   "id": "4699d2c9-1b5c-4464-b00f-7efdb453a10e",
   "metadata": {
    "slideshow": {
     "slide_type": "slide"
    }
   },
   "outputs": [],
   "source": [
    "# Parameters\n",
    "customers = [(0,1.5), (2.5,1.2)]\n",
    "facilities = [(0,0), (0,1), (0,2), (1,0), (1,1), (1,2), (2,0), (2,1), (2,2)]\n",
    "setup_cost = [3,2,3,1,3,3,4,3,2]\n",
    "cost_per_mile = 1"
   ]
  },
  {
   "cell_type": "code",
   "execution_count": 3,
   "id": "b806ddb2-d798-42f6-b3a5-13bcaa40d898",
   "metadata": {
    "slideshow": {
     "slide_type": "fragment"
    }
   },
   "outputs": [],
   "source": [
    "# This function determines the Euclidean distance between a facility and customer sites.\n",
    "def compute_distance(loc1, loc2):\n",
    "    dx = loc1[0] - loc2[0]\n",
    "    dy = loc1[1] - loc2[1]\n",
    "    return sqrt(dx*dx + dy*dy)"
   ]
  },
  {
   "cell_type": "code",
   "execution_count": 4,
   "id": "324b89b8-964a-4e95-b92a-7933e232c64c",
   "metadata": {
    "slideshow": {
     "slide_type": "fragment"
    }
   },
   "outputs": [],
   "source": [
    "# Compute key parameters of MIP model formulation\n",
    "num_facilities = len(facilities)\n",
    "num_customers = len(customers)\n",
    "cartesian_prod = list(product(range(num_customers), range(num_facilities)))"
   ]
  },
  {
   "cell_type": "code",
   "execution_count": 5,
   "id": "95d40ad7-6dc3-4626-8224-763fd90a4323",
   "metadata": {
    "slideshow": {
     "slide_type": "fragment"
    }
   },
   "outputs": [],
   "source": [
    "# Compute shipping costs\n",
    "shipping_cost = {(c,f): cost_per_mile*compute_distance(customers[c], facilities[f]) for c, f in cartesian_prod}"
   ]
  },
  {
   "cell_type": "code",
   "execution_count": 6,
   "id": "7d379022-aeaa-4327-a19a-e27a84a2a084",
   "metadata": {
    "slideshow": {
     "slide_type": "fragment"
    }
   },
   "outputs": [
    {
     "data": {
      "text/plain": [
       "[((0, 0), 1.5),\n",
       " ((0, 1), 0.5),\n",
       " ((0, 2), 0.5),\n",
       " ((0, 3), 1.8027756377319946),\n",
       " ((0, 4), 1.118033988749895)]"
      ]
     },
     "execution_count": 6,
     "metadata": {},
     "output_type": "execute_result"
    }
   ],
   "source": [
    "list(shipping_cost.items())[:5]"
   ]
  },
  {
   "cell_type": "code",
   "execution_count": 7,
   "id": "4d846c64-7a44-4e1e-912c-edf5ae1b146f",
   "metadata": {
    "slideshow": {
     "slide_type": "slide"
    }
   },
   "outputs": [],
   "source": [
    "# The COIN-OR Solver crashed \n",
    "# solver = pywraplp.Solver.CreateSolver('CBC_MIXED_INTEGER_PROGRAMMING')\n",
    "# Using SCIP for MIP problem (see https://developers.google.com/optimization/mip/mip_example)\n",
    "#\n",
    "# see all possible solvers here: https://google.github.io/or-tools/python/ortools/linear_solver/pywraplp.html\n",
    "solver = pywraplp.Solver.CreateSolver('SCIP_MIXED_INTEGER_PROGRAMMING')"
   ]
  },
  {
   "cell_type": "code",
   "execution_count": 8,
   "id": "1e5b7e2b-f8a3-42b9-9ad1-0fe5330ba7b0",
   "metadata": {
    "slideshow": {
     "slide_type": "fragment"
    }
   },
   "outputs": [],
   "source": [
    "# Variables\n",
    "select = {}\n",
    "for j in range(num_facilities):\n",
    "    select[j] = solver.BoolVar(\"Select\")\n",
    "assign = {}\n",
    "for i,j in shipping_cost.keys(): \n",
    "    assign[(i,j)] = solver.NumVar(0,1,\"Assign\")    "
   ]
  },
  {
   "cell_type": "code",
   "execution_count": 9,
   "id": "99d894d6-125d-4ad8-abbc-cfbb19b51c6c",
   "metadata": {
    "slideshow": {
     "slide_type": "fragment"
    }
   },
   "outputs": [],
   "source": [
    "# demand constraints\n",
    "for i in range(num_customers):\n",
    "    solver.Add(sum(assign[(i,j)] for j in range(num_facilities)) == 1)   \n",
    "# shipping constraints\n",
    "for i,j in cartesian_prod:\n",
    "    solver.Add(assign[(i,j)] <= select[j])"
   ]
  },
  {
   "cell_type": "code",
   "execution_count": 10,
   "id": "16ef20d2-a9cd-4e2d-a91e-75ae01d84cda",
   "metadata": {
    "slideshow": {
     "slide_type": "slide"
    }
   },
   "outputs": [],
   "source": [
    "objective = solver.Objective()\n",
    "# warehouse opening costs\n",
    "for j in range(num_facilities):\n",
    "    objective.SetCoefficient(select[j], setup_cost[j])\n",
    "# transportation costs    \n",
    "for i in range(num_customers):\n",
    "    for j in range(num_facilities):\n",
    "        objective.SetCoefficient(assign[(i,j)],shipping_cost[(i,j)]) \n",
    "objective.SetMinimization()        "
   ]
  },
  {
   "cell_type": "code",
   "execution_count": 11,
   "id": "8cc7fccb-a191-4536-ad70-466563926dba",
   "metadata": {
    "slideshow": {
     "slide_type": "slide"
    }
   },
   "outputs": [],
   "source": [
    "status = solver.Solve()"
   ]
  },
  {
   "cell_type": "code",
   "execution_count": 12,
   "id": "bc5e50cb-fbbf-458c-8876-736280499ec8",
   "metadata": {
    "slideshow": {
     "slide_type": "fragment"
    }
   },
   "outputs": [
    {
     "name": "stdout",
     "output_type": "stream",
     "text": [
      "Objective value = 4.723712908961849\n",
      "\n",
      "Problem solved in 17.000000 milliseconds\n",
      "Problem solved in 19 iterations\n",
      "Problem solved in 1 branch-and-bound nodes\n"
     ]
    }
   ],
   "source": [
    "if status == pywraplp.Solver.OPTIMAL:\n",
    "    print('Objective value =', solver.Objective().Value())\n",
    "    print()\n",
    "    print('Problem solved in %f milliseconds' % solver.wall_time())\n",
    "    print('Problem solved in %d iterations' % solver.iterations())\n",
    "    print('Problem solved in %d branch-and-bound nodes' % solver.nodes())\n",
    "else:\n",
    "    print('The problem does not have an optimal solution.')"
   ]
  },
  {
   "cell_type": "code",
   "execution_count": 13,
   "id": "306a4bfc-b3a7-49d8-8914-56003a68c1a5",
   "metadata": {
    "slideshow": {
     "slide_type": "slide"
    }
   },
   "outputs": [
    {
     "name": "stdout",
     "output_type": "stream",
     "text": [
      "\n",
      " Build a warehouse at location 4.\n"
     ]
    }
   ],
   "source": [
    "# display optimal values of decision variables\n",
    "for facility in select.keys():\n",
    "    if (abs(select[facility].solution_value()) > 1e-6):\n",
    "        print(f\"\\n Build a warehouse at location {facility + 1}.\")"
   ]
  },
  {
   "cell_type": "code",
   "execution_count": 14,
   "id": "97325d5c-7a69-475c-8432-ad4f1c75b897",
   "metadata": {
    "slideshow": {
     "slide_type": "fragment"
    }
   },
   "outputs": [
    {
     "name": "stdout",
     "output_type": "stream",
     "text": [
      "\n",
      " Supermarket 1 receives 100.0 % of its demand  from Warehouse 4 .\n",
      "\n",
      " Supermarket 2 receives 100.0 % of its demand  from Warehouse 4 .\n"
     ]
    }
   ],
   "source": [
    "# Shipments from facilities to customers.\n",
    "for customer, facility in assign.keys():\n",
    "    if (abs(assign[customer, facility].solution_value()) > 1e-6):\n",
    "        print(f\"\\n Supermarket {customer + 1} receives {round(100*assign[customer, facility].solution_value(), 2)} % of its demand  from Warehouse {facility + 1} .\")"
   ]
  },
  {
   "cell_type": "markdown",
   "id": "dc833323-e5e3-422f-ab60-39ec803fdf60",
   "metadata": {
    "slideshow": {
     "slide_type": "slide"
    }
   },
   "source": [
    "# Example 2 (capacitated FLP)\n",
    "\n",
    "In addition to example 1 we now want our supermarkets/customers to have different demands $d_i$ and the warehouses facilities have a fixed limited capacity $c$. The setup costs $f_i$ are assumed to be constant.\n",
    "\n",
    "Variables:\n",
    "- $s_j \\in {0,1}$ boolean variable = 1 if warehouse is build\n",
    "- $0 \\leq a_{ij} \\leq \\infty$ non-negative continuous variable, the amount of supply received by customer $i$ from warehouse $j$\n",
    "\n",
    "see \n",
    "- https://scipbook.readthedocs.io/en/latest/flp.html"
   ]
  },
  {
   "cell_type": "markdown",
   "id": "4799c184",
   "metadata": {
    "slideshow": {
     "slide_type": "slide"
    }
   },
   "source": [
    "Contraints:\n",
    "1. Demand (the demand $d_i$ of a supermarket/customer must be equal to the sum of supplies over all warehouses $j$)\n",
    "$$\n",
    "\\sum_j a_{ij} = d_i\n",
    "$$\n",
    "2. Shipping (warehouse $j$ must be opened to allow shipping)\n",
    "$$\n",
    "a_{ij} \\leq s_j d_i\n",
    "$$\n",
    "3. Capacity constraint (the sum of supplies over all customers $i$ for a open warehouse $j$ must be smaller than the capcaity $c$)\n",
    "$$\n",
    "\\sum_i a_{ij} \\leq s_j c\n",
    "$$"
   ]
  },
  {
   "cell_type": "code",
   "execution_count": 15,
   "id": "1f5c14d4-5f95-4793-ab1f-b51fd39df076",
   "metadata": {
    "slideshow": {
     "slide_type": "slide"
    }
   },
   "outputs": [],
   "source": [
    "setup_cost = 1000\n",
    "f_capacity = 500\n",
    "demands = [80, 270, 250, 160, 180]"
   ]
  },
  {
   "cell_type": "code",
   "execution_count": 16,
   "id": "8a066975",
   "metadata": {
    "slideshow": {
     "slide_type": "skip"
    }
   },
   "outputs": [],
   "source": [
    "costs = {}\n",
    "costs[0] = [4,5,6,8,10]\n",
    "costs[1] = [6,4,3,5,8]\n",
    "costs[2] = [9,7,4,3,4]\n",
    "\n",
    "shipping_cost = {}\n",
    "for i in range(len(demands)):\n",
    "    for j in costs.keys():\n",
    "        shipping_cost[(i,j)]=costs[j][i]"
   ]
  },
  {
   "cell_type": "code",
   "execution_count": 17,
   "id": "47472868-6382-4337-a820-531fc6e61862",
   "metadata": {
    "slideshow": {
     "slide_type": "skip"
    }
   },
   "outputs": [],
   "source": [
    "solver = pywraplp.Solver.CreateSolver('SCIP_MIXED_INTEGER_PROGRAMMING')"
   ]
  },
  {
   "cell_type": "code",
   "execution_count": 18,
   "id": "99f9e542-7cb6-44f7-9c10-3d118ad80223",
   "metadata": {
    "slideshow": {
     "slide_type": "skip"
    }
   },
   "outputs": [],
   "source": [
    "num_facilities = len(costs.keys())\n",
    "num_customers = len(demands)"
   ]
  },
  {
   "cell_type": "code",
   "execution_count": 19,
   "id": "0adfbe2c-b711-4b89-8a9e-03ff6f59eaa3",
   "metadata": {
    "slideshow": {
     "slide_type": "skip"
    }
   },
   "outputs": [],
   "source": [
    "# Variables\n",
    "select = {}\n",
    "for j in range(num_facilities):\n",
    "    select[j] = solver.BoolVar(\"Select\")\n",
    "assign = {}\n",
    "for i,j in shipping_cost.keys(): \n",
    "    assign[(i,j)] = solver.NumVar(0,solver.infinity(),\"Assign\")    "
   ]
  },
  {
   "cell_type": "code",
   "execution_count": 20,
   "id": "64721d8e-c192-4750-8b2f-3746ae5544f2",
   "metadata": {
    "slideshow": {
     "slide_type": "fragment"
    }
   },
   "outputs": [],
   "source": [
    "# demand constraints\n",
    "for i in range(num_customers):\n",
    "    solver.Add(sum(assign[(i,j)] for j in range(num_facilities)) == demands[i] )\n",
    "# shipping constraints\n",
    "for i,j in shipping_cost.keys():\n",
    "    solver.Add(assign[(i,j)] <= select[j]*demands[i])\n",
    "# capacity constraints\n",
    "for j in range(num_facilities):\n",
    "    solver.Add(sum(assign[(i,j)] for i in range(num_customers)) <= select[j]*f_capacity)    "
   ]
  },
  {
   "cell_type": "code",
   "execution_count": 21,
   "id": "07f6cee9-b6dd-4f08-ae39-86a9eddd29c5",
   "metadata": {
    "slideshow": {
     "slide_type": "skip"
    }
   },
   "outputs": [],
   "source": [
    "objective = solver.Objective()\n",
    "# warehouse opening costs\n",
    "for j in range(num_facilities):\n",
    "    objective.SetCoefficient(select[j], setup_cost)\n",
    "# transportation costs    \n",
    "for i in range(num_customers):\n",
    "    for j in range(num_facilities):\n",
    "        objective.SetCoefficient(assign[(i,j)],shipping_cost[(i,j)]) \n",
    "objective.SetMinimization()  "
   ]
  },
  {
   "cell_type": "code",
   "execution_count": 22,
   "id": "b4a25513-86a9-48bc-9fa9-6ef3d1c07a2e",
   "metadata": {
    "slideshow": {
     "slide_type": "skip"
    }
   },
   "outputs": [],
   "source": [
    "status = solver.Solve()"
   ]
  },
  {
   "cell_type": "code",
   "execution_count": 23,
   "id": "262840a2-38ee-4d48-8acc-02c33a073302",
   "metadata": {
    "slideshow": {
     "slide_type": "skip"
    }
   },
   "outputs": [
    {
     "name": "stdout",
     "output_type": "stream",
     "text": [
      "Objective value = 5610.000000000001\n",
      "\n",
      "Problem solved in 21.000000 milliseconds\n",
      "Problem solved in 18 iterations\n",
      "Problem solved in 1 branch-and-bound nodes\n"
     ]
    }
   ],
   "source": [
    "if status == pywraplp.Solver.OPTIMAL:\n",
    "    print('Objective value =', solver.Objective().Value())\n",
    "    print()\n",
    "    print('Problem solved in %f milliseconds' % solver.wall_time())\n",
    "    print('Problem solved in %d iterations' % solver.iterations())\n",
    "    print('Problem solved in %d branch-and-bound nodes' % solver.nodes())\n",
    "else:\n",
    "    print('The problem does not have an optimal solution.')"
   ]
  },
  {
   "cell_type": "code",
   "execution_count": 24,
   "id": "d535f62c-6704-42e6-8fbf-b10a65e19136",
   "metadata": {
    "slideshow": {
     "slide_type": "slide"
    }
   },
   "outputs": [
    {
     "name": "stdout",
     "output_type": "stream",
     "text": [
      "\n",
      " Build a warehouse at location 2.\n",
      "\n",
      " Build a warehouse at location 3.\n"
     ]
    }
   ],
   "source": [
    "# display optimal values of decision variables\n",
    "for facility in select.keys():\n",
    "    if (abs(select[facility].solution_value()) > 1e-6):\n",
    "        print(f\"\\n Build a warehouse at location {facility + 1}.\")"
   ]
  },
  {
   "cell_type": "code",
   "execution_count": 25,
   "id": "34cab451-d0ff-40e1-af83-92a6af17ccf7",
   "metadata": {
    "slideshow": {
     "slide_type": "fragment"
    }
   },
   "outputs": [
    {
     "name": "stdout",
     "output_type": "stream",
     "text": [
      "\n",
      " Supermarket 1 receives 80.0 of its demand 80 from Warehouse 2 .\n",
      "\n",
      " Supermarket 2 receives 270.0 of its demand 270 from Warehouse 2 .\n",
      "\n",
      " Supermarket 3 receives 150.0 of its demand 250 from Warehouse 2 .\n",
      "\n",
      " Supermarket 3 receives 100.0 of its demand 250 from Warehouse 3 .\n",
      "\n",
      " Supermarket 4 receives 160.0 of its demand 160 from Warehouse 3 .\n",
      "\n",
      " Supermarket 5 receives 180.0 of its demand 180 from Warehouse 3 .\n"
     ]
    }
   ],
   "source": [
    "# Shipments from facilities to customers.\n",
    "for customer, facility in assign.keys():\n",
    "    if (abs(assign[customer, facility].solution_value()) > 1e-6):\n",
    "        print(f\"\\n Supermarket {customer + 1} receives {round(assign[customer, facility].solution_value(), 2)} of its demand {demands[customer]} from Warehouse {facility + 1} .\")"
   ]
  },
  {
   "cell_type": "code",
   "execution_count": null,
   "id": "996ba277-a048-418d-a65b-408c1e5c2d94",
   "metadata": {},
   "outputs": [],
   "source": []
  }
 ],
 "metadata": {
  "celltoolbar": "Slideshow",
  "kernelspec": {
   "display_name": "Python 3 (ipykernel)",
   "language": "python",
   "name": "python3"
  },
  "language_info": {
   "codemirror_mode": {
    "name": "ipython",
    "version": 3
   },
   "file_extension": ".py",
   "mimetype": "text/x-python",
   "name": "python",
   "nbconvert_exporter": "python",
   "pygments_lexer": "ipython3",
   "version": "3.10.6"
  }
 },
 "nbformat": 4,
 "nbformat_minor": 5
}
