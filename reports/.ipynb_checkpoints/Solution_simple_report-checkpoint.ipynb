{
 "cells": [
  {
   "cell_type": "markdown",
   "id": "7991c8cb-05f4-4bef-ab5a-12fa40c998a3",
   "metadata": {
    "slideshow": {
     "slide_type": "slide"
    }
   },
   "source": [
    "# Simplified Shell Hackathon problem\n",
    "\n",
    "How many parking slots with chargers installed as in 2018 do we need to open to fulfill electricity demand of 2018?\n",
    "\n",
    "This is a capacitated FLP completely analogeous to our example 2, except parking slot/facility capacities vary."
   ]
  },
  {
   "cell_type": "code",
   "execution_count": 1,
   "id": "22dabfdc-c2c9-43b7-9d07-d5aa3aba339a",
   "metadata": {
    "slideshow": {
     "slide_type": "skip"
    }
   },
   "outputs": [],
   "source": [
    "from math import sqrt\n",
    "from itertools import product\n",
    "\n",
    "import pandas as pd\n",
    "\n",
    "from ortools.linear_solver import pywraplp\n",
    "from ortools.init import pywrapinit"
   ]
  },
  {
   "cell_type": "code",
   "execution_count": 2,
   "id": "4eab6a9d-4618-4720-af5d-1bc4c0214a1b",
   "metadata": {
    "slideshow": {
     "slide_type": "slide"
    }
   },
   "outputs": [],
   "source": [
    "supply = pd.read_csv(\"../data/raw/exisiting_EV_infrastructure_2018.csv\")\n",
    "demand = pd.read_csv(\"../data/raw/Demand_History.csv\")"
   ]
  },
  {
   "cell_type": "code",
   "execution_count": 3,
   "id": "cdecd70d-e72b-4548-a0ee-81c5c3df13fe",
   "metadata": {
    "slideshow": {
     "slide_type": "fragment"
    }
   },
   "outputs": [],
   "source": [
    "slow_charger = 200\n",
    "fast_charger = 400"
   ]
  },
  {
   "cell_type": "code",
   "execution_count": 4,
   "id": "617c1387-082b-4b33-8336-2d3a656da712",
   "metadata": {
    "slideshow": {
     "slide_type": "fragment"
    }
   },
   "outputs": [],
   "source": [
    "setup_cost = 1\n",
    "# assume fixed capacities of parking slots \n",
    "capacities = (supply[\"existing_num_SCS\"]*slow_charger + supply[\"existing_num_FCS\"]*fast_charger).tolist()\n",
    "demands = demand[\"2018\"].tolist()"
   ]
  },
  {
   "cell_type": "code",
   "execution_count": 5,
   "id": "cf50b013-f163-4f96-bf02-131d6f69e386",
   "metadata": {
    "slideshow": {
     "slide_type": "fragment"
    }
   },
   "outputs": [
    {
     "data": {
      "text/plain": [
       "(True, 361600, 361529.6365968905)"
      ]
     },
     "execution_count": 5,
     "metadata": {},
     "output_type": "execute_result"
    }
   ],
   "source": [
    "sum(capacities) > sum(demands), sum(capacities), sum(demands)"
   ]
  },
  {
   "cell_type": "markdown",
   "id": "5c281313-fe4d-4ec5-ba88-1870fcc8f878",
   "metadata": {
    "slideshow": {
     "slide_type": "fragment"
    }
   },
   "source": [
    "The total capacity is suspiciously close to total demand. Are the numbers of shell hackathon problem generated artificially? This suggest that we definitely need all parking slots opened."
   ]
  },
  {
   "cell_type": "code",
   "execution_count": 6,
   "id": "f4755826-32e4-444a-8ff7-eb2e35c34c37",
   "metadata": {
    "slideshow": {
     "slide_type": "slide"
    }
   },
   "outputs": [],
   "source": [
    "# facilities are parking slots\n",
    "facilities = list(supply[[\"x_coordinate\",\"y_coordinate\"]].itertuples(index=False, name=None))\n",
    "# customers are areas of electricity demand\n",
    "customers = list(demand[[\"x_coordinate\",\"y_coordinate\"]].itertuples(index=False, name=None))"
   ]
  },
  {
   "cell_type": "code",
   "execution_count": 7,
   "id": "d43a25b0-225e-48ce-96de-0709599b606a",
   "metadata": {
    "slideshow": {
     "slide_type": "skip"
    }
   },
   "outputs": [],
   "source": [
    "# Compute key parameters of MIP model formulation\n",
    "num_facilities = len(facilities)\n",
    "num_customers = len(customers)\n",
    "cartesian_prod = list(product(range(num_customers), range(num_facilities)))"
   ]
  },
  {
   "cell_type": "code",
   "execution_count": 8,
   "id": "94c200f3-da10-43a3-b81b-cda682e2373f",
   "metadata": {
    "slideshow": {
     "slide_type": "skip"
    }
   },
   "outputs": [],
   "source": [
    "# This function determines the Euclidean distance between a facility and customer sites.\n",
    "def compute_distance(loc1, loc2):\n",
    "    dx = loc1[0] - loc2[0]\n",
    "    dy = loc1[1] - loc2[1]\n",
    "    return sqrt(dx*dx + dy*dy)"
   ]
  },
  {
   "cell_type": "code",
   "execution_count": 9,
   "id": "812b0fee-4bb5-4db4-a593-5850bbf697d9",
   "metadata": {
    "slideshow": {
     "slide_type": "fragment"
    }
   },
   "outputs": [],
   "source": [
    "# Compute distance matrix\n",
    "distance = {(c,f): compute_distance(customers[c], facilities[f]) for c, f in cartesian_prod}"
   ]
  },
  {
   "cell_type": "code",
   "execution_count": 10,
   "id": "f2bf8300-7946-4f36-9dee-a7ec549b1e05",
   "metadata": {
    "slideshow": {
     "slide_type": "skip"
    }
   },
   "outputs": [],
   "source": [
    "solver = pywraplp.Solver.CreateSolver('SCIP_MIXED_INTEGER_PROGRAMMING')"
   ]
  },
  {
   "cell_type": "code",
   "execution_count": 11,
   "id": "8fd7f424-c245-4468-8488-01c97f73923b",
   "metadata": {
    "slideshow": {
     "slide_type": "skip"
    }
   },
   "outputs": [],
   "source": [
    "# Variables\n",
    "select = {}\n",
    "for j in range(num_facilities):\n",
    "    select[j] = solver.BoolVar(\"Select\")\n",
    "assign = {}\n",
    "for i,j in distance.keys(): \n",
    "    assign[(i,j)] = solver.NumVar(0,solver.infinity(),\"Assign\")    "
   ]
  },
  {
   "cell_type": "code",
   "execution_count": 12,
   "id": "2def00e4-1918-4662-8b24-db2bb6c3b4ba",
   "metadata": {
    "slideshow": {
     "slide_type": "skip"
    }
   },
   "outputs": [],
   "source": [
    "# demand constraints\n",
    "for i in range(num_customers):\n",
    "    solver.Add(sum(assign[(i,j)] for j in range(num_facilities)) == demands[i] )\n",
    "# shipping constraints\n",
    "for i,j in distance.keys():\n",
    "    solver.Add(assign[(i,j)] <= select[j]*demands[i])\n",
    "# capacity constraints\n",
    "for j in range(num_facilities):\n",
    "    solver.Add(sum(assign[(i,j)] for i in range(num_customers)) <= select[j]*capacities[j])    "
   ]
  },
  {
   "cell_type": "code",
   "execution_count": 13,
   "id": "4911f3eb-53a5-43fd-90ba-49125218e0a8",
   "metadata": {
    "slideshow": {
     "slide_type": "skip"
    }
   },
   "outputs": [],
   "source": [
    "objective = solver.Objective()\n",
    "# parking slot opening costs\n",
    "for j in range(num_facilities):\n",
    "    objective.SetCoefficient(select[j], setup_cost)\n",
    "# distance costs       \n",
    "for i in range(num_customers):\n",
    "    for j in range(num_facilities):\n",
    "        objective.SetCoefficient(assign[(i,j)],distance[(i,j)])\n",
    "objective.SetMinimization()        "
   ]
  },
  {
   "cell_type": "code",
   "execution_count": 14,
   "id": "d5441708-9794-4766-a02a-57950e2c756b",
   "metadata": {
    "slideshow": {
     "slide_type": "skip"
    }
   },
   "outputs": [],
   "source": [
    "status = solver.Solve()"
   ]
  },
  {
   "cell_type": "code",
   "execution_count": 15,
   "id": "afedbf5d-5536-4f1f-8448-0f3f55a56a59",
   "metadata": {
    "slideshow": {
     "slide_type": "skip"
    }
   },
   "outputs": [
    {
     "name": "stdout",
     "output_type": "stream",
     "text": [
      "Objective value = 2101966.1927448846\n",
      "\n",
      "Problem solved in 16493.000000 milliseconds\n",
      "Problem solved in 19474 iterations\n",
      "Problem solved in 1 branch-and-bound nodes\n"
     ]
    }
   ],
   "source": [
    "if status == pywraplp.Solver.OPTIMAL:\n",
    "    print('Objective value =', solver.Objective().Value())\n",
    "    print()\n",
    "    print('Problem solved in %f milliseconds' % solver.wall_time())\n",
    "    print('Problem solved in %d iterations' % solver.iterations())\n",
    "    print('Problem solved in %d branch-and-bound nodes' % solver.nodes())\n",
    "else:\n",
    "    print('The problem does not have an optimal solution.')"
   ]
  },
  {
   "cell_type": "code",
   "execution_count": 16,
   "id": "8e79c7d4-8449-4eea-8d53-1ca2796b867e",
   "metadata": {
    "slideshow": {
     "slide_type": "slide"
    }
   },
   "outputs": [
    {
     "name": "stdout",
     "output_type": "stream",
     "text": [
      "Open a parking lot at location 1.\n",
      "Open a parking lot at location 2.\n",
      "Open a parking lot at location 3.\n",
      "Open a parking lot at location 4.\n",
      "Open a parking lot at location 5.\n",
      "...\n",
      "Open a parking lot at location 96.\n",
      "Open a parking lot at location 97.\n",
      "Open a parking lot at location 98.\n",
      "Open a parking lot at location 99.\n",
      "Open a parking lot at location 100.\n",
      "Number of parking slots open: 100\n"
     ]
    }
   ],
   "source": [
    "# display optimal values of decision variables\n",
    "lines = []\n",
    "for facility in select.keys():\n",
    "    if (abs(select[facility].solution_value()) > 1e-6):\n",
    "        lines.append(f\"Open a parking lot at location {facility + 1}.\")\n",
    "for line in lines[:5]: print(line)\n",
    "print(\"...\")\n",
    "for line in lines[-5:]: print(line)\n",
    "    \n",
    "print(\"Number of parking slots open:\", len(lines))    "
   ]
  },
  {
   "cell_type": "code",
   "execution_count": 17,
   "id": "fb5736fc-567f-48c5-b53e-ca11affc1704",
   "metadata": {
    "slideshow": {
     "slide_type": "slide"
    }
   },
   "outputs": [
    {
     "name": "stdout",
     "output_type": "stream",
     "text": [
      "Demand point 1 receives 13.12 of its demand 13.119572063684156 from parking slot 39 .\n",
      "Demand point 2 receives 12.02 of its demand 12.020090866258569 from parking slot 39 .\n",
      "Demand point 3 receives 14.02 of its demand 14.018253749831027 from parking slot 39 .\n",
      "Demand point 4 receives 15.01 of its demand 15.012302116613936 from parking slot 39 .\n",
      "Demand point 5 receives 16.36 of its demand 16.355563054111933 from parking slot 39 .\n",
      "...\n",
      "Demand point 4092 receives 5.43 of its demand 5.426192736874994 from parking slot 3 .\n",
      "Demand point 4093 receives 2.06 of its demand 2.057449824611969 from parking slot 3 .\n",
      "Demand point 4094 receives 3.22 of its demand 3.218518575941802 from parking slot 3 .\n",
      "Demand point 4095 receives 6.26 of its demand 6.262573820751901 from parking slot 3 .\n",
      "Demand point 4096 receives 6.86 of its demand 6.860939370983753 from parking slot 3 .\n"
     ]
    }
   ],
   "source": [
    "# Shipments from facilities to customers.\n",
    "lines = []\n",
    "for customer, facility in assign.keys():\n",
    "    if (abs(assign[customer, facility].solution_value()) > 1e-6):\n",
    "        lines.append(f\"Demand point {customer + 1} receives {round(assign[customer, facility].solution_value(), 2)} of its demand {demands[customer]} from parking slot {facility + 1} .\")\n",
    "for line in lines[:5]: print(line)\n",
    "print(\"...\")\n",
    "for line in lines[-5:]: print(line)"
   ]
  },
  {
   "cell_type": "code",
   "execution_count": null,
   "id": "6d46fdce-01a2-49aa-8e22-d4e849cb94c9",
   "metadata": {},
   "outputs": [],
   "source": []
  }
 ],
 "metadata": {
  "celltoolbar": "Slideshow",
  "kernelspec": {
   "display_name": "Python 3 (ipykernel)",
   "language": "python",
   "name": "python3"
  },
  "language_info": {
   "codemirror_mode": {
    "name": "ipython",
    "version": 3
   },
   "file_extension": ".py",
   "mimetype": "text/x-python",
   "name": "python",
   "nbconvert_exporter": "python",
   "pygments_lexer": "ipython3",
   "version": "3.10.6"
  }
 },
 "nbformat": 4,
 "nbformat_minor": 5
}
