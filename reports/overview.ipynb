{
 "cells": [
  {
   "cell_type": "markdown",
   "id": "8298e4ff",
   "metadata": {
    "slideshow": {
     "slide_type": "slide"
    }
   },
   "source": [
    "# Overview Shell Hackathon\n",
    "\n",
    "PART 1:\n",
    "1. Split problem into \n",
    "    - time series prediction\n",
    "    - optimization under constraints\n",
    "2. Solve time series prediction using rolling window regression\n",
    "\n",
    "PART 2:\n",
    "1. Find a framework/tool to solve constraint optimization problems"
   ]
  },
  {
   "cell_type": "markdown",
   "id": "b6294e36",
   "metadata": {
    "slideshow": {
     "slide_type": "slide"
    }
   },
   "source": [
    "**PART 3**:\n",
    "1. Identify optimization problem as facility location problem (FLP)\n",
    "2. Reproduce example solution of FLP using tools from PART 2\n",
    "3. Modify and extend example code from 2. to solve the full optimization problem\n",
    "4. Construct the solution file for submission "
   ]
  },
  {
   "cell_type": "code",
   "execution_count": null,
   "id": "067ffece",
   "metadata": {
    "slideshow": {
     "slide_type": "skip"
    }
   },
   "outputs": [],
   "source": []
  }
 ],
 "metadata": {
  "celltoolbar": "Slideshow",
  "kernelspec": {
   "display_name": "Python 3 (ipykernel)",
   "language": "python",
   "name": "python3"
  },
  "language_info": {
   "codemirror_mode": {
    "name": "ipython",
    "version": 3
   },
   "file_extension": ".py",
   "mimetype": "text/x-python",
   "name": "python",
   "nbconvert_exporter": "python",
   "pygments_lexer": "ipython3",
   "version": "3.10.6"
  }
 },
 "nbformat": 4,
 "nbformat_minor": 5
}
