{
 "cells": [
  {
   "cell_type": "markdown",
   "id": "ae8edd7f",
   "metadata": {
    "slideshow": {
     "slide_type": "slide"
    }
   },
   "source": [
    "# Facility location problem\n",
    "\n",
    "Determine location of new factories based on \n",
    "- transportation distance, costs \n",
    "- facility opening/maintenance cost\n",
    "- demand\n",
    "- capacitated : facilities have limited capcacity\n",
    "- choose the best of a number of fixed locations    \n",
    "    "
   ]
  },
  {
   "cell_type": "markdown",
   "id": "538f7042-3c30-436d-bdf6-9566723cd15f",
   "metadata": {},
   "source": [
    "See https://colab.research.google.com/github/Gurobi/modeling-examples/blob/master/facility_location/facility_location_gcl.ipynb"
   ]
  },
  {
   "cell_type": "code",
   "execution_count": 7,
   "id": "29c82bb6-d2c9-446a-9211-1a2dbc4e93ce",
   "metadata": {},
   "outputs": [],
   "source": [
    "from math import sqrt\n",
    "from itertools import product"
   ]
  },
  {
   "cell_type": "code",
   "execution_count": 8,
   "id": "4699d2c9-1b5c-4464-b00f-7efdb453a10e",
   "metadata": {},
   "outputs": [],
   "source": [
    "# Parameters\n",
    "customers = [(0,1.5), (2.5,1.2)]\n",
    "facilities = [(0,0), (0,1), (0,2), (1,0), (1,1), (1,2), (2,0), (2,1), (2,2)]\n",
    "setup_cost = [3,2,3,1,3,3,4,3,2]\n",
    "cost_per_mile = 1"
   ]
  },
  {
   "cell_type": "code",
   "execution_count": 9,
   "id": "b806ddb2-d798-42f6-b3a5-13bcaa40d898",
   "metadata": {},
   "outputs": [],
   "source": [
    "# This function determines the Euclidean distance between a facility and customer sites.\n",
    "\n",
    "def compute_distance(loc1, loc2):\n",
    "    dx = loc1[0] - loc2[0]\n",
    "    dy = loc1[1] - loc2[1]\n",
    "    return sqrt(dx*dx + dy*dy)"
   ]
  },
  {
   "cell_type": "code",
   "execution_count": 10,
   "id": "324b89b8-964a-4e95-b92a-7933e232c64c",
   "metadata": {},
   "outputs": [],
   "source": [
    "# Compute key parameters of MIP model formulation\n",
    "\n",
    "num_facilities = len(facilities)\n",
    "num_customers = len(customers)\n",
    "cartesian_prod = list(product(range(num_customers), range(num_facilities)))"
   ]
  },
  {
   "cell_type": "code",
   "execution_count": 11,
   "id": "95d40ad7-6dc3-4626-8224-763fd90a4323",
   "metadata": {},
   "outputs": [],
   "source": [
    "# Compute shipping costs\n",
    "\n",
    "shipping_cost = {(c,f): cost_per_mile*compute_distance(customers[c], facilities[f]) for c, f in cartesian_prod}"
   ]
  },
  {
   "cell_type": "code",
   "execution_count": 12,
   "id": "7d379022-aeaa-4327-a19a-e27a84a2a084",
   "metadata": {},
   "outputs": [
    {
     "data": {
      "text/plain": [
       "{(0, 0): 1.5,\n",
       " (0, 1): 0.5,\n",
       " (0, 2): 0.5,\n",
       " (0, 3): 1.8027756377319946,\n",
       " (0, 4): 1.118033988749895,\n",
       " (0, 5): 1.118033988749895,\n",
       " (0, 6): 2.5,\n",
       " (0, 7): 2.0615528128088303,\n",
       " (0, 8): 2.0615528128088303,\n",
       " (1, 0): 2.773084924772409,\n",
       " (1, 1): 2.5079872407968904,\n",
       " (1, 2): 2.6248809496813377,\n",
       " (1, 3): 1.9209372712298547,\n",
       " (1, 4): 1.5132745950421556,\n",
       " (1, 5): 1.7,\n",
       " (1, 6): 1.3,\n",
       " (1, 7): 0.5385164807134504,\n",
       " (1, 8): 0.9433981132056605}"
      ]
     },
     "execution_count": 12,
     "metadata": {},
     "output_type": "execute_result"
    }
   ],
   "source": [
    "shipping_cost"
   ]
  },
  {
   "cell_type": "code",
   "execution_count": 13,
   "id": "4d846c64-7a44-4e1e-912c-edf5ae1b146f",
   "metadata": {},
   "outputs": [],
   "source": [
    "# Using SCIP for MIP problem (see https://developers.google.com/optimization/mip/mip_example)\n",
    "\n",
    "# solver = pywraplp.Solver.CreateSolver('CBC_MIXED_INTEGER_PROGRAMMING')\n",
    "solver = pywraplp.Solver.CreateSolver('SCIP_MIXED_INTEGER_PROGRAMMING')"
   ]
  },
  {
   "cell_type": "code",
   "execution_count": 14,
   "id": "1e5b7e2b-f8a3-42b9-9ad1-0fe5330ba7b0",
   "metadata": {},
   "outputs": [],
   "source": [
    "select = {}\n",
    "for j in range(num_facilities):\n",
    "    select[j] = solver.BoolVar(\"Select\")"
   ]
  },
  {
   "cell_type": "code",
   "execution_count": 15,
   "id": "d076fa87-ff0a-4fdc-bf62-7cbc53946160",
   "metadata": {},
   "outputs": [],
   "source": [
    "assign = {}\n",
    "for i,j in shipping_cost.keys(): \n",
    "    assign[(i,j)] = solver.NumVar(0,1,\"Assign\")"
   ]
  },
  {
   "cell_type": "code",
   "execution_count": 16,
   "id": "99d894d6-125d-4ad8-abbc-cfbb19b51c6c",
   "metadata": {},
   "outputs": [],
   "source": [
    "# shipping constraints\n",
    "for i,j in cartesian_prod:\n",
    "    solver.Add(assign[(i,j)] <= select[j])"
   ]
  },
  {
   "cell_type": "code",
   "execution_count": 17,
   "id": "e26c9d84-0e15-43ed-aaab-20a9fe675e24",
   "metadata": {},
   "outputs": [],
   "source": [
    "# demand constraints\n",
    "for i in range(num_customers):\n",
    "    solver.Add(sum(assign[(i,j)] for j in range(num_facilities)) == 1)        "
   ]
  },
  {
   "cell_type": "code",
   "execution_count": 18,
   "id": "16ef20d2-a9cd-4e2d-a91e-75ae01d84cda",
   "metadata": {},
   "outputs": [],
   "source": [
    "objective = solver.Objective()"
   ]
  },
  {
   "cell_type": "code",
   "execution_count": 19,
   "id": "18e92400-ce80-4e5a-a987-74cc68ebbc40",
   "metadata": {},
   "outputs": [],
   "source": [
    "for j in range(num_facilities):\n",
    "    objective.SetCoefficient(select[j], setup_cost[j])"
   ]
  },
  {
   "cell_type": "code",
   "execution_count": 20,
   "id": "93689298-e411-4f1f-8908-1b746c5fc865",
   "metadata": {},
   "outputs": [],
   "source": [
    "for i in range(num_customers):\n",
    "    for j in range(num_facilities):\n",
    "        objective.SetCoefficient(assign[(i,j)],shipping_cost[(i,j)])"
   ]
  },
  {
   "cell_type": "code",
   "execution_count": 21,
   "id": "4dae3395-08f3-4056-b690-3a0aaada08a4",
   "metadata": {},
   "outputs": [],
   "source": [
    "objective.SetMinimization()"
   ]
  },
  {
   "cell_type": "code",
   "execution_count": 22,
   "id": "8cc7fccb-a191-4536-ad70-466563926dba",
   "metadata": {},
   "outputs": [],
   "source": [
    "status = solver.Solve()"
   ]
  },
  {
   "cell_type": "code",
   "execution_count": 23,
   "id": "bc5e50cb-fbbf-458c-8876-736280499ec8",
   "metadata": {},
   "outputs": [
    {
     "name": "stdout",
     "output_type": "stream",
     "text": [
      "Objective value = 4.723712908961849\n",
      "\n",
      "Problem solved in 36.000000 milliseconds\n",
      "Problem solved in 19 iterations\n",
      "Problem solved in 1 branch-and-bound nodes\n"
     ]
    }
   ],
   "source": [
    "if status == pywraplp.Solver.OPTIMAL:\n",
    "    print('Objective value =', solver.Objective().Value())\n",
    "    print()\n",
    "    print('Problem solved in %f milliseconds' % solver.wall_time())\n",
    "    print('Problem solved in %d iterations' % solver.iterations())\n",
    "    print('Problem solved in %d branch-and-bound nodes' % solver.nodes())\n",
    "else:\n",
    "    print('The problem does not have an optimal solution.')"
   ]
  },
  {
   "cell_type": "code",
   "execution_count": 24,
   "id": "306a4bfc-b3a7-49d8-8914-56003a68c1a5",
   "metadata": {},
   "outputs": [
    {
     "name": "stdout",
     "output_type": "stream",
     "text": [
      "\n",
      " Build a warehouse at location 4.\n"
     ]
    }
   ],
   "source": [
    "# display optimal values of decision variables\n",
    "\n",
    "for facility in select.keys():\n",
    "    if (abs(select[facility].solution_value()) > 1e-6):\n",
    "        print(f\"\\n Build a warehouse at location {facility + 1}.\")"
   ]
  },
  {
   "cell_type": "code",
   "execution_count": 25,
   "id": "97325d5c-7a69-475c-8432-ad4f1c75b897",
   "metadata": {},
   "outputs": [
    {
     "name": "stdout",
     "output_type": "stream",
     "text": [
      "\n",
      " Supermarket 1 receives 100.0 % of its demand  from Warehouse 4 .\n",
      "\n",
      " Supermarket 2 receives 100.0 % of its demand  from Warehouse 4 .\n"
     ]
    }
   ],
   "source": [
    "# Shipments from facilities to customers.\n",
    "\n",
    "for customer, facility in assign.keys():\n",
    "    if (abs(assign[customer, facility].solution_value()) > 1e-6):\n",
    "        print(f\"\\n Supermarket {customer + 1} receives {round(100*assign[customer, facility].solution_value(), 2)} % of its demand  from Warehouse {facility + 1} .\")"
   ]
  },
  {
   "cell_type": "markdown",
   "id": "dc833323-e5e3-422f-ab60-39ec803fdf60",
   "metadata": {},
   "source": [
    "# facility location problem 2\n",
    "see https://scipbook.readthedocs.io/en/latest/flp.html"
   ]
  },
  {
   "cell_type": "code",
   "execution_count": 26,
   "id": "1f5c14d4-5f95-4793-ab1f-b51fd39df076",
   "metadata": {},
   "outputs": [],
   "source": [
    "setup_cost = 1000\n",
    "f_capacity = 500\n",
    "\n",
    "demands = [80, 270, 250, 160, 180]\n",
    "costs = {}\n",
    "costs[0] = [4,5,6,8,10]\n",
    "costs[1] = [6,4,3,5,8]\n",
    "costs[2] = [9,7,4,3,4]\n",
    "\n",
    "c = {}\n",
    "\n",
    "for i in range(len(demands)):\n",
    "    for j in costs.keys():\n",
    "        c[(i,j)]=costs[j][i]"
   ]
  },
  {
   "cell_type": "code",
   "execution_count": 27,
   "id": "47472868-6382-4337-a820-531fc6e61862",
   "metadata": {},
   "outputs": [],
   "source": [
    "solver = pywraplp.Solver.CreateSolver('SCIP_MIXED_INTEGER_PROGRAMMING')"
   ]
  },
  {
   "cell_type": "code",
   "execution_count": 28,
   "id": "99f9e542-7cb6-44f7-9c10-3d118ad80223",
   "metadata": {},
   "outputs": [],
   "source": [
    "num_facilities = len(costs.keys())\n",
    "num_customers = len(demands)"
   ]
  },
  {
   "cell_type": "code",
   "execution_count": 29,
   "id": "0adfbe2c-b711-4b89-8a9e-03ff6f59eaa3",
   "metadata": {},
   "outputs": [],
   "source": [
    "select = {}\n",
    "for j in range(num_facilities):\n",
    "    select[j] = solver.BoolVar(\"Select\")"
   ]
  },
  {
   "cell_type": "code",
   "execution_count": 30,
   "id": "a9c07142-0243-4e77-9759-627695b1fc9e",
   "metadata": {},
   "outputs": [],
   "source": [
    "# boundaries\n",
    "assign = {}\n",
    "for i,j in c.keys(): \n",
    "    assign[(i,j)] = solver.NumVar(0,solver.infinity(),\"Assign\")"
   ]
  },
  {
   "cell_type": "code",
   "execution_count": 31,
   "id": "64721d8e-c192-4750-8b2f-3746ae5544f2",
   "metadata": {},
   "outputs": [],
   "source": [
    "# shipping constraints\n",
    "for i,j in c.keys():\n",
    "    solver.Add(assign[(i,j)] <= select[j]*demands[i])"
   ]
  },
  {
   "cell_type": "code",
   "execution_count": 32,
   "id": "21651407-af11-4306-b50e-b3e238531271",
   "metadata": {},
   "outputs": [],
   "source": [
    "# demand constraints\n",
    "for i in range(num_customers):\n",
    "    solver.Add(sum(assign[(i,j)] for j in range(num_facilities)) == demands[i] )"
   ]
  },
  {
   "cell_type": "code",
   "execution_count": 33,
   "id": "96e68a66-6099-4eac-bfd6-89fd61e2ee3b",
   "metadata": {},
   "outputs": [],
   "source": [
    "# capacity constraints\n",
    "for j in range(num_facilities):\n",
    "    solver.Add(sum(assign[(i,j)] for i in range(num_customers)) <= select[j]*f_capacity)"
   ]
  },
  {
   "cell_type": "code",
   "execution_count": 34,
   "id": "07f6cee9-b6dd-4f08-ae39-86a9eddd29c5",
   "metadata": {},
   "outputs": [],
   "source": [
    "objective = solver.Objective()"
   ]
  },
  {
   "cell_type": "code",
   "execution_count": 35,
   "id": "d171928a-a291-416f-bd85-226cb404f551",
   "metadata": {},
   "outputs": [],
   "source": [
    "for j in range(num_facilities):\n",
    "    objective.SetCoefficient(select[j], setup_cost)"
   ]
  },
  {
   "cell_type": "code",
   "execution_count": 36,
   "id": "709f1d92-4b45-4d3b-a491-bc1d8b0359b5",
   "metadata": {},
   "outputs": [],
   "source": [
    "for i in range(num_customers):\n",
    "    for j in range(num_facilities):\n",
    "        objective.SetCoefficient(assign[(i,j)],c[(i,j)])"
   ]
  },
  {
   "cell_type": "code",
   "execution_count": 37,
   "id": "23d4c5ae-ffc4-4200-9f76-72af97621b07",
   "metadata": {},
   "outputs": [],
   "source": [
    "objective.SetMinimization()"
   ]
  },
  {
   "cell_type": "code",
   "execution_count": 38,
   "id": "b4a25513-86a9-48bc-9fa9-6ef3d1c07a2e",
   "metadata": {},
   "outputs": [],
   "source": [
    "status = solver.Solve()"
   ]
  },
  {
   "cell_type": "code",
   "execution_count": 39,
   "id": "262840a2-38ee-4d48-8acc-02c33a073302",
   "metadata": {},
   "outputs": [
    {
     "name": "stdout",
     "output_type": "stream",
     "text": [
      "Objective value = 5610.000000000001\n",
      "\n",
      "Problem solved in 35.000000 milliseconds\n",
      "Problem solved in 18 iterations\n",
      "Problem solved in 1 branch-and-bound nodes\n"
     ]
    }
   ],
   "source": [
    "if status == pywraplp.Solver.OPTIMAL:\n",
    "    print('Objective value =', solver.Objective().Value())\n",
    "    print()\n",
    "    print('Problem solved in %f milliseconds' % solver.wall_time())\n",
    "    print('Problem solved in %d iterations' % solver.iterations())\n",
    "    print('Problem solved in %d branch-and-bound nodes' % solver.nodes())\n",
    "else:\n",
    "    print('The problem does not have an optimal solution.')"
   ]
  },
  {
   "cell_type": "code",
   "execution_count": 40,
   "id": "d535f62c-6704-42e6-8fbf-b10a65e19136",
   "metadata": {},
   "outputs": [
    {
     "name": "stdout",
     "output_type": "stream",
     "text": [
      "\n",
      " Build a warehouse at location 2.\n",
      "\n",
      " Build a warehouse at location 3.\n"
     ]
    }
   ],
   "source": [
    "# display optimal values of decision variables\n",
    "\n",
    "for facility in select.keys():\n",
    "    if (abs(select[facility].solution_value()) > 1e-6):\n",
    "        print(f\"\\n Build a warehouse at location {facility + 1}.\")"
   ]
  },
  {
   "cell_type": "code",
   "execution_count": 41,
   "id": "34cab451-d0ff-40e1-af83-92a6af17ccf7",
   "metadata": {},
   "outputs": [
    {
     "name": "stdout",
     "output_type": "stream",
     "text": [
      "\n",
      " Supermarket 1 receives 80.0 of its demand 80 from Warehouse 2 .\n",
      "\n",
      " Supermarket 2 receives 270.0 of its demand 270 from Warehouse 2 .\n",
      "\n",
      " Supermarket 3 receives 150.0 of its demand 250 from Warehouse 2 .\n",
      "\n",
      " Supermarket 3 receives 100.0 of its demand 250 from Warehouse 3 .\n",
      "\n",
      " Supermarket 4 receives 160.0 of its demand 160 from Warehouse 3 .\n",
      "\n",
      " Supermarket 5 receives 180.0 of its demand 180 from Warehouse 3 .\n"
     ]
    }
   ],
   "source": [
    "# Shipments from facilities to customers.\n",
    "\n",
    "for customer, facility in assign.keys():\n",
    "    if (abs(assign[customer, facility].solution_value()) > 1e-6):\n",
    "        print(f\"\\n Supermarket {customer + 1} receives {round(assign[customer, facility].solution_value(), 2)} of its demand {demands[customer]} from Warehouse {facility + 1} .\")"
   ]
  },
  {
   "cell_type": "code",
   "execution_count": null,
   "id": "996ba277-a048-418d-a65b-408c1e5c2d94",
   "metadata": {},
   "outputs": [],
   "source": []
  }
 ],
 "metadata": {
  "celltoolbar": "Slideshow",
  "kernelspec": {
   "display_name": "Python 3 (ipykernel)",
   "language": "python",
   "name": "python3"
  },
  "language_info": {
   "codemirror_mode": {
    "name": "ipython",
    "version": 3
   },
   "file_extension": ".py",
   "mimetype": "text/x-python",
   "name": "python",
   "nbconvert_exporter": "python",
   "pygments_lexer": "ipython3",
   "version": "3.10.6"
  }
 },
 "nbformat": 4,
 "nbformat_minor": 5
}
