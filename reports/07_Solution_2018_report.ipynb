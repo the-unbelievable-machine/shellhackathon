{
 "cells": [
  {
   "cell_type": "markdown",
   "id": "f30e087c-bc05-4c02-98b3-eefd33365952",
   "metadata": {
    "slideshow": {
     "slide_type": "slide"
    }
   },
   "source": [
    "# Shell Hackathon Solution 2018\n",
    "\n",
    "We know that the total capacity of the installed charger in 2018 meets the demand of 2018 nearly exactly. So the optimal number of chargers to be build should be zero."
   ]
  },
  {
   "cell_type": "code",
   "execution_count": 6,
   "id": "22dabfdc-c2c9-43b7-9d07-d5aa3aba339a",
   "metadata": {
    "slideshow": {
     "slide_type": "skip"
    }
   },
   "outputs": [],
   "source": [
    "from math import sqrt\n",
    "from itertools import product\n",
    "\n",
    "import pandas as pd\n",
    "\n",
    "from ortools.linear_solver import pywraplp\n",
    "from ortools.init import pywrapinit"
   ]
  },
  {
   "cell_type": "code",
   "execution_count": 7,
   "id": "4eab6a9d-4618-4720-af5d-1bc4c0214a1b",
   "metadata": {
    "slideshow": {
     "slide_type": "slide"
    }
   },
   "outputs": [],
   "source": [
    "supply = pd.read_csv(\"../data/raw/exisiting_EV_infrastructure_2018.csv\")\n",
    "demand = pd.read_csv(\"../data/raw/Demand_History.csv\")"
   ]
  },
  {
   "cell_type": "code",
   "execution_count": 8,
   "id": "bca7a09f-b61c-4f96-b390-c22ba102aa6b",
   "metadata": {
    "slideshow": {
     "slide_type": "fragment"
    }
   },
   "outputs": [],
   "source": [
    "slow_charger = 200\n",
    "slow_costs = 1.0*600\n",
    "fast_charger = 400\n",
    "fast_costs = 1.5*600"
   ]
  },
  {
   "cell_type": "markdown",
   "id": "9cb4451f-16c8-4365-be9d-649b18c6654d",
   "metadata": {
    "slideshow": {
     "slide_type": "fragment"
    }
   },
   "source": [
    "A fast charger delivers twice the capacity but cost only 1.5 times the amount of a slow charger. Building fast chargers is therefor optimal."
   ]
  },
  {
   "cell_type": "code",
   "execution_count": 9,
   "id": "23754f48-6645-4cc6-bb18-80eb1237fde4",
   "metadata": {
    "slideshow": {
     "slide_type": "slide"
    }
   },
   "outputs": [],
   "source": [
    "# real capacities\n",
    "real_capacities = (supply[\"existing_num_SCS\"]*slow_charger + supply[\"existing_num_FCS\"]*fast_charger).tolist()\n",
    "# maximum theoretical capacities\n",
    "capacities = (supply[\"total_parking_slots\"]*fast_charger).tolist()\n",
    "demands = demand[\"2018\"].tolist()"
   ]
  },
  {
   "cell_type": "code",
   "execution_count": 10,
   "id": "cd5d19fc-920b-40f8-b6dd-1d0cf24d8552",
   "metadata": {
    "slideshow": {
     "slide_type": "fragment"
    }
   },
   "outputs": [
    {
     "data": {
      "text/plain": [
       "(True, 1000000, 361529.6365968905, 361600)"
      ]
     },
     "execution_count": 10,
     "metadata": {},
     "output_type": "execute_result"
    }
   ],
   "source": [
    "sum(capacities) > sum(demands), sum(capacities), sum(demands), sum(real_capacities)"
   ]
  },
  {
   "cell_type": "markdown",
   "id": "6c6f3b18-145d-4996-abbd-d26390385cc3",
   "metadata": {
    "slideshow": {
     "slide_type": "fragment"
    }
   },
   "source": [
    "The maximal capacity of all parking slots is more than enough to fulfill the demand."
   ]
  },
  {
   "cell_type": "code",
   "execution_count": 11,
   "id": "1a0ea4be-5fc5-4243-bb31-cc52b7bd9856",
   "metadata": {
    "slideshow": {
     "slide_type": "skip"
    }
   },
   "outputs": [],
   "source": [
    "# facilities are parking slots\n",
    "facilities = list(supply[[\"x_coordinate\",\"y_coordinate\"]].itertuples(index=False, name=None))\n",
    "# customers are areas of electricity demand\n",
    "customers = list(demand[[\"x_coordinate\",\"y_coordinate\"]].itertuples(index=False, name=None))"
   ]
  },
  {
   "cell_type": "code",
   "execution_count": 12,
   "id": "dae99d50-163e-4446-9f31-d000cd737697",
   "metadata": {
    "slideshow": {
     "slide_type": "skip"
    }
   },
   "outputs": [],
   "source": [
    "# Compute key parameters of MIP model formulation\n",
    "num_facilities = len(facilities)\n",
    "num_customers = len(customers)\n",
    "cartesian_prod = list(product(range(num_customers), range(num_facilities)))"
   ]
  },
  {
   "cell_type": "code",
   "execution_count": 13,
   "id": "94c200f3-da10-43a3-b81b-cda682e2373f",
   "metadata": {
    "slideshow": {
     "slide_type": "skip"
    }
   },
   "outputs": [],
   "source": [
    "# This function determines the Euclidean distance between a facility and customer sites.\n",
    "def compute_distance(loc1, loc2):\n",
    "    dx = loc1[0] - loc2[0]\n",
    "    dy = loc1[1] - loc2[1]\n",
    "    return sqrt(dx*dx + dy*dy)"
   ]
  },
  {
   "cell_type": "code",
   "execution_count": 14,
   "id": "812b0fee-4bb5-4db4-a593-5850bbf697d9",
   "metadata": {
    "slideshow": {
     "slide_type": "skip"
    }
   },
   "outputs": [],
   "source": [
    "# Compute distance matrix\n",
    "distance = {(c,f): compute_distance(customers[c], facilities[f]) for c, f in cartesian_prod}"
   ]
  },
  {
   "cell_type": "code",
   "execution_count": 15,
   "id": "87dfb597-81be-4651-9679-2615be713ec1",
   "metadata": {
    "slideshow": {
     "slide_type": "slide"
    }
   },
   "outputs": [],
   "source": [
    "# maximum slots for chargers\n",
    "slots = supply[\"total_parking_slots\"].tolist()\n",
    "\n",
    "# existing chargers\n",
    "slow_slots = supply[\"existing_num_SCS\"].tolist()\n",
    "fast_slots = supply[\"existing_num_FCS\"].tolist()"
   ]
  },
  {
   "cell_type": "code",
   "execution_count": 16,
   "id": "b22cba30-ddb7-4adf-a4bb-b58b4fd84ff1",
   "metadata": {
    "slideshow": {
     "slide_type": "skip"
    }
   },
   "outputs": [],
   "source": [
    "## For testing set number of slots to zero\n",
    "# slow_slots = [0]*len(facilities)\n",
    "# fast_slots = [0]*len(facilities)"
   ]
  },
  {
   "cell_type": "code",
   "execution_count": 17,
   "id": "f2bf8300-7946-4f36-9dee-a7ec549b1e05",
   "metadata": {
    "slideshow": {
     "slide_type": "skip"
    }
   },
   "outputs": [],
   "source": [
    "solver = pywraplp.Solver.CreateSolver('SCIP_MIXED_INTEGER_PROGRAMMING')"
   ]
  },
  {
   "cell_type": "code",
   "execution_count": 19,
   "id": "5cad8f30-3b17-4141-ae5b-20c015cd83c3",
   "metadata": {
    "slideshow": {
     "slide_type": "slide"
    }
   },
   "outputs": [],
   "source": [
    "# Variables\n",
    "assign = {}\n",
    "for i,j in distance.keys(): \n",
    "    assign[(i,j)] = solver.NumVar(0,solver.infinity(),\"Assign\")\n",
    "# Do not delete existing chargers (Constraint/Boundaries 2) \n",
    "slow = {}\n",
    "for j in range(num_facilities):\n",
    "    slow[j] = solver.IntVar(slow_slots[j], solver.infinity(), \"Slow\")\n",
    "fast = {}\n",
    "for j in range(num_facilities):\n",
    "    fast[j] = solver.IntVar(fast_slots[j], solver.infinity(), \"Fast\")          "
   ]
  },
  {
   "cell_type": "code",
   "execution_count": 20,
   "id": "7714909d-614d-43a2-ac94-52e515b53f1f",
   "metadata": {
    "slideshow": {
     "slide_type": "fragment"
    }
   },
   "outputs": [],
   "source": [
    "# Constraint 3 (slots)\n",
    "for j in range(num_facilities):\n",
    "    solver.Add(slow[j] + fast[j] <= slots[j])\n",
    "# Constraint 5 (capacity constraints)\n",
    "for j in range(num_facilities):\n",
    "    solver.Add(sum(assign[(i,j)] for i in range(num_customers)) <= (slow[j]*200 + fast[j]*400))\n",
    "# Constraint 6 (demand constraints)\n",
    "for i in range(num_customers):\n",
    "    solver.Add(sum(assign[(i,j)] for j in range(num_facilities)) == demands[i] )    "
   ]
  },
  {
   "cell_type": "code",
   "execution_count": 22,
   "id": "4911f3eb-53a5-43fd-90ba-49125218e0a8",
   "metadata": {
    "slideshow": {
     "slide_type": "slide"
    }
   },
   "outputs": [],
   "source": [
    "objective = solver.Objective()\n",
    "# Building costs for chargers\n",
    "for j in range(num_facilities):\n",
    "    objective.SetCoefficient(slow[j], slow_costs)\n",
    "for j in range(num_facilities):\n",
    "    objective.SetCoefficient(fast[j], fast_costs)\n",
    "# distance costs\n",
    "for i in range(num_customers):\n",
    "    for j in range(num_facilities):\n",
    "        objective.SetCoefficient(assign[(i,j)],distance[(i,j)]) \n",
    "objective.SetMinimization()    "
   ]
  },
  {
   "cell_type": "markdown",
   "id": "26f3828d",
   "metadata": {
    "slideshow": {
     "slide_type": "fragment"
    }
   },
   "source": [
    "The Shell Hackathon cost function includes the MAE of the demand prediction as additional term. We know the exact demand for 2018, so this term is zero. For 2019/2020 we cannot compute the term, because we only have the predicted values, but not the exact ones."
   ]
  },
  {
   "cell_type": "code",
   "execution_count": 23,
   "id": "d5441708-9794-4766-a02a-57950e2c756b",
   "metadata": {
    "slideshow": {
     "slide_type": "skip"
    }
   },
   "outputs": [],
   "source": [
    "status = solver.Solve()"
   ]
  },
  {
   "cell_type": "code",
   "execution_count": 24,
   "id": "afedbf5d-5536-4f1f-8448-0f3f55a56a59",
   "metadata": {
    "slideshow": {
     "slide_type": "skip"
    }
   },
   "outputs": [
    {
     "name": "stdout",
     "output_type": "stream",
     "text": [
      "Objective value = 2276576.673923479\n",
      "\n",
      "Problem solved in 366545.000000 milliseconds\n",
      "Problem solved in 14110 iterations\n",
      "Problem solved in 1 branch-and-bound nodes\n"
     ]
    }
   ],
   "source": [
    "if status == pywraplp.Solver.OPTIMAL:\n",
    "    print('Objective value =', solver.Objective().Value())\n",
    "    print()\n",
    "    print('Problem solved in %f milliseconds' % solver.wall_time())\n",
    "    print('Problem solved in %d iterations' % solver.iterations())\n",
    "    print('Problem solved in %d branch-and-bound nodes' % solver.nodes())\n",
    "else:\n",
    "    print('The problem does not have an optimal solution.')"
   ]
  },
  {
   "cell_type": "code",
   "execution_count": 29,
   "id": "8e79c7d4-8449-4eea-8d53-1ca2796b867e",
   "metadata": {
    "slideshow": {
     "slide_type": "slide"
    }
   },
   "outputs": [
    {
     "name": "stdout",
     "output_type": "stream",
     "text": [
      "Build 0.0 slow charger  and 6.0 fast charger at location 1.\n",
      "Build 0.0 slow charger  and 8.0 fast charger at location 11.\n",
      "Build 0.0 slow charger  and 8.0 fast charger at location 13.\n",
      "Build 0.0 slow charger  and 5.0 fast charger at location 16.\n",
      "Build 0.0 slow charger  and 3.0 fast charger at location 18.\n",
      "...\n",
      "Build 0.0 slow charger  and 10.0 fast charger at location 91.\n",
      "Build 0.0 slow charger  and 10.0 fast charger at location 93.\n",
      "Build 0.0 slow charger  and 3.0 fast charger at location 96.\n",
      "Build 0.0 slow charger  and 7.0 fast charger at location 97.\n",
      "Build 0.0 slow charger  and 1.0 fast charger at location 98.\n",
      "Number of construction sites: 24\n"
     ]
    }
   ],
   "source": [
    "# display optimal values of decision variables\n",
    "lines = []\n",
    "for j in range(num_facilities):\n",
    "    build_slow = slow[j].solution_value() - slow_slots[j]\n",
    "    build_fast = fast[j].solution_value() - fast_slots[j]\n",
    "    if build_slow > 0 or build_fast > 0: \n",
    "        lines.append(f\"Build {slow[j].solution_value() - slow_slots[j]} slow charger  and {fast[j].solution_value() - fast_slots[j]} fast charger at location {j + 1}.\")\n",
    "for line in lines[:5]: print(line)\n",
    "print(\"...\")\n",
    "for line in lines[-5:]: print(line)\n",
    "    \n",
    "print(\"Number of construction sites:\", len(lines))          "
   ]
  },
  {
   "cell_type": "markdown",
   "id": "3cb7976a-7909-48a8-99fd-d4c559e18ca3",
   "metadata": {
    "slideshow": {
     "slide_type": "fragment"
    }
   },
   "source": [
    "Surprisingly we find that according to our solver we should build additional chargers at 24 parking slots."
   ]
  },
  {
   "cell_type": "code",
   "execution_count": 32,
   "id": "6d46fdce-01a2-49aa-8e22-d4e849cb94c9",
   "metadata": {
    "slideshow": {
     "slide_type": "slide"
    }
   },
   "outputs": [],
   "source": [
    "# compute the total electricity supply of our solution\n",
    "total_supply = 0\n",
    "for j in range(num_facilities):\n",
    "    total_supply += slow[j].solution_value()*200 + fast[j].solution_value()*400"
   ]
  },
  {
   "cell_type": "code",
   "execution_count": 31,
   "id": "9e0baf8e-bfa3-4b7c-8313-73abd2fe049b",
   "metadata": {
    "slideshow": {
     "slide_type": "fragment"
    }
   },
   "outputs": [
    {
     "data": {
      "text/plain": [
       "(361529.6365968905, 429600.0)"
      ]
     },
     "execution_count": 31,
     "metadata": {},
     "output_type": "execute_result"
    }
   ],
   "source": [
    "sum(demands), total_supply "
   ]
  },
  {
   "cell_type": "markdown",
   "id": "abe8ec54-ddc1-4baf-a2a9-dbd9326e89c4",
   "metadata": {
    "slideshow": {
     "slide_type": "fragment"
    }
   },
   "source": [
    "Our supply is much bigger that our demand. I don't understand why the solver comes up with that. Maybe this lowers the distance costs?"
   ]
  },
  {
   "cell_type": "code",
   "execution_count": 34,
   "id": "332b2988-8f97-42b0-b12a-86e3e116a8c4",
   "metadata": {
    "slideshow": {
     "slide_type": "slide"
    }
   },
   "outputs": [],
   "source": [
    "# compute the total demand of our solution\n",
    "total_demand = 0.0\n",
    "for i in range(num_customers):\n",
    "    for j in range(num_facilities):\n",
    "        total_demand += assign[(i,j)].solution_value()"
   ]
  },
  {
   "cell_type": "code",
   "execution_count": 35,
   "id": "b9899130-6998-41e7-987e-74c56c006914",
   "metadata": {
    "slideshow": {
     "slide_type": "fragment"
    }
   },
   "outputs": [
    {
     "data": {
      "text/plain": [
       "(361529.6365968905, 361529.6365968906)"
      ]
     },
     "execution_count": 35,
     "metadata": {},
     "output_type": "execute_result"
    }
   ],
   "source": [
    "sum(demands), total_demand"
   ]
  },
  {
   "cell_type": "markdown",
   "id": "46f6d47e-7d82-4da8-b34a-da76abdf06d4",
   "metadata": {
    "slideshow": {
     "slide_type": "fragment"
    }
   },
   "source": [
    "The total demand of our solution is exactly the sum of input demands. So we don't violate that constraint. "
   ]
  },
  {
   "cell_type": "code",
   "execution_count": 27,
   "id": "f4b0535d-90d9-4f27-8c52-b78b58fcf836",
   "metadata": {
    "slideshow": {
     "slide_type": "skip"
    }
   },
   "outputs": [
    {
     "name": "stdout",
     "output_type": "stream",
     "text": [
      "Demand point 1 receives 13.12 of its demand 13.12 from parking slot 39 .\n",
      "Demand point 2 receives 12.02 of its demand 12.02 from parking slot 39 .\n",
      "Demand point 3 receives 14.02 of its demand 14.02 from parking slot 39 .\n",
      "Demand point 4 receives 15.01 of its demand 15.01 from parking slot 39 .\n",
      "Demand point 5 receives 16.36 of its demand 16.36 from parking slot 39 .\n",
      "...\n",
      "Demand point 4092 receives 5.43 of its demand 5.43 from parking slot 17 .\n",
      "Demand point 4093 receives 2.06 of its demand 2.06 from parking slot 17 .\n",
      "Demand point 4094 receives 3.22 of its demand 3.22 from parking slot 17 .\n",
      "Demand point 4095 receives 6.26 of its demand 6.26 from parking slot 17 .\n",
      "Demand point 4096 receives 6.86 of its demand 6.86 from parking slot 17 .\n"
     ]
    }
   ],
   "source": [
    "# Shipments from facilities to customers.\n",
    "lines = []\n",
    "for i, j in assign.keys():\n",
    "    if (abs(assign[i, j].solution_value()) > 1e-6):\n",
    "        lines.append(f\"Demand point {i + 1} receives {round(assign[i, j].solution_value(), 2)} of its demand {round(demands[i],2)} from parking slot {j + 1} .\")\n",
    "for line in lines[:5]: print(line)\n",
    "print(\"...\")\n",
    "for line in lines[-5:]: print(line)        "
   ]
  },
  {
   "cell_type": "code",
   "execution_count": null,
   "id": "e9b8f07e-d640-492f-a7a5-6527a3b608e8",
   "metadata": {
    "slideshow": {
     "slide_type": "skip"
    }
   },
   "outputs": [],
   "source": []
  }
 ],
 "metadata": {
  "celltoolbar": "Slideshow",
  "kernelspec": {
   "display_name": "Python 3 (ipykernel)",
   "language": "python",
   "name": "python3"
  },
  "language_info": {
   "codemirror_mode": {
    "name": "ipython",
    "version": 3
   },
   "file_extension": ".py",
   "mimetype": "text/x-python",
   "name": "python",
   "nbconvert_exporter": "python",
   "pygments_lexer": "ipython3",
   "version": "3.10.6"
  }
 },
 "nbformat": 4,
 "nbformat_minor": 5
}
