{
 "cells": [
  {
   "cell_type": "markdown",
   "id": "41fb4b02-6aa0-43bc-959f-7ce2758fa4cf",
   "metadata": {
    "slideshow": {
     "slide_type": "slide"
    }
   },
   "source": [
    "# Shell Hackathon Solution 2019\n",
    "\n",
    "This is the same code as for the solution for 2018, except that we use the predicted electricity demand of 2019 as input. We also create an output file with our solution for the infrastructure to be build, which we use then as input for \n",
    "the prediction for 2020."
   ]
  },
  {
   "cell_type": "code",
   "execution_count": 1,
   "id": "22dabfdc-c2c9-43b7-9d07-d5aa3aba339a",
   "metadata": {
    "slideshow": {
     "slide_type": "skip"
    }
   },
   "outputs": [],
   "source": [
    "from math import sqrt\n",
    "from itertools import product\n",
    "\n",
    "import pandas as pd\n",
    "\n",
    "from ortools.linear_solver import pywraplp\n",
    "from ortools.init import pywrapinit"
   ]
  },
  {
   "cell_type": "code",
   "execution_count": 2,
   "id": "4eab6a9d-4618-4720-af5d-1bc4c0214a1b",
   "metadata": {
    "slideshow": {
     "slide_type": "slide"
    }
   },
   "outputs": [],
   "source": [
    "supply = pd.read_csv(\"../data/raw/exisiting_EV_infrastructure_2018.csv\")\n",
    "demand = pd.read_csv(\"../data/processed/Demand_Future.csv\")"
   ]
  },
  {
   "cell_type": "code",
   "execution_count": 3,
   "id": "1deb79d4-f333-4803-93ff-06e8f2ac01f2",
   "metadata": {
    "slideshow": {
     "slide_type": "skip"
    }
   },
   "outputs": [],
   "source": [
    "slow_charger = 200\n",
    "slow_costs = 1.0*600\n",
    "fast_charger = 400\n",
    "fast_costs = 1.5*600"
   ]
  },
  {
   "cell_type": "code",
   "execution_count": 4,
   "id": "06b0d5e4-6c9f-43d3-8725-d60fa520d6e8",
   "metadata": {
    "slideshow": {
     "slide_type": "fragment"
    }
   },
   "outputs": [],
   "source": [
    "# real capacities\n",
    "real_capacities = (supply[\"existing_num_SCS\"]*slow_charger + supply[\"existing_num_FCS\"]*fast_charger).tolist()\n",
    "# maximum theoretical capacities\n",
    "capacities = (supply[\"total_parking_slots\"]*fast_charger).tolist()\n",
    "demands = demand[\"2019\"].tolist()"
   ]
  },
  {
   "cell_type": "code",
   "execution_count": 5,
   "id": "91be63d7-61d6-4139-bc82-013a39c37e62",
   "metadata": {
    "slideshow": {
     "slide_type": "fragment"
    }
   },
   "outputs": [
    {
     "data": {
      "text/plain": [
       "(True, 1000000, 444363.90464364795, 361600)"
      ]
     },
     "execution_count": 5,
     "metadata": {},
     "output_type": "execute_result"
    }
   ],
   "source": [
    "sum(capacities) > sum(demands), sum(capacities), sum(demands), sum(real_capacities)"
   ]
  },
  {
   "cell_type": "markdown",
   "id": "4fb87031-391e-4e6c-8519-af83d1fbe239",
   "metadata": {
    "slideshow": {
     "slide_type": "fragment"
    }
   },
   "source": [
    "Also for 2019 the maximal capacity of all parking slots is more than enough to fulfill the demand. "
   ]
  },
  {
   "cell_type": "code",
   "execution_count": 7,
   "id": "8beab95d-c3a7-4642-a347-118c2c505fea",
   "metadata": {
    "slideshow": {
     "slide_type": "skip"
    }
   },
   "outputs": [],
   "source": [
    "# facilities are parking slots\n",
    "facilities = list(supply[[\"x_coordinate\",\"y_coordinate\"]].itertuples(index=False, name=None))\n",
    "# customers are areas of electricity demand\n",
    "customers = list(demand[[\"x_coordinate\",\"y_coordinate\"]].itertuples(index=False, name=None))"
   ]
  },
  {
   "cell_type": "code",
   "execution_count": 8,
   "id": "febd0de9-4da5-46c6-9d38-198800cf6bb9",
   "metadata": {
    "slideshow": {
     "slide_type": "skip"
    }
   },
   "outputs": [],
   "source": [
    "# Compute key parameters of MIP model formulation\n",
    "num_facilities = len(facilities)\n",
    "num_customers = len(customers)\n",
    "cartesian_prod = list(product(range(num_customers), range(num_facilities)))"
   ]
  },
  {
   "cell_type": "code",
   "execution_count": 9,
   "id": "b9974651-c177-4968-98f4-1cc50a4faff9",
   "metadata": {
    "slideshow": {
     "slide_type": "skip"
    }
   },
   "outputs": [],
   "source": [
    "# This function determines the Euclidean distance between a facility and customer sites.\n",
    "def compute_distance(loc1, loc2):\n",
    "    dx = loc1[0] - loc2[0]\n",
    "    dy = loc1[1] - loc2[1]\n",
    "    return sqrt(dx*dx + dy*dy)"
   ]
  },
  {
   "cell_type": "code",
   "execution_count": 11,
   "id": "18c00bc2-01b2-4d1b-ada0-bc9204f75d7f",
   "metadata": {
    "slideshow": {
     "slide_type": "skip"
    }
   },
   "outputs": [],
   "source": [
    "# Compute distance matrix\n",
    "distance = {(c,f): compute_distance(customers[c], facilities[f]) for c, f in cartesian_prod}"
   ]
  },
  {
   "cell_type": "code",
   "execution_count": 12,
   "id": "617c1387-082b-4b33-8336-2d3a656da712",
   "metadata": {
    "slideshow": {
     "slide_type": "skip"
    }
   },
   "outputs": [],
   "source": [
    "# maximum slots for chargers\n",
    "slots = supply[\"total_parking_slots\"].tolist()\n",
    "\n",
    "# existing chargers\n",
    "slow_slots = supply[\"existing_num_SCS\"].tolist()\n",
    "fast_slots = supply[\"existing_num_FCS\"].tolist()"
   ]
  },
  {
   "cell_type": "code",
   "execution_count": 13,
   "id": "f2bf8300-7946-4f36-9dee-a7ec549b1e05",
   "metadata": {
    "slideshow": {
     "slide_type": "skip"
    }
   },
   "outputs": [],
   "source": [
    "solver = pywraplp.Solver.CreateSolver('SCIP_MIXED_INTEGER_PROGRAMMING')"
   ]
  },
  {
   "cell_type": "code",
   "execution_count": 14,
   "id": "5cad8f30-3b17-4141-ae5b-20c015cd83c3",
   "metadata": {
    "slideshow": {
     "slide_type": "skip"
    }
   },
   "outputs": [],
   "source": [
    "# Variables\n",
    "assign = {}\n",
    "for i,j in distance.keys(): \n",
    "    assign[(i,j)] = solver.NumVar(0,solver.infinity(),\"Assign\")\n",
    "# Do not delete existing chargers (Constraint/Boundaries 2) \n",
    "slow = {}\n",
    "for j in range(num_facilities):\n",
    "    slow[j] = solver.IntVar(slow_slots[j], solver.infinity(), \"Slow\")\n",
    "fast = {}\n",
    "for j in range(num_facilities):\n",
    "    fast[j] = solver.IntVar(fast_slots[j], solver.infinity(), \"Fast\")          "
   ]
  },
  {
   "cell_type": "code",
   "execution_count": 15,
   "id": "7714909d-614d-43a2-ac94-52e515b53f1f",
   "metadata": {
    "slideshow": {
     "slide_type": "skip"
    }
   },
   "outputs": [],
   "source": [
    "# Constraint 3 (slots)\n",
    "for j in range(num_facilities):\n",
    "    solver.Add(slow[j] + fast[j] <= slots[j])\n",
    "# Constraint 5 (capacity constraints)\n",
    "for j in range(num_facilities):\n",
    "    solver.Add(sum(assign[(i,j)] for i in range(num_customers)) <= (slow[j]*200 + fast[j]*400))\n",
    "# Constraint 6 (demand constraints)\n",
    "for i in range(num_customers):\n",
    "    solver.Add(sum(assign[(i,j)] for j in range(num_facilities)) == demands[i] )    "
   ]
  },
  {
   "cell_type": "code",
   "execution_count": 16,
   "id": "4911f3eb-53a5-43fd-90ba-49125218e0a8",
   "metadata": {
    "slideshow": {
     "slide_type": "skip"
    }
   },
   "outputs": [],
   "source": [
    "objective = solver.Objective()\n",
    "# Building costs for chargers\n",
    "for j in range(num_facilities):\n",
    "    objective.SetCoefficient(slow[j], slow_costs)\n",
    "for j in range(num_facilities):\n",
    "    objective.SetCoefficient(fast[j], fast_costs)\n",
    "# distance costs\n",
    "for i in range(num_customers):\n",
    "    for j in range(num_facilities):\n",
    "        objective.SetCoefficient(assign[(i,j)],distance[(i,j)]) \n",
    "objective.SetMinimization()    "
   ]
  },
  {
   "cell_type": "markdown",
   "id": "5f8b1eba-4b4d-4a05-afd6-805113be82ee",
   "metadata": {
    "slideshow": {
     "slide_type": "skip"
    }
   },
   "source": [
    "The Shell Hackathon cost function includes the MAE of the demand prediction as additional term. We know the exact demand for 2018, so this term is zero. For 2019/2020 we cannot compute the term, because we only have the predicted values, but not the exact ones."
   ]
  },
  {
   "cell_type": "code",
   "execution_count": 17,
   "id": "d5441708-9794-4766-a02a-57950e2c756b",
   "metadata": {
    "slideshow": {
     "slide_type": "skip"
    }
   },
   "outputs": [],
   "source": [
    "status = solver.Solve()"
   ]
  },
  {
   "cell_type": "code",
   "execution_count": 18,
   "id": "afedbf5d-5536-4f1f-8448-0f3f55a56a59",
   "metadata": {
    "slideshow": {
     "slide_type": "skip"
    }
   },
   "outputs": [
    {
     "name": "stdout",
     "output_type": "stream",
     "text": [
      "Objective value = 2778785.7865769984\n",
      "\n",
      "Problem solved in 245051.000000 milliseconds\n",
      "Problem solved in 21549 iterations\n",
      "Problem solved in 2 branch-and-bound nodes\n"
     ]
    }
   ],
   "source": [
    "if status == pywraplp.Solver.OPTIMAL:\n",
    "    print('Objective value =', solver.Objective().Value())\n",
    "    print()\n",
    "    print('Problem solved in %f milliseconds' % solver.wall_time())\n",
    "    print('Problem solved in %d iterations' % solver.iterations())\n",
    "    print('Problem solved in %d branch-and-bound nodes' % solver.nodes())\n",
    "else:\n",
    "    print('The problem does not have an optimal solution.')"
   ]
  },
  {
   "cell_type": "code",
   "execution_count": 30,
   "id": "8e79c7d4-8449-4eea-8d53-1ca2796b867e",
   "metadata": {
    "slideshow": {
     "slide_type": "slide"
    }
   },
   "outputs": [
    {
     "name": "stdout",
     "output_type": "stream",
     "text": [
      "...\n",
      "Build 0.0 slow charger  and 10.0 fast charger at location 91.\n",
      "Build 0.0 slow charger  and 10.0 fast charger at location 93.\n",
      "Build 0.0 slow charger  and 12.0 fast charger at location 96.\n",
      "Build 0.0 slow charger  and 14.0 fast charger at location 97.\n",
      "Build 0.0 slow charger  and 14.0 fast charger at location 98.\n",
      "Number of construction sites: 33\n"
     ]
    }
   ],
   "source": [
    "# display optimal values of decision variables\n",
    "lines = []\n",
    "for j in range(num_facilities):\n",
    "    build_slow = slow[j].solution_value() - slow_slots[j]\n",
    "    build_fast = fast[j].solution_value() - fast_slots[j]\n",
    "    if build_slow > 0 or build_fast > 0: \n",
    "        lines.append(f\"Build {slow[j].solution_value() - slow_slots[j]} slow charger  and {fast[j].solution_value() - fast_slots[j]} fast charger at location {j + 1}.\")\n",
    "#for line in lines[:5]: print(line)\n",
    "print(\"...\")\n",
    "for line in lines[-5:]: print(line)\n",
    "    \n",
    "print(\"Number of construction sites:\", len(lines))          "
   ]
  },
  {
   "cell_type": "markdown",
   "id": "4e17c719-f846-4dd9-b193-e9b5a1e75364",
   "metadata": {
    "slideshow": {
     "slide_type": "fragment"
    }
   },
   "source": [
    "According to our solver we should build additional chargers at 33 parking slots."
   ]
  },
  {
   "cell_type": "code",
   "execution_count": 20,
   "id": "6e79cfed-5552-4e87-9579-86fe8f4eb2e1",
   "metadata": {
    "slideshow": {
     "slide_type": "slide"
    }
   },
   "outputs": [
    {
     "data": {
      "text/plain": [
       "(444363.90464364795, 473600.0)"
      ]
     },
     "execution_count": 20,
     "metadata": {},
     "output_type": "execute_result"
    }
   ],
   "source": [
    "# compute the total electricity supply of our solution\n",
    "total_supply = 0\n",
    "for j in range(num_facilities):\n",
    "    total_supply += slow[j].solution_value()*200 + fast[j].solution_value()*400\n",
    "sum(demands), total_supply     "
   ]
  },
  {
   "cell_type": "markdown",
   "id": "3bd37a74-fae3-4b27-a33c-bdc19610a4f8",
   "metadata": {
    "slideshow": {
     "slide_type": "fragment"
    }
   },
   "source": [
    "In 2019 our total supply is closer to the predicted demand than in 2018."
   ]
  },
  {
   "cell_type": "code",
   "execution_count": 21,
   "id": "fb5736fc-567f-48c5-b53e-ca11affc1704",
   "metadata": {
    "slideshow": {
     "slide_type": "skip"
    },
    "tags": []
   },
   "outputs": [
    {
     "name": "stdout",
     "output_type": "stream",
     "text": [
      "Demand point 1 receives 19.36 of its demand 19.36 from parking slot 39 .\n",
      "Demand point 2 receives 19.9 of its demand 19.9 from parking slot 39 .\n",
      "Demand point 3 receives 19.39 of its demand 19.39 from parking slot 39 .\n",
      "Demand point 4 receives 21.28 of its demand 21.28 from parking slot 39 .\n",
      "Demand point 5 receives 20.79 of its demand 20.79 from parking slot 39 .\n",
      "...\n",
      "Demand point 4092 receives 8.41 of its demand 8.41 from parking slot 3 .\n",
      "Demand point 4093 receives 2.58 of its demand 2.58 from parking slot 3 .\n",
      "Demand point 4094 receives 4.79 of its demand 4.79 from parking slot 3 .\n",
      "Demand point 4095 receives 9.39 of its demand 9.39 from parking slot 17 .\n",
      "Demand point 4096 receives 10.35 of its demand 10.35 from parking slot 17 .\n"
     ]
    }
   ],
   "source": [
    "# Shipments from facilities to customers.\n",
    "lines = []\n",
    "for i, j in assign.keys():\n",
    "    if (abs(assign[i, j].solution_value()) > 1e-6):\n",
    "        lines.append(f\"Demand point {i + 1} receives {round(assign[i, j].solution_value(), 2)} of its demand {round(demands[i],2)} from parking slot {j + 1} .\")\n",
    "for line in lines[:5]: print(line)\n",
    "print(\"...\")\n",
    "for line in lines[-5:]: print(line)        "
   ]
  },
  {
   "cell_type": "markdown",
   "id": "a22e7822-07fe-402b-9df5-e7f375aff67f",
   "metadata": {
    "slideshow": {
     "slide_type": "slide"
    }
   },
   "source": [
    "### Creating result file for submission\n",
    "\n",
    "This file will later be used to create the final submission."
   ]
  },
  {
   "cell_type": "code",
   "execution_count": 22,
   "id": "e0ba55a8-5f95-4f58-9139-d7a6be3df3a6",
   "metadata": {
    "slideshow": {
     "slide_type": "fragment"
    }
   },
   "outputs": [],
   "source": [
    "slow_list = []\n",
    "for j in range(num_facilities):\n",
    "    slow_list.append((2019, \"SCS\", \"\", j, slow[j].solution_value()))\n",
    "fast_list = []\n",
    "for j in range(num_facilities):\n",
    "    fast_list.append((2019, \"FCS\", \"\", j, fast[j].solution_value()))    "
   ]
  },
  {
   "cell_type": "code",
   "execution_count": 23,
   "id": "0926221a-c81b-4a63-aa75-cc4d940c6cdb",
   "metadata": {
    "slideshow": {
     "slide_type": "fragment"
    }
   },
   "outputs": [],
   "source": [
    "assign_list = []\n",
    "for i in range(num_customers):\n",
    "    for j in range(num_facilities):\n",
    "        assign_list.append((2019, \"DS\", i, j, assign[(i,j)].solution_value()))"
   ]
  },
  {
   "cell_type": "code",
   "execution_count": 24,
   "id": "64e62b7c-2443-4ef7-8ee7-170d80cbf2ea",
   "metadata": {
    "slideshow": {
     "slide_type": "fragment"
    }
   },
   "outputs": [],
   "source": [
    "result = slow_list + fast_list + assign_list"
   ]
  },
  {
   "cell_type": "code",
   "execution_count": 28,
   "id": "e2f02156-4382-4b2a-91eb-c41dec4d47d1",
   "metadata": {
    "slideshow": {
     "slide_type": "slide"
    }
   },
   "outputs": [
    {
     "data": {
      "text/html": [
       "<div>\n",
       "<style scoped>\n",
       "    .dataframe tbody tr th:only-of-type {\n",
       "        vertical-align: middle;\n",
       "    }\n",
       "\n",
       "    .dataframe tbody tr th {\n",
       "        vertical-align: top;\n",
       "    }\n",
       "\n",
       "    .dataframe thead th {\n",
       "        text-align: right;\n",
       "    }\n",
       "</style>\n",
       "<table border=\"1\" class=\"dataframe\">\n",
       "  <thead>\n",
       "    <tr style=\"text-align: right;\">\n",
       "      <th></th>\n",
       "      <th>year</th>\n",
       "      <th>data_type</th>\n",
       "      <th>demand_point_index</th>\n",
       "      <th>supply_point_index</th>\n",
       "      <th>value</th>\n",
       "    </tr>\n",
       "  </thead>\n",
       "  <tbody>\n",
       "    <tr>\n",
       "      <th>0</th>\n",
       "      <td>2019</td>\n",
       "      <td>SCS</td>\n",
       "      <td></td>\n",
       "      <td>0</td>\n",
       "      <td>5.0</td>\n",
       "    </tr>\n",
       "    <tr>\n",
       "      <th>1</th>\n",
       "      <td>2019</td>\n",
       "      <td>SCS</td>\n",
       "      <td></td>\n",
       "      <td>1</td>\n",
       "      <td>4.0</td>\n",
       "    </tr>\n",
       "    <tr>\n",
       "      <th>2</th>\n",
       "      <td>2019</td>\n",
       "      <td>SCS</td>\n",
       "      <td></td>\n",
       "      <td>2</td>\n",
       "      <td>6.0</td>\n",
       "    </tr>\n",
       "    <tr>\n",
       "      <th>3</th>\n",
       "      <td>2019</td>\n",
       "      <td>SCS</td>\n",
       "      <td></td>\n",
       "      <td>3</td>\n",
       "      <td>5.0</td>\n",
       "    </tr>\n",
       "    <tr>\n",
       "      <th>4</th>\n",
       "      <td>2019</td>\n",
       "      <td>SCS</td>\n",
       "      <td></td>\n",
       "      <td>4</td>\n",
       "      <td>11.0</td>\n",
       "    </tr>\n",
       "    <tr>\n",
       "      <th>...</th>\n",
       "      <td>...</td>\n",
       "      <td>...</td>\n",
       "      <td>...</td>\n",
       "      <td>...</td>\n",
       "      <td>...</td>\n",
       "    </tr>\n",
       "    <tr>\n",
       "      <th>409795</th>\n",
       "      <td>2019</td>\n",
       "      <td>DS</td>\n",
       "      <td>4095</td>\n",
       "      <td>95</td>\n",
       "      <td>0.0</td>\n",
       "    </tr>\n",
       "    <tr>\n",
       "      <th>409796</th>\n",
       "      <td>2019</td>\n",
       "      <td>DS</td>\n",
       "      <td>4095</td>\n",
       "      <td>96</td>\n",
       "      <td>0.0</td>\n",
       "    </tr>\n",
       "    <tr>\n",
       "      <th>409797</th>\n",
       "      <td>2019</td>\n",
       "      <td>DS</td>\n",
       "      <td>4095</td>\n",
       "      <td>97</td>\n",
       "      <td>0.0</td>\n",
       "    </tr>\n",
       "    <tr>\n",
       "      <th>409798</th>\n",
       "      <td>2019</td>\n",
       "      <td>DS</td>\n",
       "      <td>4095</td>\n",
       "      <td>98</td>\n",
       "      <td>0.0</td>\n",
       "    </tr>\n",
       "    <tr>\n",
       "      <th>409799</th>\n",
       "      <td>2019</td>\n",
       "      <td>DS</td>\n",
       "      <td>4095</td>\n",
       "      <td>99</td>\n",
       "      <td>0.0</td>\n",
       "    </tr>\n",
       "  </tbody>\n",
       "</table>\n",
       "<p>409800 rows × 5 columns</p>\n",
       "</div>"
      ],
      "text/plain": [
       "        year data_type demand_point_index  supply_point_index  value\n",
       "0       2019       SCS                                      0    5.0\n",
       "1       2019       SCS                                      1    4.0\n",
       "2       2019       SCS                                      2    6.0\n",
       "3       2019       SCS                                      3    5.0\n",
       "4       2019       SCS                                      4   11.0\n",
       "...      ...       ...                ...                 ...    ...\n",
       "409795  2019        DS               4095                  95    0.0\n",
       "409796  2019        DS               4095                  96    0.0\n",
       "409797  2019        DS               4095                  97    0.0\n",
       "409798  2019        DS               4095                  98    0.0\n",
       "409799  2019        DS               4095                  99    0.0\n",
       "\n",
       "[409800 rows x 5 columns]"
      ]
     },
     "execution_count": 28,
     "metadata": {},
     "output_type": "execute_result"
    }
   ],
   "source": [
    "df_result = pd.DataFrame(result, columns=[\"year\", \"data_type\", \"demand_point_index\", \"supply_point_index\", \"value\"])\n",
    "df_result"
   ]
  },
  {
   "cell_type": "code",
   "execution_count": 39,
   "id": "2124d7cd-37cf-42ca-8c4b-4475d832b53a",
   "metadata": {
    "slideshow": {
     "slide_type": "skip"
    }
   },
   "outputs": [],
   "source": [
    "# commented out, so we don't overwrite the result\n",
    "# df_result.to_csv(\"../data/processed/result_2019.csv\")"
   ]
  },
  {
   "cell_type": "markdown",
   "id": "3c11ef6a-deea-46ea-87f1-33db712f47da",
   "metadata": {
    "slideshow": {
     "slide_type": "slide"
    }
   },
   "source": [
    "### Creating infrastructure file for 2019 \n",
    "\n",
    "We will use this file as basis for the optimization solution in 2020. This will make sure that we won't remove any chargers in 2020 compared to 2019."
   ]
  },
  {
   "cell_type": "code",
   "execution_count": 27,
   "id": "677fe0c0-1b64-4a97-aefd-452d92546dba",
   "metadata": {
    "slideshow": {
     "slide_type": "fragment"
    }
   },
   "outputs": [
    {
     "data": {
      "text/html": [
       "<div>\n",
       "<style scoped>\n",
       "    .dataframe tbody tr th:only-of-type {\n",
       "        vertical-align: middle;\n",
       "    }\n",
       "\n",
       "    .dataframe tbody tr th {\n",
       "        vertical-align: top;\n",
       "    }\n",
       "\n",
       "    .dataframe thead th {\n",
       "        text-align: right;\n",
       "    }\n",
       "</style>\n",
       "<table border=\"1\" class=\"dataframe\">\n",
       "  <thead>\n",
       "    <tr style=\"text-align: right;\">\n",
       "      <th></th>\n",
       "      <th>supply_point_index</th>\n",
       "      <th>x_coordinate</th>\n",
       "      <th>y_coordinate</th>\n",
       "      <th>total_parking_slots</th>\n",
       "      <th>existing_num_SCS</th>\n",
       "      <th>existing_num_FCS</th>\n",
       "    </tr>\n",
       "  </thead>\n",
       "  <tbody>\n",
       "    <tr>\n",
       "      <th>0</th>\n",
       "      <td>0</td>\n",
       "      <td>50.163110</td>\n",
       "      <td>19.412014</td>\n",
       "      <td>23</td>\n",
       "      <td>5.0</td>\n",
       "      <td>18.0</td>\n",
       "    </tr>\n",
       "    <tr>\n",
       "      <th>1</th>\n",
       "      <td>1</td>\n",
       "      <td>37.336451</td>\n",
       "      <td>58.119225</td>\n",
       "      <td>27</td>\n",
       "      <td>4.0</td>\n",
       "      <td>7.0</td>\n",
       "    </tr>\n",
       "    <tr>\n",
       "      <th>2</th>\n",
       "      <td>2</td>\n",
       "      <td>46.709232</td>\n",
       "      <td>57.525650</td>\n",
       "      <td>31</td>\n",
       "      <td>6.0</td>\n",
       "      <td>14.0</td>\n",
       "    </tr>\n",
       "    <tr>\n",
       "      <th>3</th>\n",
       "      <td>3</td>\n",
       "      <td>30.528626</td>\n",
       "      <td>55.379835</td>\n",
       "      <td>26</td>\n",
       "      <td>5.0</td>\n",
       "      <td>5.0</td>\n",
       "    </tr>\n",
       "    <tr>\n",
       "      <th>4</th>\n",
       "      <td>4</td>\n",
       "      <td>51.521781</td>\n",
       "      <td>35.116755</td>\n",
       "      <td>32</td>\n",
       "      <td>11.0</td>\n",
       "      <td>6.0</td>\n",
       "    </tr>\n",
       "    <tr>\n",
       "      <th>...</th>\n",
       "      <td>...</td>\n",
       "      <td>...</td>\n",
       "      <td>...</td>\n",
       "      <td>...</td>\n",
       "      <td>...</td>\n",
       "      <td>...</td>\n",
       "    </tr>\n",
       "    <tr>\n",
       "      <th>95</th>\n",
       "      <td>95</td>\n",
       "      <td>45.471204</td>\n",
       "      <td>20.999414</td>\n",
       "      <td>24</td>\n",
       "      <td>3.0</td>\n",
       "      <td>16.0</td>\n",
       "    </tr>\n",
       "    <tr>\n",
       "      <th>96</th>\n",
       "      <td>96</td>\n",
       "      <td>30.318396</td>\n",
       "      <td>33.388335</td>\n",
       "      <td>32</td>\n",
       "      <td>5.0</td>\n",
       "      <td>24.0</td>\n",
       "    </tr>\n",
       "    <tr>\n",
       "      <th>97</th>\n",
       "      <td>97</td>\n",
       "      <td>36.218839</td>\n",
       "      <td>22.235766</td>\n",
       "      <td>32</td>\n",
       "      <td>4.0</td>\n",
       "      <td>28.0</td>\n",
       "    </tr>\n",
       "    <tr>\n",
       "      <th>98</th>\n",
       "      <td>98</td>\n",
       "      <td>42.936915</td>\n",
       "      <td>38.122442</td>\n",
       "      <td>28</td>\n",
       "      <td>7.0</td>\n",
       "      <td>5.0</td>\n",
       "    </tr>\n",
       "    <tr>\n",
       "      <th>99</th>\n",
       "      <td>99</td>\n",
       "      <td>19.590263</td>\n",
       "      <td>3.830284</td>\n",
       "      <td>24</td>\n",
       "      <td>2.0</td>\n",
       "      <td>11.0</td>\n",
       "    </tr>\n",
       "  </tbody>\n",
       "</table>\n",
       "<p>100 rows × 6 columns</p>\n",
       "</div>"
      ],
      "text/plain": [
       "    supply_point_index  x_coordinate  y_coordinate  total_parking_slots  \\\n",
       "0                    0     50.163110     19.412014                   23   \n",
       "1                    1     37.336451     58.119225                   27   \n",
       "2                    2     46.709232     57.525650                   31   \n",
       "3                    3     30.528626     55.379835                   26   \n",
       "4                    4     51.521781     35.116755                   32   \n",
       "..                 ...           ...           ...                  ...   \n",
       "95                  95     45.471204     20.999414                   24   \n",
       "96                  96     30.318396     33.388335                   32   \n",
       "97                  97     36.218839     22.235766                   32   \n",
       "98                  98     42.936915     38.122442                   28   \n",
       "99                  99     19.590263      3.830284                   24   \n",
       "\n",
       "    existing_num_SCS  existing_num_FCS  \n",
       "0                5.0              18.0  \n",
       "1                4.0               7.0  \n",
       "2                6.0              14.0  \n",
       "3                5.0               5.0  \n",
       "4               11.0               6.0  \n",
       "..               ...               ...  \n",
       "95               3.0              16.0  \n",
       "96               5.0              24.0  \n",
       "97               4.0              28.0  \n",
       "98               7.0               5.0  \n",
       "99               2.0              11.0  \n",
       "\n",
       "[100 rows x 6 columns]"
      ]
     },
     "execution_count": 27,
     "metadata": {},
     "output_type": "execute_result"
    }
   ],
   "source": [
    "supply_2019 = supply.copy()\n",
    "supply_2019[\"existing_num_SCS\"] = [entry[4] for entry in slow_list]\n",
    "supply_2019[\"existing_num_FCS\"] = [entry[4] for entry in fast_list]  \n",
    "supply_2019"
   ]
  },
  {
   "cell_type": "code",
   "execution_count": 53,
   "id": "ad75eda4-7e84-4b48-9b3e-58dc108b035e",
   "metadata": {
    "slideshow": {
     "slide_type": "fragment"
    }
   },
   "outputs": [],
   "source": [
    "# commented out, so we don't overwrite the result\n",
    "# supply_2019.to_csv(\"../data/processed/exisiting_EV_infrastructure_2019.csv\")"
   ]
  },
  {
   "cell_type": "code",
   "execution_count": null,
   "id": "baf25190-f90c-4969-b0d2-35c85a7fd22e",
   "metadata": {},
   "outputs": [],
   "source": []
  }
 ],
 "metadata": {
  "celltoolbar": "Slideshow",
  "kernelspec": {
   "display_name": "Python 3 (ipykernel)",
   "language": "python",
   "name": "python3"
  },
  "language_info": {
   "codemirror_mode": {
    "name": "ipython",
    "version": 3
   },
   "file_extension": ".py",
   "mimetype": "text/x-python",
   "name": "python",
   "nbconvert_exporter": "python",
   "pygments_lexer": "ipython3",
   "version": "3.10.6"
  }
 },
 "nbformat": 4,
 "nbformat_minor": 5
}
