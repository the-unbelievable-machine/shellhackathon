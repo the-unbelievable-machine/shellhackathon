{
 "cells": [
  {
   "cell_type": "code",
   "execution_count": 2,
   "id": "0d8321f8-2dcb-4567-aec4-ef84840b0c88",
   "metadata": {},
   "outputs": [],
   "source": [
    "from ortools.linear_solver import pywraplp\n",
    "from ortools.init import pywrapinit"
   ]
  },
  {
   "cell_type": "code",
   "execution_count": 3,
   "id": "6ccd2dc4-d848-4f3b-8bc5-8f853826d19d",
   "metadata": {},
   "outputs": [],
   "source": [
    "# Create the linear solver with the GLOP backend.\n",
    "solver = pywraplp.Solver.CreateSolver('GLOP')\n",
    "if not solver:\n",
    "    print(\"error\")"
   ]
  },
  {
   "cell_type": "code",
   "execution_count": 4,
   "id": "b987855c-7ab2-456b-8ffb-b1ea033fa2f5",
   "metadata": {},
   "outputs": [
    {
     "name": "stdout",
     "output_type": "stream",
     "text": [
      "Number of variables = 2\n"
     ]
    }
   ],
   "source": [
    "# Create the variables x and y and their bounds.\n",
    "x = solver.NumVar(0, 1, 'x')   # bound 0 <= x <= 1\n",
    "y = solver.NumVar(0, 2, 'y')   # bound 0 <= y <= 2\n",
    "\n",
    "print('Number of variables =', solver.NumVariables())"
   ]
  },
  {
   "cell_type": "code",
   "execution_count": 5,
   "id": "c84ed338-55f2-4b1e-9e40-d7875f5deba1",
   "metadata": {},
   "outputs": [
    {
     "name": "stdout",
     "output_type": "stream",
     "text": [
      "Number of constraints = 1\n"
     ]
    }
   ],
   "source": [
    "# Create a linear constraint, 0 <= x + y <= 2.\n",
    "ct = solver.Constraint(0, 2, 'ct')\n",
    "ct.SetCoefficient(x, 1)\n",
    "ct.SetCoefficient(y, 1)\n",
    "\n",
    "print('Number of constraints =', solver.NumConstraints())"
   ]
  },
  {
   "cell_type": "code",
   "execution_count": 6,
   "id": "05ee3a7a-f438-49c2-b616-9f6c65214b9e",
   "metadata": {},
   "outputs": [],
   "source": [
    "# Create the objective function, 3 * x + y.\n",
    "objective = solver.Objective()\n",
    "objective.SetCoefficient(x, 3)\n",
    "objective.SetCoefficient(y, 1)\n",
    "objective.SetMaximization()"
   ]
  },
  {
   "cell_type": "code",
   "execution_count": 7,
   "id": "b1eb5139-2c5e-4711-b283-410551aae0b2",
   "metadata": {},
   "outputs": [
    {
     "name": "stdout",
     "output_type": "stream",
     "text": [
      "Solution:\n",
      "Objective value = 4.0\n",
      "x = 1.0\n",
      "y = 1.0\n"
     ]
    }
   ],
   "source": [
    "solver.Solve()\n",
    "print('Solution:')\n",
    "print('Objective value =', objective.Value())\n",
    "print('x =', x.solution_value())\n",
    "print('y =', y.solution_value())"
   ]
  },
  {
   "cell_type": "markdown",
   "id": "11773620-b74e-474b-93d4-0f31aea83a94",
   "metadata": {},
   "source": [
    "# facility location problem "
   ]
  },
  {
   "cell_type": "markdown",
   "id": "538f7042-3c30-436d-bdf6-9566723cd15f",
   "metadata": {},
   "source": [
    "See https://colab.research.google.com/github/Gurobi/modeling-examples/blob/master/facility_location/facility_location_gcl.ipynb"
   ]
  },
  {
   "cell_type": "code",
   "execution_count": 8,
   "id": "29c82bb6-d2c9-446a-9211-1a2dbc4e93ce",
   "metadata": {},
   "outputs": [],
   "source": [
    "from math import sqrt\n",
    "from itertools import product"
   ]
  },
  {
   "cell_type": "code",
   "execution_count": 9,
   "id": "4699d2c9-1b5c-4464-b00f-7efdb453a10e",
   "metadata": {},
   "outputs": [],
   "source": [
    "# Parameters\n",
    "customers = [(0,1.5), (2.5,1.2)]\n",
    "facilities = [(0,0), (0,1), (0,2), (1,0), (1,1), (1,2), (2,0), (2,1), (2,2)]\n",
    "setup_cost = [3,2,3,1,3,3,4,3,2]\n",
    "cost_per_mile = 1"
   ]
  },
  {
   "cell_type": "code",
   "execution_count": 10,
   "id": "b806ddb2-d798-42f6-b3a5-13bcaa40d898",
   "metadata": {},
   "outputs": [],
   "source": [
    "# This function determines the Euclidean distance between a facility and customer sites.\n",
    "\n",
    "def compute_distance(loc1, loc2):\n",
    "    dx = loc1[0] - loc2[0]\n",
    "    dy = loc1[1] - loc2[1]\n",
    "    return sqrt(dx*dx + dy*dy)"
   ]
  },
  {
   "cell_type": "code",
   "execution_count": 11,
   "id": "324b89b8-964a-4e95-b92a-7933e232c64c",
   "metadata": {},
   "outputs": [],
   "source": [
    "# Compute key parameters of MIP model formulation\n",
    "\n",
    "num_facilities = len(facilities)\n",
    "num_customers = len(customers)\n",
    "cartesian_prod = list(product(range(num_customers), range(num_facilities)))"
   ]
  },
  {
   "cell_type": "code",
   "execution_count": 12,
   "id": "95d40ad7-6dc3-4626-8224-763fd90a4323",
   "metadata": {},
   "outputs": [],
   "source": [
    "# Compute shipping costs\n",
    "\n",
    "shipping_cost = {(c,f): cost_per_mile*compute_distance(customers[c], facilities[f]) for c, f in cartesian_prod}"
   ]
  },
  {
   "cell_type": "code",
   "execution_count": 13,
   "id": "7d379022-aeaa-4327-a19a-e27a84a2a084",
   "metadata": {},
   "outputs": [
    {
     "data": {
      "text/plain": [
       "{(0, 0): 1.5,\n",
       " (0, 1): 0.5,\n",
       " (0, 2): 0.5,\n",
       " (0, 3): 1.8027756377319946,\n",
       " (0, 4): 1.118033988749895,\n",
       " (0, 5): 1.118033988749895,\n",
       " (0, 6): 2.5,\n",
       " (0, 7): 2.0615528128088303,\n",
       " (0, 8): 2.0615528128088303,\n",
       " (1, 0): 2.773084924772409,\n",
       " (1, 1): 2.5079872407968904,\n",
       " (1, 2): 2.6248809496813377,\n",
       " (1, 3): 1.9209372712298547,\n",
       " (1, 4): 1.5132745950421556,\n",
       " (1, 5): 1.7,\n",
       " (1, 6): 1.3,\n",
       " (1, 7): 0.5385164807134504,\n",
       " (1, 8): 0.9433981132056605}"
      ]
     },
     "execution_count": 13,
     "metadata": {},
     "output_type": "execute_result"
    }
   ],
   "source": [
    "shipping_cost"
   ]
  },
  {
   "cell_type": "code",
   "execution_count": 38,
   "id": "4d846c64-7a44-4e1e-912c-edf5ae1b146f",
   "metadata": {},
   "outputs": [],
   "source": [
    "# solver = pywraplp.Solver.CreateSolver('CBC_MIXED_INTEGER_PROGRAMMING')\n",
    "solver = pywraplp.Solver.CreateSolver('SCIP_MIXED_INTEGER_PROGRAMMING')"
   ]
  },
  {
   "cell_type": "code",
   "execution_count": 39,
   "id": "1e5b7e2b-f8a3-42b9-9ad1-0fe5330ba7b0",
   "metadata": {},
   "outputs": [],
   "source": [
    "select = {}\n",
    "for j in range(num_facilities):\n",
    "    select[j] = solver.BoolVar(\"Select\")"
   ]
  },
  {
   "cell_type": "code",
   "execution_count": 40,
   "id": "d076fa87-ff0a-4fdc-bf62-7cbc53946160",
   "metadata": {},
   "outputs": [],
   "source": [
    "assign = {}\n",
    "for i,j in shipping_cost.keys(): \n",
    "    assign[(i,j)] = solver.NumVar(0,1,\"Assign\")"
   ]
  },
  {
   "cell_type": "code",
   "execution_count": 41,
   "id": "99d894d6-125d-4ad8-abbc-cfbb19b51c6c",
   "metadata": {},
   "outputs": [],
   "source": [
    "# shipping constraints\n",
    "for i,j in cartesian_prod:\n",
    "    solver.Add(assign[(i,j)] <= select[j])"
   ]
  },
  {
   "cell_type": "code",
   "execution_count": 42,
   "id": "e26c9d84-0e15-43ed-aaab-20a9fe675e24",
   "metadata": {},
   "outputs": [],
   "source": [
    "# demand constraints\n",
    "for i in range(num_customers):\n",
    "    con = solver.Constraint(1,1)\n",
    "    for j in range(num_facilities):\n",
    "        con.SetCoefficient(assign[(i,j)], 1)  "
   ]
  },
  {
   "cell_type": "code",
   "execution_count": 43,
   "id": "16ef20d2-a9cd-4e2d-a91e-75ae01d84cda",
   "metadata": {},
   "outputs": [],
   "source": [
    "objective = solver.Objective()"
   ]
  },
  {
   "cell_type": "code",
   "execution_count": 44,
   "id": "18e92400-ce80-4e5a-a987-74cc68ebbc40",
   "metadata": {},
   "outputs": [],
   "source": [
    "for j in range(num_facilities):\n",
    "    objective.SetCoefficient(select[j], setup_cost[j])"
   ]
  },
  {
   "cell_type": "code",
   "execution_count": 45,
   "id": "93689298-e411-4f1f-8908-1b746c5fc865",
   "metadata": {},
   "outputs": [],
   "source": [
    "for i in range(num_customers):\n",
    "    for j in range(num_facilities):\n",
    "        objective.SetCoefficient(assign[(i,j)],shipping_cost[(i,j)])"
   ]
  },
  {
   "cell_type": "code",
   "execution_count": 46,
   "id": "4dae3395-08f3-4056-b690-3a0aaada08a4",
   "metadata": {},
   "outputs": [],
   "source": [
    "objective.SetMinimization()"
   ]
  },
  {
   "cell_type": "code",
   "execution_count": 55,
   "id": "8cc7fccb-a191-4536-ad70-466563926dba",
   "metadata": {},
   "outputs": [],
   "source": [
    "status = solver.Solve()"
   ]
  },
  {
   "cell_type": "code",
   "execution_count": 56,
   "id": "bc5e50cb-fbbf-458c-8876-736280499ec8",
   "metadata": {},
   "outputs": [
    {
     "name": "stdout",
     "output_type": "stream",
     "text": [
      "Objective value = 4.723712908961849\n",
      "\n",
      "Problem solved in 620000.000000 milliseconds\n",
      "Problem solved in 19 iterations\n",
      "Problem solved in 1 branch-and-bound nodes\n"
     ]
    }
   ],
   "source": [
    "if status == pywraplp.Solver.OPTIMAL:\n",
    "    print('Objective value =', solver.Objective().Value())\n",
    "    print()\n",
    "    print('Problem solved in %f milliseconds' % solver.wall_time())\n",
    "    print('Problem solved in %d iterations' % solver.iterations())\n",
    "    print('Problem solved in %d branch-and-bound nodes' % solver.nodes())\n",
    "else:\n",
    "    print('The problem does not have an optimal solution.')"
   ]
  },
  {
   "cell_type": "code",
   "execution_count": 63,
   "id": "306a4bfc-b3a7-49d8-8914-56003a68c1a5",
   "metadata": {},
   "outputs": [
    {
     "name": "stdout",
     "output_type": "stream",
     "text": [
      "\n",
      " Build a warehouse at location 4.\n"
     ]
    }
   ],
   "source": [
    "# display optimal values of decision variables\n",
    "\n",
    "for facility in select.keys():\n",
    "    if (abs(select[facility].solution_value()) > 1e-6):\n",
    "        print(f\"\\n Build a warehouse at location {facility + 1}.\")"
   ]
  },
  {
   "cell_type": "code",
   "execution_count": 60,
   "id": "97325d5c-7a69-475c-8432-ad4f1c75b897",
   "metadata": {},
   "outputs": [
    {
     "name": "stdout",
     "output_type": "stream",
     "text": [
      "\n",
      " Supermarket 1 receives 100.0 % of its demand  from Warehouse 4 .\n",
      "\n",
      " Supermarket 2 receives 100.0 % of its demand  from Warehouse 4 .\n"
     ]
    }
   ],
   "source": [
    "# Shipments from facilities to customers.\n",
    "\n",
    "for customer, facility in assign.keys():\n",
    "    if (abs(assign[customer, facility].solution_value()) > 1e-6):\n",
    "        print(f\"\\n Supermarket {customer + 1} receives {round(100*assign[customer, facility].solution_value(), 2)} % of its demand  from Warehouse {facility + 1} .\")"
   ]
  },
  {
   "cell_type": "code",
   "execution_count": null,
   "id": "6a34f4da-54d4-45f6-9cb2-3c7e836b386f",
   "metadata": {},
   "outputs": [],
   "source": []
  }
 ],
 "metadata": {
  "kernelspec": {
   "display_name": "Python 3 (ipykernel)",
   "language": "python",
   "name": "python3"
  },
  "language_info": {
   "codemirror_mode": {
    "name": "ipython",
    "version": 3
   },
   "file_extension": ".py",
   "mimetype": "text/x-python",
   "name": "python",
   "nbconvert_exporter": "python",
   "pygments_lexer": "ipython3",
   "version": "3.10.6"
  }
 },
 "nbformat": 4,
 "nbformat_minor": 5
}
