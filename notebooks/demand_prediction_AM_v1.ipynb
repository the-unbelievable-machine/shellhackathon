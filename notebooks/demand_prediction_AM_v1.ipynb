{
 "cells": [
  {
   "cell_type": "code",
   "execution_count": 23,
   "id": "c1e8698d-cc66-41ba-9d6f-b4f560b2513d",
   "metadata": {},
   "outputs": [],
   "source": [
    "import pandas as pd\n",
    "from sklearn.model_selection import train_test_split\n",
    "from sklearn.linear_model import LinearRegression\n",
    "from sklearn.ensemble import RandomForestRegressor, ExtraTreesRegressor, GradientBoostingRegressor\n",
    "from sklearn.metrics import r2_score, mean_absolute_percentage_error, median_absolute_error\n",
    "\n",
    "from tpot import TPOTRegressor"
   ]
  },
  {
   "cell_type": "code",
   "execution_count": 2,
   "id": "de18a8fd-5d16-4017-bf66-089aba02ebda",
   "metadata": {},
   "outputs": [],
   "source": [
    "df = pd.read_csv(\"../data/raw/Demand_History.csv\")"
   ]
  },
  {
   "cell_type": "code",
   "execution_count": 3,
   "id": "9ab9df42-06fc-43c1-a851-cf55de8f5eac",
   "metadata": {},
   "outputs": [
    {
     "name": "stdout",
     "output_type": "stream",
     "text": [
      "<class 'pandas.core.frame.DataFrame'>\n",
      "RangeIndex: 4096 entries, 0 to 4095\n",
      "Data columns (total 12 columns):\n",
      " #   Column              Non-Null Count  Dtype  \n",
      "---  ------              --------------  -----  \n",
      " 0   demand_point_index  4096 non-null   int64  \n",
      " 1   x_coordinate        4096 non-null   float64\n",
      " 2   y_coordinate        4096 non-null   float64\n",
      " 3   2010                4096 non-null   float64\n",
      " 4   2011                4096 non-null   float64\n",
      " 5   2012                4096 non-null   float64\n",
      " 6   2013                4096 non-null   float64\n",
      " 7   2014                4096 non-null   float64\n",
      " 8   2015                4096 non-null   float64\n",
      " 9   2016                4096 non-null   float64\n",
      " 10  2017                4096 non-null   float64\n",
      " 11  2018                4096 non-null   float64\n",
      "dtypes: float64(11), int64(1)\n",
      "memory usage: 384.1 KB\n"
     ]
    }
   ],
   "source": [
    "df.info()"
   ]
  },
  {
   "cell_type": "code",
   "execution_count": 4,
   "id": "9d0e0aad-b698-4c7b-8438-f539c7250a28",
   "metadata": {},
   "outputs": [],
   "source": [
    "X = df.drop(\"2018\", axis=1)"
   ]
  },
  {
   "cell_type": "code",
   "execution_count": 5,
   "id": "a4b0ffe2-df0d-4a99-b32f-ccca2d21a389",
   "metadata": {},
   "outputs": [],
   "source": [
    "y = df[\"2018\"]"
   ]
  },
  {
   "cell_type": "code",
   "execution_count": 6,
   "id": "94ff8994-f1c6-4265-a893-ff664384b3b0",
   "metadata": {},
   "outputs": [],
   "source": [
    "X_train, X_test, y_train, y_test = train_test_split(X, y, test_size=0.3, random_state=42)"
   ]
  },
  {
   "cell_type": "markdown",
   "id": "9965bda1-0e9e-4fdd-8c1b-e71381afc26d",
   "metadata": {},
   "source": [
    "# Linear Regression"
   ]
  },
  {
   "cell_type": "code",
   "execution_count": 7,
   "id": "1fcc3eb3-3d62-41f7-983e-1b48b4fafa22",
   "metadata": {},
   "outputs": [],
   "source": [
    "reg = LinearRegression().fit(X_train, y_train)"
   ]
  },
  {
   "cell_type": "code",
   "execution_count": 8,
   "id": "9838841c-b633-48e0-9838-7a955166becd",
   "metadata": {},
   "outputs": [],
   "source": [
    "y_pred = reg.predict(X_test)"
   ]
  },
  {
   "cell_type": "code",
   "execution_count": 9,
   "id": "f2d22258-db0a-4c41-9088-1f8c9600941c",
   "metadata": {},
   "outputs": [
    {
     "name": "stdout",
     "output_type": "stream",
     "text": [
      "0.9856454627807976\n"
     ]
    }
   ],
   "source": [
    "print(r2_score(y_test, y_pred))"
   ]
  },
  {
   "cell_type": "code",
   "execution_count": 10,
   "id": "4cc46290-791d-469c-8201-fbbffe76fc3c",
   "metadata": {},
   "outputs": [],
   "source": [
    "# To compute the MAPE, we need to make sure we have no zero values in test and prediction\n",
    "\n",
    "# convert y_test series to a dataframe\n",
    "df_compare = y_test.to_frame()\n",
    "# add y_pred numpy array as a new column to the dataframe\n",
    "df_compare[\"2018_pred\"] = y_pred.tolist()\n",
    "# see https://stackoverflow.com/questions/22649693/drop-rows-with-all-zeros-in-pandas-data-frame\n",
    "df_compare_no_zeros = df_compare.loc[(df_compare!=0).all(axis=1)]"
   ]
  },
  {
   "cell_type": "code",
   "execution_count": 11,
   "id": "fe5b92ba-8cde-47f4-a9fd-5c1f0853ca7b",
   "metadata": {},
   "outputs": [
    {
     "name": "stdout",
     "output_type": "stream",
     "text": [
      "0.3028254141383469\n"
     ]
    }
   ],
   "source": [
    "print(mean_absolute_percentage_error(df_compare_no_zeros[\"2018\"], df_compare_no_zeros[\"2018_pred\"]))"
   ]
  },
  {
   "cell_type": "markdown",
   "id": "6d823658-c576-4322-afe2-7e7ac6ec5fb8",
   "metadata": {},
   "source": [
    "With 30% MAPE we have reached an OK value, see https://stephenallwright.com/good-mape-score/"
   ]
  },
  {
   "cell_type": "markdown",
   "id": "0d12ab2d-9128-461f-a62b-a9560f9c17ff",
   "metadata": {
    "tags": []
   },
   "source": [
    "# Random Forest Regression"
   ]
  },
  {
   "cell_type": "code",
   "execution_count": 12,
   "id": "1f36f6be-ae75-4159-8490-e93e6b684873",
   "metadata": {
    "jp-MarkdownHeadingCollapsed": true,
    "tags": []
   },
   "outputs": [],
   "source": [
    "reg = RandomForestRegressor().fit(X_train, y_train)"
   ]
  },
  {
   "cell_type": "code",
   "execution_count": 13,
   "id": "2061315f-c1b0-4b2a-b23a-f71c90088c33",
   "metadata": {
    "jp-MarkdownHeadingCollapsed": true,
    "tags": []
   },
   "outputs": [],
   "source": [
    "y_pred = reg.predict(X_test)"
   ]
  },
  {
   "cell_type": "code",
   "execution_count": 14,
   "id": "6d6d4177-4c5f-4eb3-8011-ca74ad7b0484",
   "metadata": {
    "jp-MarkdownHeadingCollapsed": true,
    "tags": []
   },
   "outputs": [
    {
     "name": "stdout",
     "output_type": "stream",
     "text": [
      "0.9900077641186898\n"
     ]
    }
   ],
   "source": [
    "print(r2_score(y_test, y_pred))"
   ]
  },
  {
   "cell_type": "code",
   "execution_count": 15,
   "id": "ff5a402f-2e43-4e8b-abf3-a3e2f239ad8e",
   "metadata": {
    "jp-MarkdownHeadingCollapsed": true,
    "tags": []
   },
   "outputs": [],
   "source": [
    "# To compute the MAPE, we need to make sure we have no zero values in test and prediction\n",
    "\n",
    "# convert y_test series to a dataframe\n",
    "df_compare = y_test.to_frame()\n",
    "# add y_pred numpy array as a new column to the dataframe\n",
    "df_compare[\"2018_pred\"] = y_pred.tolist()\n",
    "# see https://stackoverflow.com/questions/22649693/drop-rows-with-all-zeros-in-pandas-data-frame\n",
    "df_compare_no_zeros = df_compare.loc[(df_compare!=0).all(axis=1)]"
   ]
  },
  {
   "cell_type": "code",
   "execution_count": 16,
   "id": "f7cdd241-c8a7-4cdd-ba2e-9712242e2a25",
   "metadata": {
    "jp-MarkdownHeadingCollapsed": true,
    "tags": []
   },
   "outputs": [
    {
     "name": "stdout",
     "output_type": "stream",
     "text": [
      "0.0618275901549264\n"
     ]
    }
   ],
   "source": [
    "print(mean_absolute_percentage_error(df_compare_no_zeros[\"2018\"], df_compare_no_zeros[\"2018_pred\"]))"
   ]
  },
  {
   "cell_type": "markdown",
   "id": "2fa9d391-39ab-447c-be19-2d7e9c54b5aa",
   "metadata": {
    "jp-MarkdownHeadingCollapsed": true,
    "tags": []
   },
   "source": [
    "With 6% MAPE we have reached an Very Good value, see https://stephenallwright.com/good-mape-score/"
   ]
  },
  {
   "cell_type": "markdown",
   "id": "314a1d7a-aec1-425e-9b6d-4a2b58030172",
   "metadata": {},
   "source": [
    "# Gradient Boosting Regression"
   ]
  },
  {
   "cell_type": "code",
   "execution_count": 17,
   "id": "7efbef9e-aa78-48a9-9ef9-c718eec4cac7",
   "metadata": {},
   "outputs": [],
   "source": [
    "reg = GradientBoostingRegressor().fit(X_train, y_train)"
   ]
  },
  {
   "cell_type": "code",
   "execution_count": 18,
   "id": "b4648574-0411-4d19-9246-047ddfaa5edb",
   "metadata": {},
   "outputs": [],
   "source": [
    "y_pred = reg.predict(X_test)"
   ]
  },
  {
   "cell_type": "code",
   "execution_count": 19,
   "id": "c2725d2e-2ce0-48dd-8e2b-5006fef52ae3",
   "metadata": {},
   "outputs": [
    {
     "name": "stdout",
     "output_type": "stream",
     "text": [
      "0.9902135460445505\n"
     ]
    }
   ],
   "source": [
    "print(r2_score(y_test, y_pred))"
   ]
  },
  {
   "cell_type": "markdown",
   "id": "362f58ef-20ec-4c20-a208-7df54ee62094",
   "metadata": {},
   "source": [
    "The R2 score is best for gradient boosting"
   ]
  },
  {
   "cell_type": "code",
   "execution_count": 20,
   "id": "0bff4ec2-877b-4b6b-98a8-9dadcc5601c7",
   "metadata": {},
   "outputs": [],
   "source": [
    "# To compute the MAPE, we need to make sure we have no zero values in test and prediction\n",
    "\n",
    "# convert y_test series to a dataframe\n",
    "df_compare = y_test.to_frame()\n",
    "# add y_pred numpy array as a new column to the dataframe\n",
    "df_compare[\"2018_pred\"] = y_pred.tolist()\n",
    "# see https://stackoverflow.com/questions/22649693/drop-rows-with-all-zeros-in-pandas-data-frame\n",
    "df_compare_no_zeros = df_compare.loc[(df_compare!=0).all(axis=1)]"
   ]
  },
  {
   "cell_type": "code",
   "execution_count": 21,
   "id": "19087514-8863-4608-bd5f-36486498deb4",
   "metadata": {},
   "outputs": [
    {
     "name": "stdout",
     "output_type": "stream",
     "text": [
      "0.07982698937632556\n"
     ]
    }
   ],
   "source": [
    "print(mean_absolute_percentage_error(df_compare_no_zeros[\"2018\"], df_compare_no_zeros[\"2018_pred\"]))"
   ]
  },
  {
   "cell_type": "markdown",
   "id": "f6cf84c4-c86d-4eba-af03-0fb39b826b4f",
   "metadata": {},
   "source": [
    "With 8% MAPE we have reached an Very good value, see https://stephenallwright.com/good-mape-score/"
   ]
  },
  {
   "cell_type": "markdown",
   "id": "63964dc4-75f7-4a93-8dc2-b65eb69b889a",
   "metadata": {},
   "source": [
    "# TPOT"
   ]
  },
  {
   "cell_type": "code",
   "execution_count": 22,
   "id": "2e541001-25ce-4a50-ac9b-bd09924e8c25",
   "metadata": {},
   "outputs": [
    {
     "data": {
      "application/vnd.jupyter.widget-view+json": {
       "model_id": "",
       "version_major": 2,
       "version_minor": 0
      },
      "text/plain": [
       "Optimization Progress:   0%|          | 0/300 [00:00<?, ?pipeline/s]"
      ]
     },
     "metadata": {},
     "output_type": "display_data"
    },
    {
     "name": "stdout",
     "output_type": "stream",
     "text": [
      "\n",
      "Generation 1 - Current best internal CV score: -64.79475259929676\n",
      "\n",
      "Generation 2 - Current best internal CV score: -64.79475259929676\n",
      "\n",
      "Generation 3 - Current best internal CV score: -64.79475259929676\n",
      "\n",
      "Generation 4 - Current best internal CV score: -64.1900459034964\n",
      "\n",
      "Generation 5 - Current best internal CV score: -64.14568266690753\n",
      "\n",
      "Best pipeline: ExtraTreesRegressor(MaxAbsScaler(input_matrix), bootstrap=False, max_features=0.9500000000000001, min_samples_leaf=3, min_samples_split=4, n_estimators=100)\n",
      "-58.06679430637211\n"
     ]
    },
    {
     "name": "stderr",
     "output_type": "stream",
     "text": [
      "/Users/andreas.maier/.local/share/virtualenvs/shellhackathon-J-_FuwKv/lib/python3.10/site-packages/sklearn/metrics/_scorer.py:765: FutureWarning: sklearn.metrics.SCORERS is deprecated and will be removed in v1.3. Please use sklearn.metrics.get_scorer_names to get a list of available scorers and sklearn.metrics.get_metric to get scorer.\n",
      "  warnings.warn(\n"
     ]
    }
   ],
   "source": [
    "tpot = TPOTRegressor(generations=5, population_size=50, verbosity=2, random_state=42)\n",
    "tpot.fit(X_train, y_train)\n",
    "print(tpot.score(X_test, y_test))"
   ]
  },
  {
   "cell_type": "markdown",
   "id": "d445544a-dcfd-4cd8-b09f-5cf13cf62138",
   "metadata": {},
   "source": [
    "# ExtraTrees Regression"
   ]
  },
  {
   "cell_type": "code",
   "execution_count": 25,
   "id": "e518b45d-518a-4989-a699-eab81e7fc032",
   "metadata": {},
   "outputs": [],
   "source": [
    "reg = ExtraTreesRegressor().fit(X_train, y_train)"
   ]
  },
  {
   "cell_type": "code",
   "execution_count": 26,
   "id": "090a77e4-a961-4102-8e04-4cad7e3e4ad8",
   "metadata": {},
   "outputs": [],
   "source": [
    "y_pred = reg.predict(X_test)"
   ]
  },
  {
   "cell_type": "code",
   "execution_count": 27,
   "id": "5d181c45-84c1-432e-8f76-6aaabae1fba9",
   "metadata": {},
   "outputs": [
    {
     "name": "stdout",
     "output_type": "stream",
     "text": [
      "0.9902236866936038\n"
     ]
    }
   ],
   "source": [
    "print(r2_score(y_test, y_pred))"
   ]
  },
  {
   "cell_type": "markdown",
   "id": "3ed46e8a-814e-4d0b-ac39-56313417eb2b",
   "metadata": {},
   "source": [
    "The R2 score is slightly better for extra trees than for gradient boosting."
   ]
  },
  {
   "cell_type": "code",
   "execution_count": 29,
   "id": "9cc4b1b6-b504-4d3d-900c-96dbc28e42af",
   "metadata": {},
   "outputs": [],
   "source": [
    "# To compute the MAPE, we need to make sure we have no zero values in test and prediction\n",
    "\n",
    "# convert y_test series to a dataframe\n",
    "df_compare = y_test.to_frame()\n",
    "# add y_pred numpy array as a new column to the dataframe\n",
    "df_compare[\"2018_pred\"] = y_pred.tolist()\n",
    "# see https://stackoverflow.com/questions/22649693/drop-rows-with-all-zeros-in-pandas-data-frame\n",
    "df_compare_no_zeros = df_compare.loc[(df_compare!=0).all(axis=1)]"
   ]
  },
  {
   "cell_type": "code",
   "execution_count": 30,
   "id": "2732ff2a-07f8-476e-98cf-0cc50a7ea891",
   "metadata": {},
   "outputs": [
    {
     "name": "stdout",
     "output_type": "stream",
     "text": [
      "0.05982923485645168\n"
     ]
    }
   ],
   "source": [
    "print(mean_absolute_percentage_error(df_compare_no_zeros[\"2018\"], df_compare_no_zeros[\"2018_pred\"]))"
   ]
  },
  {
   "cell_type": "markdown",
   "id": "5e6386eb-b235-4c1a-8d74-1e0daf678e44",
   "metadata": {},
   "source": [
    "With < 6% MAPE we have reached an Very good value, see https://stephenallwright.com/good-mape-score/."
   ]
  },
  {
   "cell_type": "code",
   "execution_count": null,
   "id": "7a42c2b2-e28d-4d8d-9dc1-8d53b300c233",
   "metadata": {},
   "outputs": [],
   "source": []
  }
 ],
 "metadata": {
  "kernelspec": {
   "display_name": "Python 3 (ipykernel)",
   "language": "python",
   "name": "python3"
  },
  "language_info": {
   "codemirror_mode": {
    "name": "ipython",
    "version": 3
   },
   "file_extension": ".py",
   "mimetype": "text/x-python",
   "name": "python",
   "nbconvert_exporter": "python",
   "pygments_lexer": "ipython3",
   "version": "3.10.6"
  }
 },
 "nbformat": 4,
 "nbformat_minor": 5
}
