{
 "cells": [
  {
   "cell_type": "code",
   "execution_count": 1,
   "id": "c1e8698d-cc66-41ba-9d6f-b4f560b2513d",
   "metadata": {},
   "outputs": [
    {
     "name": "stderr",
     "output_type": "stream",
     "text": [
      "/Users/andreas.maier/.local/share/virtualenvs/shellhackathon-J-_FuwKv/lib/python3.10/site-packages/tpot/builtins/__init__.py:36: UserWarning: Warning: optional dependency `torch` is not available. - skipping import of NN models.\n",
      "  warnings.warn(\"Warning: optional dependency `torch` is not available. - skipping import of NN models.\")\n"
     ]
    }
   ],
   "source": [
    "import pandas as pd\n",
    "from sklearn.model_selection import train_test_split\n",
    "from sklearn.linear_model import LinearRegression\n",
    "from sklearn.ensemble import RandomForestRegressor, ExtraTreesRegressor, GradientBoostingRegressor\n",
    "from sklearn.metrics import r2_score, mean_absolute_percentage_error, median_absolute_error\n",
    "\n",
    "from tpot import TPOTRegressor\n",
    "\n",
    "from pycaret.regression import *"
   ]
  },
  {
   "cell_type": "code",
   "execution_count": 2,
   "id": "de18a8fd-5d16-4017-bf66-089aba02ebda",
   "metadata": {},
   "outputs": [],
   "source": [
    "df = pd.read_csv(\"../data/raw/Demand_History.csv\")"
   ]
  },
  {
   "cell_type": "code",
   "execution_count": 3,
   "id": "9ab9df42-06fc-43c1-a851-cf55de8f5eac",
   "metadata": {},
   "outputs": [
    {
     "name": "stdout",
     "output_type": "stream",
     "text": [
      "<class 'pandas.core.frame.DataFrame'>\n",
      "RangeIndex: 4096 entries, 0 to 4095\n",
      "Data columns (total 12 columns):\n",
      " #   Column              Non-Null Count  Dtype  \n",
      "---  ------              --------------  -----  \n",
      " 0   demand_point_index  4096 non-null   int64  \n",
      " 1   x_coordinate        4096 non-null   float64\n",
      " 2   y_coordinate        4096 non-null   float64\n",
      " 3   2010                4096 non-null   float64\n",
      " 4   2011                4096 non-null   float64\n",
      " 5   2012                4096 non-null   float64\n",
      " 6   2013                4096 non-null   float64\n",
      " 7   2014                4096 non-null   float64\n",
      " 8   2015                4096 non-null   float64\n",
      " 9   2016                4096 non-null   float64\n",
      " 10  2017                4096 non-null   float64\n",
      " 11  2018                4096 non-null   float64\n",
      "dtypes: float64(11), int64(1)\n",
      "memory usage: 384.1 KB\n"
     ]
    }
   ],
   "source": [
    "df.info()"
   ]
  },
  {
   "cell_type": "code",
   "execution_count": 4,
   "id": "9d0e0aad-b698-4c7b-8438-f539c7250a28",
   "metadata": {},
   "outputs": [],
   "source": [
    "X = df.drop(\"2018\", axis=1)"
   ]
  },
  {
   "cell_type": "code",
   "execution_count": 5,
   "id": "a4b0ffe2-df0d-4a99-b32f-ccca2d21a389",
   "metadata": {},
   "outputs": [],
   "source": [
    "y = df[\"2018\"]"
   ]
  },
  {
   "cell_type": "code",
   "execution_count": 6,
   "id": "94ff8994-f1c6-4265-a893-ff664384b3b0",
   "metadata": {},
   "outputs": [],
   "source": [
    "X_train, X_test, y_train, y_test = train_test_split(X, y, test_size=0.3, random_state=42)"
   ]
  },
  {
   "cell_type": "markdown",
   "id": "9965bda1-0e9e-4fdd-8c1b-e71381afc26d",
   "metadata": {},
   "source": [
    "# Linear Regression"
   ]
  },
  {
   "cell_type": "code",
   "execution_count": 7,
   "id": "1fcc3eb3-3d62-41f7-983e-1b48b4fafa22",
   "metadata": {},
   "outputs": [],
   "source": [
    "reg = LinearRegression().fit(X_train, y_train)"
   ]
  },
  {
   "cell_type": "code",
   "execution_count": 8,
   "id": "9838841c-b633-48e0-9838-7a955166becd",
   "metadata": {},
   "outputs": [],
   "source": [
    "y_pred = reg.predict(X_test)"
   ]
  },
  {
   "cell_type": "code",
   "execution_count": 9,
   "id": "f2d22258-db0a-4c41-9088-1f8c9600941c",
   "metadata": {},
   "outputs": [
    {
     "name": "stdout",
     "output_type": "stream",
     "text": [
      "0.9856454627807976\n"
     ]
    }
   ],
   "source": [
    "print(r2_score(y_test, y_pred))"
   ]
  },
  {
   "cell_type": "code",
   "execution_count": 10,
   "id": "4cc46290-791d-469c-8201-fbbffe76fc3c",
   "metadata": {},
   "outputs": [],
   "source": [
    "# To compute the MAPE, we need to make sure we have no zero values in test and prediction\n",
    "\n",
    "# convert y_test series to a dataframe\n",
    "df_compare = y_test.to_frame()\n",
    "# add y_pred numpy array as a new column to the dataframe\n",
    "df_compare[\"2018_pred\"] = y_pred.tolist()\n",
    "# see https://stackoverflow.com/questions/22649693/drop-rows-with-all-zeros-in-pandas-data-frame\n",
    "df_compare_no_zeros = df_compare.loc[(df_compare!=0).all(axis=1)]"
   ]
  },
  {
   "cell_type": "code",
   "execution_count": 11,
   "id": "fe5b92ba-8cde-47f4-a9fd-5c1f0853ca7b",
   "metadata": {},
   "outputs": [
    {
     "name": "stdout",
     "output_type": "stream",
     "text": [
      "0.3028254141383469\n"
     ]
    }
   ],
   "source": [
    "print(mean_absolute_percentage_error(df_compare_no_zeros[\"2018\"], df_compare_no_zeros[\"2018_pred\"]))"
   ]
  },
  {
   "cell_type": "markdown",
   "id": "6d823658-c576-4322-afe2-7e7ac6ec5fb8",
   "metadata": {},
   "source": [
    "With 30% MAPE we have reached an OK value, see https://stephenallwright.com/good-mape-score/"
   ]
  },
  {
   "cell_type": "markdown",
   "id": "0d12ab2d-9128-461f-a62b-a9560f9c17ff",
   "metadata": {
    "tags": []
   },
   "source": [
    "# Random Forest Regression"
   ]
  },
  {
   "cell_type": "code",
   "execution_count": 12,
   "id": "1f36f6be-ae75-4159-8490-e93e6b684873",
   "metadata": {
    "jp-MarkdownHeadingCollapsed": true,
    "tags": []
   },
   "outputs": [],
   "source": [
    "reg = RandomForestRegressor().fit(X_train, y_train)"
   ]
  },
  {
   "cell_type": "code",
   "execution_count": 13,
   "id": "2061315f-c1b0-4b2a-b23a-f71c90088c33",
   "metadata": {
    "jp-MarkdownHeadingCollapsed": true,
    "tags": []
   },
   "outputs": [],
   "source": [
    "y_pred = reg.predict(X_test)"
   ]
  },
  {
   "cell_type": "code",
   "execution_count": 14,
   "id": "6d6d4177-4c5f-4eb3-8011-ca74ad7b0484",
   "metadata": {
    "jp-MarkdownHeadingCollapsed": true,
    "tags": []
   },
   "outputs": [
    {
     "name": "stdout",
     "output_type": "stream",
     "text": [
      "0.9899737000305788\n"
     ]
    }
   ],
   "source": [
    "print(r2_score(y_test, y_pred))"
   ]
  },
  {
   "cell_type": "code",
   "execution_count": 15,
   "id": "ff5a402f-2e43-4e8b-abf3-a3e2f239ad8e",
   "metadata": {
    "jp-MarkdownHeadingCollapsed": true,
    "tags": []
   },
   "outputs": [],
   "source": [
    "# To compute the MAPE, we need to make sure we have no zero values in test and prediction\n",
    "\n",
    "# convert y_test series to a dataframe\n",
    "df_compare = y_test.to_frame()\n",
    "# add y_pred numpy array as a new column to the dataframe\n",
    "df_compare[\"2018_pred\"] = y_pred.tolist()\n",
    "# see https://stackoverflow.com/questions/22649693/drop-rows-with-all-zeros-in-pandas-data-frame\n",
    "df_compare_no_zeros = df_compare.loc[(df_compare!=0).all(axis=1)]"
   ]
  },
  {
   "cell_type": "code",
   "execution_count": 16,
   "id": "f7cdd241-c8a7-4cdd-ba2e-9712242e2a25",
   "metadata": {
    "jp-MarkdownHeadingCollapsed": true,
    "tags": []
   },
   "outputs": [
    {
     "name": "stdout",
     "output_type": "stream",
     "text": [
      "0.06199729398741642\n"
     ]
    }
   ],
   "source": [
    "print(mean_absolute_percentage_error(df_compare_no_zeros[\"2018\"], df_compare_no_zeros[\"2018_pred\"]))"
   ]
  },
  {
   "cell_type": "markdown",
   "id": "2fa9d391-39ab-447c-be19-2d7e9c54b5aa",
   "metadata": {
    "jp-MarkdownHeadingCollapsed": true,
    "tags": []
   },
   "source": [
    "With 6% MAPE we have reached an Very Good value, see https://stephenallwright.com/good-mape-score/"
   ]
  },
  {
   "cell_type": "markdown",
   "id": "314a1d7a-aec1-425e-9b6d-4a2b58030172",
   "metadata": {},
   "source": [
    "# Gradient Boosting Regression"
   ]
  },
  {
   "cell_type": "code",
   "execution_count": 17,
   "id": "7efbef9e-aa78-48a9-9ef9-c718eec4cac7",
   "metadata": {},
   "outputs": [],
   "source": [
    "reg = GradientBoostingRegressor().fit(X_train, y_train)"
   ]
  },
  {
   "cell_type": "code",
   "execution_count": 18,
   "id": "b4648574-0411-4d19-9246-047ddfaa5edb",
   "metadata": {},
   "outputs": [],
   "source": [
    "y_pred = reg.predict(X_test)"
   ]
  },
  {
   "cell_type": "code",
   "execution_count": 19,
   "id": "c2725d2e-2ce0-48dd-8e2b-5006fef52ae3",
   "metadata": {},
   "outputs": [
    {
     "name": "stdout",
     "output_type": "stream",
     "text": [
      "0.9901983341046939\n"
     ]
    }
   ],
   "source": [
    "print(r2_score(y_test, y_pred))"
   ]
  },
  {
   "cell_type": "markdown",
   "id": "362f58ef-20ec-4c20-a208-7df54ee62094",
   "metadata": {},
   "source": [
    "The R2 score is best for gradient boosting"
   ]
  },
  {
   "cell_type": "code",
   "execution_count": 20,
   "id": "0bff4ec2-877b-4b6b-98a8-9dadcc5601c7",
   "metadata": {},
   "outputs": [],
   "source": [
    "# To compute the MAPE, we need to make sure we have no zero values in test and prediction\n",
    "\n",
    "# convert y_test series to a dataframe\n",
    "df_compare = y_test.to_frame()\n",
    "# add y_pred numpy array as a new column to the dataframe\n",
    "df_compare[\"2018_pred\"] = y_pred.tolist()\n",
    "# see https://stackoverflow.com/questions/22649693/drop-rows-with-all-zeros-in-pandas-data-frame\n",
    "df_compare_no_zeros = df_compare.loc[(df_compare!=0).all(axis=1)]"
   ]
  },
  {
   "cell_type": "code",
   "execution_count": 21,
   "id": "19087514-8863-4608-bd5f-36486498deb4",
   "metadata": {},
   "outputs": [
    {
     "name": "stdout",
     "output_type": "stream",
     "text": [
      "0.07984800717473738\n"
     ]
    }
   ],
   "source": [
    "print(mean_absolute_percentage_error(df_compare_no_zeros[\"2018\"], df_compare_no_zeros[\"2018_pred\"]))"
   ]
  },
  {
   "cell_type": "markdown",
   "id": "f6cf84c4-c86d-4eba-af03-0fb39b826b4f",
   "metadata": {},
   "source": [
    "With 8% MAPE we have reached an Very good value, see https://stephenallwright.com/good-mape-score/"
   ]
  },
  {
   "cell_type": "markdown",
   "id": "63964dc4-75f7-4a93-8dc2-b65eb69b889a",
   "metadata": {},
   "source": [
    "# TPOT"
   ]
  },
  {
   "cell_type": "code",
   "execution_count": 22,
   "id": "2e541001-25ce-4a50-ac9b-bd09924e8c25",
   "metadata": {},
   "outputs": [
    {
     "data": {
      "application/vnd.jupyter.widget-view+json": {
       "model_id": "",
       "version_major": 2,
       "version_minor": 0
      },
      "text/plain": [
       "Optimization Progress:   0%|          | 0/300 [00:00<?, ?pipeline/s]"
      ]
     },
     "metadata": {},
     "output_type": "display_data"
    },
    {
     "name": "stdout",
     "output_type": "stream",
     "text": [
      "\n",
      "Generation 1 - Current best internal CV score: -64.79475259929676\n",
      "\n",
      "Generation 2 - Current best internal CV score: -64.79475259929676\n",
      "\n",
      "Generation 3 - Current best internal CV score: -64.79475259929676\n",
      "\n",
      "Generation 4 - Current best internal CV score: -64.1900459034964\n",
      "\n",
      "Generation 5 - Current best internal CV score: -64.14568266690753\n",
      "\n",
      "Best pipeline: ExtraTreesRegressor(MaxAbsScaler(input_matrix), bootstrap=False, max_features=0.9500000000000001, min_samples_leaf=3, min_samples_split=4, n_estimators=100)\n",
      "-58.06679430637211\n"
     ]
    }
   ],
   "source": [
    "tpot = TPOTRegressor(generations=5, population_size=50, verbosity=2, random_state=42)\n",
    "tpot.fit(X_train, y_train)\n",
    "print(tpot.score(X_test, y_test))"
   ]
  },
  {
   "cell_type": "markdown",
   "id": "d445544a-dcfd-4cd8-b09f-5cf13cf62138",
   "metadata": {},
   "source": [
    "# ExtraTrees Regression"
   ]
  },
  {
   "cell_type": "code",
   "execution_count": 23,
   "id": "e518b45d-518a-4989-a699-eab81e7fc032",
   "metadata": {},
   "outputs": [],
   "source": [
    "reg = ExtraTreesRegressor().fit(X_train, y_train)"
   ]
  },
  {
   "cell_type": "code",
   "execution_count": 24,
   "id": "090a77e4-a961-4102-8e04-4cad7e3e4ad8",
   "metadata": {},
   "outputs": [],
   "source": [
    "y_pred = reg.predict(X_test)"
   ]
  },
  {
   "cell_type": "code",
   "execution_count": 25,
   "id": "5d181c45-84c1-432e-8f76-6aaabae1fba9",
   "metadata": {},
   "outputs": [
    {
     "name": "stdout",
     "output_type": "stream",
     "text": [
      "0.9902236866936038\n"
     ]
    }
   ],
   "source": [
    "print(r2_score(y_test, y_pred))"
   ]
  },
  {
   "cell_type": "markdown",
   "id": "3ed46e8a-814e-4d0b-ac39-56313417eb2b",
   "metadata": {},
   "source": [
    "The R2 score is slightly better for extra trees than for gradient boosting."
   ]
  },
  {
   "cell_type": "code",
   "execution_count": 26,
   "id": "9cc4b1b6-b504-4d3d-900c-96dbc28e42af",
   "metadata": {},
   "outputs": [],
   "source": [
    "# To compute the MAPE, we need to make sure we have no zero values in test and prediction\n",
    "\n",
    "# convert y_test series to a dataframe\n",
    "df_compare = y_test.to_frame()\n",
    "# add y_pred numpy array as a new column to the dataframe\n",
    "df_compare[\"2018_pred\"] = y_pred.tolist()\n",
    "# see https://stackoverflow.com/questions/22649693/drop-rows-with-all-zeros-in-pandas-data-frame\n",
    "df_compare_no_zeros = df_compare.loc[(df_compare!=0).all(axis=1)]"
   ]
  },
  {
   "cell_type": "code",
   "execution_count": 27,
   "id": "2732ff2a-07f8-476e-98cf-0cc50a7ea891",
   "metadata": {},
   "outputs": [
    {
     "name": "stdout",
     "output_type": "stream",
     "text": [
      "0.05982923485645168\n"
     ]
    }
   ],
   "source": [
    "print(mean_absolute_percentage_error(df_compare_no_zeros[\"2018\"], df_compare_no_zeros[\"2018_pred\"]))"
   ]
  },
  {
   "cell_type": "markdown",
   "id": "5e6386eb-b235-4c1a-8d74-1e0daf678e44",
   "metadata": {},
   "source": [
    "With < 6% MAPE we have reached an Very good value, see https://stephenallwright.com/good-mape-score/."
   ]
  },
  {
   "cell_type": "markdown",
   "id": "ce1090c5-1df6-48e4-a8f0-45b1bdf39aa5",
   "metadata": {},
   "source": [
    "# pyCaret"
   ]
  },
  {
   "cell_type": "code",
   "execution_count": 28,
   "id": "847f904d-e8f6-47dd-94fe-665936f23fde",
   "metadata": {},
   "outputs": [
    {
     "data": {
      "text/html": [
       "<style type=\"text/css\">\n",
       "#T_df2f9_row7_col1 {\n",
       "  background-color: lightgreen;\n",
       "}\n",
       "</style>\n",
       "<table id=\"T_df2f9\">\n",
       "  <thead>\n",
       "    <tr>\n",
       "      <th class=\"blank level0\" >&nbsp;</th>\n",
       "      <th id=\"T_df2f9_level0_col0\" class=\"col_heading level0 col0\" >Description</th>\n",
       "      <th id=\"T_df2f9_level0_col1\" class=\"col_heading level0 col1\" >Value</th>\n",
       "    </tr>\n",
       "  </thead>\n",
       "  <tbody>\n",
       "    <tr>\n",
       "      <th id=\"T_df2f9_level0_row0\" class=\"row_heading level0 row0\" >0</th>\n",
       "      <td id=\"T_df2f9_row0_col0\" class=\"data row0 col0\" >Session id</td>\n",
       "      <td id=\"T_df2f9_row0_col1\" class=\"data row0 col1\" >123</td>\n",
       "    </tr>\n",
       "    <tr>\n",
       "      <th id=\"T_df2f9_level0_row1\" class=\"row_heading level0 row1\" >1</th>\n",
       "      <td id=\"T_df2f9_row1_col0\" class=\"data row1 col0\" >Target</td>\n",
       "      <td id=\"T_df2f9_row1_col1\" class=\"data row1 col1\" >2018</td>\n",
       "    </tr>\n",
       "    <tr>\n",
       "      <th id=\"T_df2f9_level0_row2\" class=\"row_heading level0 row2\" >2</th>\n",
       "      <td id=\"T_df2f9_row2_col0\" class=\"data row2 col0\" >Target type</td>\n",
       "      <td id=\"T_df2f9_row2_col1\" class=\"data row2 col1\" >Regression</td>\n",
       "    </tr>\n",
       "    <tr>\n",
       "      <th id=\"T_df2f9_level0_row3\" class=\"row_heading level0 row3\" >3</th>\n",
       "      <td id=\"T_df2f9_row3_col0\" class=\"data row3 col0\" >Data shape</td>\n",
       "      <td id=\"T_df2f9_row3_col1\" class=\"data row3 col1\" >(4096, 12)</td>\n",
       "    </tr>\n",
       "    <tr>\n",
       "      <th id=\"T_df2f9_level0_row4\" class=\"row_heading level0 row4\" >4</th>\n",
       "      <td id=\"T_df2f9_row4_col0\" class=\"data row4 col0\" >Train data shape</td>\n",
       "      <td id=\"T_df2f9_row4_col1\" class=\"data row4 col1\" >(2867, 12)</td>\n",
       "    </tr>\n",
       "    <tr>\n",
       "      <th id=\"T_df2f9_level0_row5\" class=\"row_heading level0 row5\" >5</th>\n",
       "      <td id=\"T_df2f9_row5_col0\" class=\"data row5 col0\" >Test data shape</td>\n",
       "      <td id=\"T_df2f9_row5_col1\" class=\"data row5 col1\" >(1229, 12)</td>\n",
       "    </tr>\n",
       "    <tr>\n",
       "      <th id=\"T_df2f9_level0_row6\" class=\"row_heading level0 row6\" >6</th>\n",
       "      <td id=\"T_df2f9_row6_col0\" class=\"data row6 col0\" >Numeric features</td>\n",
       "      <td id=\"T_df2f9_row6_col1\" class=\"data row6 col1\" >11</td>\n",
       "    </tr>\n",
       "    <tr>\n",
       "      <th id=\"T_df2f9_level0_row7\" class=\"row_heading level0 row7\" >7</th>\n",
       "      <td id=\"T_df2f9_row7_col0\" class=\"data row7 col0\" >Preprocess</td>\n",
       "      <td id=\"T_df2f9_row7_col1\" class=\"data row7 col1\" >True</td>\n",
       "    </tr>\n",
       "    <tr>\n",
       "      <th id=\"T_df2f9_level0_row8\" class=\"row_heading level0 row8\" >8</th>\n",
       "      <td id=\"T_df2f9_row8_col0\" class=\"data row8 col0\" >Imputation type</td>\n",
       "      <td id=\"T_df2f9_row8_col1\" class=\"data row8 col1\" >simple</td>\n",
       "    </tr>\n",
       "    <tr>\n",
       "      <th id=\"T_df2f9_level0_row9\" class=\"row_heading level0 row9\" >9</th>\n",
       "      <td id=\"T_df2f9_row9_col0\" class=\"data row9 col0\" >Numeric imputation</td>\n",
       "      <td id=\"T_df2f9_row9_col1\" class=\"data row9 col1\" >mean</td>\n",
       "    </tr>\n",
       "    <tr>\n",
       "      <th id=\"T_df2f9_level0_row10\" class=\"row_heading level0 row10\" >10</th>\n",
       "      <td id=\"T_df2f9_row10_col0\" class=\"data row10 col0\" >Categorical imputation</td>\n",
       "      <td id=\"T_df2f9_row10_col1\" class=\"data row10 col1\" >constant</td>\n",
       "    </tr>\n",
       "    <tr>\n",
       "      <th id=\"T_df2f9_level0_row11\" class=\"row_heading level0 row11\" >11</th>\n",
       "      <td id=\"T_df2f9_row11_col0\" class=\"data row11 col0\" >Low variance threshold</td>\n",
       "      <td id=\"T_df2f9_row11_col1\" class=\"data row11 col1\" >0</td>\n",
       "    </tr>\n",
       "    <tr>\n",
       "      <th id=\"T_df2f9_level0_row12\" class=\"row_heading level0 row12\" >12</th>\n",
       "      <td id=\"T_df2f9_row12_col0\" class=\"data row12 col0\" >Fold Generator</td>\n",
       "      <td id=\"T_df2f9_row12_col1\" class=\"data row12 col1\" >KFold</td>\n",
       "    </tr>\n",
       "    <tr>\n",
       "      <th id=\"T_df2f9_level0_row13\" class=\"row_heading level0 row13\" >13</th>\n",
       "      <td id=\"T_df2f9_row13_col0\" class=\"data row13 col0\" >Fold Number</td>\n",
       "      <td id=\"T_df2f9_row13_col1\" class=\"data row13 col1\" >10</td>\n",
       "    </tr>\n",
       "    <tr>\n",
       "      <th id=\"T_df2f9_level0_row14\" class=\"row_heading level0 row14\" >14</th>\n",
       "      <td id=\"T_df2f9_row14_col0\" class=\"data row14 col0\" >CPU Jobs</td>\n",
       "      <td id=\"T_df2f9_row14_col1\" class=\"data row14 col1\" >-1</td>\n",
       "    </tr>\n",
       "    <tr>\n",
       "      <th id=\"T_df2f9_level0_row15\" class=\"row_heading level0 row15\" >15</th>\n",
       "      <td id=\"T_df2f9_row15_col0\" class=\"data row15 col0\" >Use GPU</td>\n",
       "      <td id=\"T_df2f9_row15_col1\" class=\"data row15 col1\" >False</td>\n",
       "    </tr>\n",
       "    <tr>\n",
       "      <th id=\"T_df2f9_level0_row16\" class=\"row_heading level0 row16\" >16</th>\n",
       "      <td id=\"T_df2f9_row16_col0\" class=\"data row16 col0\" >Log Experiment</td>\n",
       "      <td id=\"T_df2f9_row16_col1\" class=\"data row16 col1\" >False</td>\n",
       "    </tr>\n",
       "    <tr>\n",
       "      <th id=\"T_df2f9_level0_row17\" class=\"row_heading level0 row17\" >17</th>\n",
       "      <td id=\"T_df2f9_row17_col0\" class=\"data row17 col0\" >Experiment Name</td>\n",
       "      <td id=\"T_df2f9_row17_col1\" class=\"data row17 col1\" >reg-default-name</td>\n",
       "    </tr>\n",
       "    <tr>\n",
       "      <th id=\"T_df2f9_level0_row18\" class=\"row_heading level0 row18\" >18</th>\n",
       "      <td id=\"T_df2f9_row18_col0\" class=\"data row18 col0\" >USI</td>\n",
       "      <td id=\"T_df2f9_row18_col1\" class=\"data row18 col1\" >dd5f</td>\n",
       "    </tr>\n",
       "  </tbody>\n",
       "</table>\n"
      ],
      "text/plain": [
       "<pandas.io.formats.style.Styler at 0x2a0952f20>"
      ]
     },
     "metadata": {},
     "output_type": "display_data"
    }
   ],
   "source": [
    "experiment = setup(data = df, target = '2018', session_id=123)"
   ]
  },
  {
   "cell_type": "code",
   "execution_count": 29,
   "id": "ea773199-5835-492a-906c-c6bcd007cd1a",
   "metadata": {},
   "outputs": [
    {
     "data": {
      "text/html": [],
      "text/plain": [
       "<IPython.core.display.HTML object>"
      ]
     },
     "metadata": {},
     "output_type": "display_data"
    },
    {
     "data": {
      "text/html": [
       "<style type=\"text/css\">\n",
       "#T_c78e3 th {\n",
       "  text-align: left;\n",
       "}\n",
       "#T_c78e3_row0_col0, #T_c78e3_row1_col0, #T_c78e3_row1_col1, #T_c78e3_row1_col2, #T_c78e3_row1_col3, #T_c78e3_row1_col4, #T_c78e3_row1_col5, #T_c78e3_row1_col6, #T_c78e3_row2_col0, #T_c78e3_row2_col1, #T_c78e3_row2_col2, #T_c78e3_row2_col3, #T_c78e3_row2_col4, #T_c78e3_row2_col5, #T_c78e3_row2_col6, #T_c78e3_row3_col0, #T_c78e3_row3_col1, #T_c78e3_row3_col2, #T_c78e3_row3_col3, #T_c78e3_row3_col4, #T_c78e3_row3_col5, #T_c78e3_row3_col6, #T_c78e3_row4_col0, #T_c78e3_row4_col1, #T_c78e3_row4_col2, #T_c78e3_row4_col3, #T_c78e3_row4_col4, #T_c78e3_row4_col5, #T_c78e3_row4_col6, #T_c78e3_row5_col0, #T_c78e3_row5_col1, #T_c78e3_row5_col2, #T_c78e3_row5_col3, #T_c78e3_row5_col4, #T_c78e3_row5_col5, #T_c78e3_row5_col6, #T_c78e3_row6_col0, #T_c78e3_row6_col1, #T_c78e3_row6_col2, #T_c78e3_row6_col3, #T_c78e3_row6_col4, #T_c78e3_row6_col5, #T_c78e3_row6_col6, #T_c78e3_row7_col0, #T_c78e3_row7_col1, #T_c78e3_row7_col2, #T_c78e3_row7_col3, #T_c78e3_row7_col4, #T_c78e3_row7_col5, #T_c78e3_row7_col6, #T_c78e3_row8_col0, #T_c78e3_row8_col1, #T_c78e3_row8_col2, #T_c78e3_row8_col3, #T_c78e3_row8_col4, #T_c78e3_row8_col5, #T_c78e3_row8_col6, #T_c78e3_row9_col0, #T_c78e3_row9_col1, #T_c78e3_row9_col2, #T_c78e3_row9_col3, #T_c78e3_row9_col4, #T_c78e3_row9_col5, #T_c78e3_row9_col6, #T_c78e3_row10_col0, #T_c78e3_row10_col1, #T_c78e3_row10_col2, #T_c78e3_row10_col3, #T_c78e3_row10_col4, #T_c78e3_row10_col5, #T_c78e3_row10_col6, #T_c78e3_row11_col0, #T_c78e3_row11_col1, #T_c78e3_row11_col2, #T_c78e3_row11_col3, #T_c78e3_row11_col4, #T_c78e3_row11_col5, #T_c78e3_row11_col6, #T_c78e3_row12_col0, #T_c78e3_row12_col1, #T_c78e3_row12_col2, #T_c78e3_row12_col3, #T_c78e3_row12_col4, #T_c78e3_row12_col5, #T_c78e3_row12_col6, #T_c78e3_row13_col0, #T_c78e3_row13_col1, #T_c78e3_row13_col2, #T_c78e3_row13_col3, #T_c78e3_row13_col4, #T_c78e3_row13_col5, #T_c78e3_row13_col6, #T_c78e3_row14_col0, #T_c78e3_row14_col1, #T_c78e3_row14_col2, #T_c78e3_row14_col3, #T_c78e3_row14_col4, #T_c78e3_row14_col5, #T_c78e3_row14_col6, #T_c78e3_row15_col0, #T_c78e3_row15_col1, #T_c78e3_row15_col2, #T_c78e3_row15_col3, #T_c78e3_row15_col4, #T_c78e3_row15_col5, #T_c78e3_row15_col6, #T_c78e3_row16_col0, #T_c78e3_row16_col1, #T_c78e3_row16_col2, #T_c78e3_row16_col3, #T_c78e3_row16_col4, #T_c78e3_row16_col5, #T_c78e3_row16_col6, #T_c78e3_row17_col0, #T_c78e3_row17_col1, #T_c78e3_row17_col2, #T_c78e3_row17_col3, #T_c78e3_row17_col4, #T_c78e3_row17_col5, #T_c78e3_row17_col6, #T_c78e3_row18_col0, #T_c78e3_row18_col1, #T_c78e3_row18_col2, #T_c78e3_row18_col3, #T_c78e3_row18_col4, #T_c78e3_row18_col5, #T_c78e3_row18_col6 {\n",
       "  text-align: left;\n",
       "}\n",
       "#T_c78e3_row0_col1, #T_c78e3_row0_col2, #T_c78e3_row0_col3, #T_c78e3_row0_col4, #T_c78e3_row0_col5, #T_c78e3_row0_col6 {\n",
       "  text-align: left;\n",
       "  background-color: yellow;\n",
       "}\n",
       "#T_c78e3_row0_col7, #T_c78e3_row1_col7, #T_c78e3_row2_col7, #T_c78e3_row3_col7, #T_c78e3_row4_col7, #T_c78e3_row5_col7, #T_c78e3_row7_col7, #T_c78e3_row8_col7, #T_c78e3_row9_col7, #T_c78e3_row10_col7, #T_c78e3_row11_col7, #T_c78e3_row12_col7, #T_c78e3_row13_col7, #T_c78e3_row14_col7, #T_c78e3_row17_col7 {\n",
       "  text-align: left;\n",
       "  background-color: lightgrey;\n",
       "}\n",
       "#T_c78e3_row6_col7, #T_c78e3_row15_col7, #T_c78e3_row16_col7, #T_c78e3_row18_col7 {\n",
       "  text-align: left;\n",
       "  background-color: yellow;\n",
       "  background-color: lightgrey;\n",
       "}\n",
       "</style>\n",
       "<table id=\"T_c78e3\">\n",
       "  <thead>\n",
       "    <tr>\n",
       "      <th class=\"blank level0\" >&nbsp;</th>\n",
       "      <th id=\"T_c78e3_level0_col0\" class=\"col_heading level0 col0\" >Model</th>\n",
       "      <th id=\"T_c78e3_level0_col1\" class=\"col_heading level0 col1\" >MAE</th>\n",
       "      <th id=\"T_c78e3_level0_col2\" class=\"col_heading level0 col2\" >MSE</th>\n",
       "      <th id=\"T_c78e3_level0_col3\" class=\"col_heading level0 col3\" >RMSE</th>\n",
       "      <th id=\"T_c78e3_level0_col4\" class=\"col_heading level0 col4\" >R2</th>\n",
       "      <th id=\"T_c78e3_level0_col5\" class=\"col_heading level0 col5\" >RMSLE</th>\n",
       "      <th id=\"T_c78e3_level0_col6\" class=\"col_heading level0 col6\" >MAPE</th>\n",
       "      <th id=\"T_c78e3_level0_col7\" class=\"col_heading level0 col7\" >TT (Sec)</th>\n",
       "    </tr>\n",
       "  </thead>\n",
       "  <tbody>\n",
       "    <tr>\n",
       "      <th id=\"T_c78e3_level0_row0\" class=\"row_heading level0 row0\" >et</th>\n",
       "      <td id=\"T_c78e3_row0_col0\" class=\"data row0 col0\" >Extra Trees Regressor</td>\n",
       "      <td id=\"T_c78e3_row0_col1\" class=\"data row0 col1\" >4.9244</td>\n",
       "      <td id=\"T_c78e3_row0_col2\" class=\"data row0 col2\" >65.4110</td>\n",
       "      <td id=\"T_c78e3_row0_col3\" class=\"data row0 col3\" >8.0651</td>\n",
       "      <td id=\"T_c78e3_row0_col4\" class=\"data row0 col4\" >0.9897</td>\n",
       "      <td id=\"T_c78e3_row0_col5\" class=\"data row0 col5\" >0.0716</td>\n",
       "      <td id=\"T_c78e3_row0_col6\" class=\"data row0 col6\" >0.0602</td>\n",
       "      <td id=\"T_c78e3_row0_col7\" class=\"data row0 col7\" >0.0560</td>\n",
       "    </tr>\n",
       "    <tr>\n",
       "      <th id=\"T_c78e3_level0_row1\" class=\"row_heading level0 row1\" >rf</th>\n",
       "      <td id=\"T_c78e3_row1_col0\" class=\"data row1 col0\" >Random Forest Regressor</td>\n",
       "      <td id=\"T_c78e3_row1_col1\" class=\"data row1 col1\" >4.9421</td>\n",
       "      <td id=\"T_c78e3_row1_col2\" class=\"data row1 col2\" >66.9125</td>\n",
       "      <td id=\"T_c78e3_row1_col3\" class=\"data row1 col3\" >8.1520</td>\n",
       "      <td id=\"T_c78e3_row1_col4\" class=\"data row1 col4\" >0.9895</td>\n",
       "      <td id=\"T_c78e3_row1_col5\" class=\"data row1 col5\" >0.0732</td>\n",
       "      <td id=\"T_c78e3_row1_col6\" class=\"data row1 col6\" >0.0616</td>\n",
       "      <td id=\"T_c78e3_row1_col7\" class=\"data row1 col7\" >0.1110</td>\n",
       "    </tr>\n",
       "    <tr>\n",
       "      <th id=\"T_c78e3_level0_row2\" class=\"row_heading level0 row2\" >gbr</th>\n",
       "      <td id=\"T_c78e3_row2_col0\" class=\"data row2 col0\" >Gradient Boosting Regressor</td>\n",
       "      <td id=\"T_c78e3_row2_col1\" class=\"data row2 col1\" >5.0780</td>\n",
       "      <td id=\"T_c78e3_row2_col2\" class=\"data row2 col2\" >67.6602</td>\n",
       "      <td id=\"T_c78e3_row2_col3\" class=\"data row2 col3\" >8.1943</td>\n",
       "      <td id=\"T_c78e3_row2_col4\" class=\"data row2 col4\" >0.9894</td>\n",
       "      <td id=\"T_c78e3_row2_col5\" class=\"data row2 col5\" >0.1117</td>\n",
       "      <td id=\"T_c78e3_row2_col6\" class=\"data row2 col6\" >0.0858</td>\n",
       "      <td id=\"T_c78e3_row2_col7\" class=\"data row2 col7\" >0.0580</td>\n",
       "    </tr>\n",
       "    <tr>\n",
       "      <th id=\"T_c78e3_level0_row3\" class=\"row_heading level0 row3\" >lightgbm</th>\n",
       "      <td id=\"T_c78e3_row3_col0\" class=\"data row3 col0\" >Light Gradient Boosting Machine</td>\n",
       "      <td id=\"T_c78e3_row3_col1\" class=\"data row3 col1\" >5.0981</td>\n",
       "      <td id=\"T_c78e3_row3_col2\" class=\"data row3 col2\" >70.6223</td>\n",
       "      <td id=\"T_c78e3_row3_col3\" class=\"data row3 col3\" >8.3714</td>\n",
       "      <td id=\"T_c78e3_row3_col4\" class=\"data row3 col4\" >0.9889</td>\n",
       "      <td id=\"T_c78e3_row3_col5\" class=\"data row3 col5\" >0.0941</td>\n",
       "      <td id=\"T_c78e3_row3_col6\" class=\"data row3 col6\" >0.0706</td>\n",
       "      <td id=\"T_c78e3_row3_col7\" class=\"data row3 col7\" >0.0140</td>\n",
       "    </tr>\n",
       "    <tr>\n",
       "      <th id=\"T_c78e3_level0_row4\" class=\"row_heading level0 row4\" >xgboost</th>\n",
       "      <td id=\"T_c78e3_row4_col0\" class=\"data row4 col0\" >Extreme Gradient Boosting</td>\n",
       "      <td id=\"T_c78e3_row4_col1\" class=\"data row4 col1\" >5.2978</td>\n",
       "      <td id=\"T_c78e3_row4_col2\" class=\"data row4 col2\" >78.0769</td>\n",
       "      <td id=\"T_c78e3_row4_col3\" class=\"data row4 col3\" >8.8079</td>\n",
       "      <td id=\"T_c78e3_row4_col4\" class=\"data row4 col4\" >0.9877</td>\n",
       "      <td id=\"T_c78e3_row4_col5\" class=\"data row4 col5\" >0.0829</td>\n",
       "      <td id=\"T_c78e3_row4_col6\" class=\"data row4 col6\" >0.0682</td>\n",
       "      <td id=\"T_c78e3_row4_col7\" class=\"data row4 col7\" >0.0450</td>\n",
       "    </tr>\n",
       "    <tr>\n",
       "      <th id=\"T_c78e3_level0_row5\" class=\"row_heading level0 row5\" >ridge</th>\n",
       "      <td id=\"T_c78e3_row5_col0\" class=\"data row5 col0\" >Ridge Regression</td>\n",
       "      <td id=\"T_c78e3_row5_col1\" class=\"data row5 col1\" >6.7866</td>\n",
       "      <td id=\"T_c78e3_row5_col2\" class=\"data row5 col2\" >92.0085</td>\n",
       "      <td id=\"T_c78e3_row5_col3\" class=\"data row5 col3\" >9.5744</td>\n",
       "      <td id=\"T_c78e3_row5_col4\" class=\"data row5 col4\" >0.9855</td>\n",
       "      <td id=\"T_c78e3_row5_col5\" class=\"data row5 col5\" >0.3339</td>\n",
       "      <td id=\"T_c78e3_row5_col6\" class=\"data row5 col6\" >0.3364</td>\n",
       "      <td id=\"T_c78e3_row5_col7\" class=\"data row5 col7\" >0.0050</td>\n",
       "    </tr>\n",
       "    <tr>\n",
       "      <th id=\"T_c78e3_level0_row6\" class=\"row_heading level0 row6\" >lar</th>\n",
       "      <td id=\"T_c78e3_row6_col0\" class=\"data row6 col0\" >Least Angle Regression</td>\n",
       "      <td id=\"T_c78e3_row6_col1\" class=\"data row6 col1\" >6.7857</td>\n",
       "      <td id=\"T_c78e3_row6_col2\" class=\"data row6 col2\" >92.0093</td>\n",
       "      <td id=\"T_c78e3_row6_col3\" class=\"data row6 col3\" >9.5744</td>\n",
       "      <td id=\"T_c78e3_row6_col4\" class=\"data row6 col4\" >0.9855</td>\n",
       "      <td id=\"T_c78e3_row6_col5\" class=\"data row6 col5\" >0.3338</td>\n",
       "      <td id=\"T_c78e3_row6_col6\" class=\"data row6 col6\" >0.3362</td>\n",
       "      <td id=\"T_c78e3_row6_col7\" class=\"data row6 col7\" >0.0040</td>\n",
       "    </tr>\n",
       "    <tr>\n",
       "      <th id=\"T_c78e3_level0_row7\" class=\"row_heading level0 row7\" >br</th>\n",
       "      <td id=\"T_c78e3_row7_col0\" class=\"data row7 col0\" >Bayesian Ridge</td>\n",
       "      <td id=\"T_c78e3_row7_col1\" class=\"data row7 col1\" >6.7988</td>\n",
       "      <td id=\"T_c78e3_row7_col2\" class=\"data row7 col2\" >92.0269</td>\n",
       "      <td id=\"T_c78e3_row7_col3\" class=\"data row7 col3\" >9.5752</td>\n",
       "      <td id=\"T_c78e3_row7_col4\" class=\"data row7 col4\" >0.9855</td>\n",
       "      <td id=\"T_c78e3_row7_col5\" class=\"data row7 col5\" >0.3355</td>\n",
       "      <td id=\"T_c78e3_row7_col6\" class=\"data row7 col6\" >0.3387</td>\n",
       "      <td id=\"T_c78e3_row7_col7\" class=\"data row7 col7\" >0.0050</td>\n",
       "    </tr>\n",
       "    <tr>\n",
       "      <th id=\"T_c78e3_level0_row8\" class=\"row_heading level0 row8\" >lr</th>\n",
       "      <td id=\"T_c78e3_row8_col0\" class=\"data row8 col0\" >Linear Regression</td>\n",
       "      <td id=\"T_c78e3_row8_col1\" class=\"data row8 col1\" >6.7857</td>\n",
       "      <td id=\"T_c78e3_row8_col2\" class=\"data row8 col2\" >92.0093</td>\n",
       "      <td id=\"T_c78e3_row8_col3\" class=\"data row8 col3\" >9.5744</td>\n",
       "      <td id=\"T_c78e3_row8_col4\" class=\"data row8 col4\" >0.9855</td>\n",
       "      <td id=\"T_c78e3_row8_col5\" class=\"data row8 col5\" >0.3338</td>\n",
       "      <td id=\"T_c78e3_row8_col6\" class=\"data row8 col6\" >0.3362</td>\n",
       "      <td id=\"T_c78e3_row8_col7\" class=\"data row8 col7\" >0.1490</td>\n",
       "    </tr>\n",
       "    <tr>\n",
       "      <th id=\"T_c78e3_level0_row9\" class=\"row_heading level0 row9\" >en</th>\n",
       "      <td id=\"T_c78e3_row9_col0\" class=\"data row9 col0\" >Elastic Net</td>\n",
       "      <td id=\"T_c78e3_row9_col1\" class=\"data row9 col1\" >7.3052</td>\n",
       "      <td id=\"T_c78e3_row9_col2\" class=\"data row9 col2\" >99.2222</td>\n",
       "      <td id=\"T_c78e3_row9_col3\" class=\"data row9 col3\" >9.9395</td>\n",
       "      <td id=\"T_c78e3_row9_col4\" class=\"data row9 col4\" >0.9843</td>\n",
       "      <td id=\"T_c78e3_row9_col5\" class=\"data row9 col5\" >0.3748</td>\n",
       "      <td id=\"T_c78e3_row9_col6\" class=\"data row9 col6\" >0.4000</td>\n",
       "      <td id=\"T_c78e3_row9_col7\" class=\"data row9 col7\" >0.0060</td>\n",
       "    </tr>\n",
       "    <tr>\n",
       "      <th id=\"T_c78e3_level0_row10\" class=\"row_heading level0 row10\" >lasso</th>\n",
       "      <td id=\"T_c78e3_row10_col0\" class=\"data row10 col0\" >Lasso Regression</td>\n",
       "      <td id=\"T_c78e3_row10_col1\" class=\"data row10 col1\" >7.3526</td>\n",
       "      <td id=\"T_c78e3_row10_col2\" class=\"data row10 col2\" >100.2874</td>\n",
       "      <td id=\"T_c78e3_row10_col3\" class=\"data row10 col3\" >9.9919</td>\n",
       "      <td id=\"T_c78e3_row10_col4\" class=\"data row10 col4\" >0.9842</td>\n",
       "      <td id=\"T_c78e3_row10_col5\" class=\"data row10 col5\" >0.3766</td>\n",
       "      <td id=\"T_c78e3_row10_col6\" class=\"data row10 col6\" >0.4031</td>\n",
       "      <td id=\"T_c78e3_row10_col7\" class=\"data row10 col7\" >0.0050</td>\n",
       "    </tr>\n",
       "    <tr>\n",
       "      <th id=\"T_c78e3_level0_row11\" class=\"row_heading level0 row11\" >huber</th>\n",
       "      <td id=\"T_c78e3_row11_col0\" class=\"data row11 col0\" >Huber Regressor</td>\n",
       "      <td id=\"T_c78e3_row11_col1\" class=\"data row11 col1\" >7.1197</td>\n",
       "      <td id=\"T_c78e3_row11_col2\" class=\"data row11 col2\" >113.3196</td>\n",
       "      <td id=\"T_c78e3_row11_col3\" class=\"data row11 col3\" >10.5951</td>\n",
       "      <td id=\"T_c78e3_row11_col4\" class=\"data row11 col4\" >0.9821</td>\n",
       "      <td id=\"T_c78e3_row11_col5\" class=\"data row11 col5\" >0.2382</td>\n",
       "      <td id=\"T_c78e3_row11_col6\" class=\"data row11 col6\" >0.2196</td>\n",
       "      <td id=\"T_c78e3_row11_col7\" class=\"data row11 col7\" >0.0080</td>\n",
       "    </tr>\n",
       "    <tr>\n",
       "      <th id=\"T_c78e3_level0_row12\" class=\"row_heading level0 row12\" >ada</th>\n",
       "      <td id=\"T_c78e3_row12_col0\" class=\"data row12 col0\" >AdaBoost Regressor</td>\n",
       "      <td id=\"T_c78e3_row12_col1\" class=\"data row12 col1\" >8.2463</td>\n",
       "      <td id=\"T_c78e3_row12_col2\" class=\"data row12 col2\" >113.6429</td>\n",
       "      <td id=\"T_c78e3_row12_col3\" class=\"data row12 col3\" >10.6513</td>\n",
       "      <td id=\"T_c78e3_row12_col4\" class=\"data row12 col4\" >0.9821</td>\n",
       "      <td id=\"T_c78e3_row12_col5\" class=\"data row12 col5\" >0.6371</td>\n",
       "      <td id=\"T_c78e3_row12_col6\" class=\"data row12 col6\" >0.9919</td>\n",
       "      <td id=\"T_c78e3_row12_col7\" class=\"data row12 col7\" >0.0240</td>\n",
       "    </tr>\n",
       "    <tr>\n",
       "      <th id=\"T_c78e3_level0_row13\" class=\"row_heading level0 row13\" >dt</th>\n",
       "      <td id=\"T_c78e3_row13_col0\" class=\"data row13 col0\" >Decision Tree Regressor</td>\n",
       "      <td id=\"T_c78e3_row13_col1\" class=\"data row13 col1\" >6.7936</td>\n",
       "      <td id=\"T_c78e3_row13_col2\" class=\"data row13 col2\" >118.7609</td>\n",
       "      <td id=\"T_c78e3_row13_col3\" class=\"data row13 col3\" >10.8553</td>\n",
       "      <td id=\"T_c78e3_row13_col4\" class=\"data row13 col4\" >0.9813</td>\n",
       "      <td id=\"T_c78e3_row13_col5\" class=\"data row13 col5\" >0.1005</td>\n",
       "      <td id=\"T_c78e3_row13_col6\" class=\"data row13 col6\" >0.0855</td>\n",
       "      <td id=\"T_c78e3_row13_col7\" class=\"data row13 col7\" >0.0070</td>\n",
       "    </tr>\n",
       "    <tr>\n",
       "      <th id=\"T_c78e3_level0_row14\" class=\"row_heading level0 row14\" >knn</th>\n",
       "      <td id=\"T_c78e3_row14_col0\" class=\"data row14 col0\" >K Neighbors Regressor</td>\n",
       "      <td id=\"T_c78e3_row14_col1\" class=\"data row14 col1\" >8.4839</td>\n",
       "      <td id=\"T_c78e3_row14_col2\" class=\"data row14 col2\" >149.6735</td>\n",
       "      <td id=\"T_c78e3_row14_col3\" class=\"data row14 col3\" >12.2095</td>\n",
       "      <td id=\"T_c78e3_row14_col4\" class=\"data row14 col4\" >0.9763</td>\n",
       "      <td id=\"T_c78e3_row14_col5\" class=\"data row14 col5\" >0.4163</td>\n",
       "      <td id=\"T_c78e3_row14_col6\" class=\"data row14 col6\" >0.5012</td>\n",
       "      <td id=\"T_c78e3_row14_col7\" class=\"data row14 col7\" >0.0050</td>\n",
       "    </tr>\n",
       "    <tr>\n",
       "      <th id=\"T_c78e3_level0_row15\" class=\"row_heading level0 row15\" >omp</th>\n",
       "      <td id=\"T_c78e3_row15_col0\" class=\"data row15 col0\" >Orthogonal Matching Pursuit</td>\n",
       "      <td id=\"T_c78e3_row15_col1\" class=\"data row15 col1\" >8.7491</td>\n",
       "      <td id=\"T_c78e3_row15_col2\" class=\"data row15 col2\" >173.7928</td>\n",
       "      <td id=\"T_c78e3_row15_col3\" class=\"data row15 col3\" >13.1359</td>\n",
       "      <td id=\"T_c78e3_row15_col4\" class=\"data row15 col4\" >0.9726</td>\n",
       "      <td id=\"T_c78e3_row15_col5\" class=\"data row15 col5\" >0.4033</td>\n",
       "      <td id=\"T_c78e3_row15_col6\" class=\"data row15 col6\" >0.4537</td>\n",
       "      <td id=\"T_c78e3_row15_col7\" class=\"data row15 col7\" >0.0040</td>\n",
       "    </tr>\n",
       "    <tr>\n",
       "      <th id=\"T_c78e3_level0_row16\" class=\"row_heading level0 row16\" >par</th>\n",
       "      <td id=\"T_c78e3_row16_col0\" class=\"data row16 col0\" >Passive Aggressive Regressor</td>\n",
       "      <td id=\"T_c78e3_row16_col1\" class=\"data row16 col1\" >17.3928</td>\n",
       "      <td id=\"T_c78e3_row16_col2\" class=\"data row16 col2\" >537.2334</td>\n",
       "      <td id=\"T_c78e3_row16_col3\" class=\"data row16 col3\" >21.6945</td>\n",
       "      <td id=\"T_c78e3_row16_col4\" class=\"data row16 col4\" >0.9149</td>\n",
       "      <td id=\"T_c78e3_row16_col5\" class=\"data row16 col5\" >0.8125</td>\n",
       "      <td id=\"T_c78e3_row16_col6\" class=\"data row16 col6\" >1.7778</td>\n",
       "      <td id=\"T_c78e3_row16_col7\" class=\"data row16 col7\" >0.0040</td>\n",
       "    </tr>\n",
       "    <tr>\n",
       "      <th id=\"T_c78e3_level0_row17\" class=\"row_heading level0 row17\" >llar</th>\n",
       "      <td id=\"T_c78e3_row17_col0\" class=\"data row17 col0\" >Lasso Least Angle Regression</td>\n",
       "      <td id=\"T_c78e3_row17_col1\" class=\"data row17 col1\" >44.9525</td>\n",
       "      <td id=\"T_c78e3_row17_col2\" class=\"data row17 col2\" >2722.8484</td>\n",
       "      <td id=\"T_c78e3_row17_col3\" class=\"data row17 col3\" >52.1491</td>\n",
       "      <td id=\"T_c78e3_row17_col4\" class=\"data row17 col4\" >0.5700</td>\n",
       "      <td id=\"T_c78e3_row17_col5\" class=\"data row17 col5\" >1.2581</td>\n",
       "      <td id=\"T_c78e3_row17_col6\" class=\"data row17 col6\" >4.3783</td>\n",
       "      <td id=\"T_c78e3_row17_col7\" class=\"data row17 col7\" >0.0050</td>\n",
       "    </tr>\n",
       "    <tr>\n",
       "      <th id=\"T_c78e3_level0_row18\" class=\"row_heading level0 row18\" >dummy</th>\n",
       "      <td id=\"T_c78e3_row18_col0\" class=\"data row18 col0\" >Dummy Regressor</td>\n",
       "      <td id=\"T_c78e3_row18_col1\" class=\"data row18 col1\" >69.3633</td>\n",
       "      <td id=\"T_c78e3_row18_col2\" class=\"data row18 col2\" >6378.4403</td>\n",
       "      <td id=\"T_c78e3_row18_col3\" class=\"data row18 col3\" >79.8306</td>\n",
       "      <td id=\"T_c78e3_row18_col4\" class=\"data row18 col4\" >-0.0079</td>\n",
       "      <td id=\"T_c78e3_row18_col5\" class=\"data row18 col5\" >1.5037</td>\n",
       "      <td id=\"T_c78e3_row18_col6\" class=\"data row18 col6\" >6.6014</td>\n",
       "      <td id=\"T_c78e3_row18_col7\" class=\"data row18 col7\" >0.0040</td>\n",
       "    </tr>\n",
       "  </tbody>\n",
       "</table>\n"
      ],
      "text/plain": [
       "<pandas.io.formats.style.Styler at 0x2848dde40>"
      ]
     },
     "metadata": {},
     "output_type": "display_data"
    },
    {
     "data": {
      "text/html": [],
      "text/plain": [
       "<IPython.core.display.HTML object>"
      ]
     },
     "metadata": {},
     "output_type": "display_data"
    }
   ],
   "source": [
    "best = compare_models()"
   ]
  },
  {
   "cell_type": "markdown",
   "id": "750892ba-b0bb-4277-98c2-4bced161725f",
   "metadata": {},
   "source": [
    "pyCaret also confirms that ExtraTreeRegression seems to deviler the best performance for this dataset."
   ]
  },
  {
   "cell_type": "code",
   "execution_count": 30,
   "id": "9edf833d-b372-4d8a-9ffb-921f0bff5da9",
   "metadata": {},
   "outputs": [
    {
     "data": {
      "text/html": [],
      "text/plain": [
       "<IPython.core.display.HTML object>"
      ]
     },
     "metadata": {},
     "output_type": "display_data"
    },
    {
     "data": {
      "text/html": [
       "<style type=\"text/css\">\n",
       "#T_b09c0_row10_col0, #T_b09c0_row10_col1, #T_b09c0_row10_col2, #T_b09c0_row10_col3, #T_b09c0_row10_col4, #T_b09c0_row10_col5 {\n",
       "  background: yellow;\n",
       "}\n",
       "</style>\n",
       "<table id=\"T_b09c0\">\n",
       "  <thead>\n",
       "    <tr>\n",
       "      <th class=\"blank level0\" >&nbsp;</th>\n",
       "      <th id=\"T_b09c0_level0_col0\" class=\"col_heading level0 col0\" >MAE</th>\n",
       "      <th id=\"T_b09c0_level0_col1\" class=\"col_heading level0 col1\" >MSE</th>\n",
       "      <th id=\"T_b09c0_level0_col2\" class=\"col_heading level0 col2\" >RMSE</th>\n",
       "      <th id=\"T_b09c0_level0_col3\" class=\"col_heading level0 col3\" >R2</th>\n",
       "      <th id=\"T_b09c0_level0_col4\" class=\"col_heading level0 col4\" >RMSLE</th>\n",
       "      <th id=\"T_b09c0_level0_col5\" class=\"col_heading level0 col5\" >MAPE</th>\n",
       "    </tr>\n",
       "    <tr>\n",
       "      <th class=\"index_name level0\" >Fold</th>\n",
       "      <th class=\"blank col0\" >&nbsp;</th>\n",
       "      <th class=\"blank col1\" >&nbsp;</th>\n",
       "      <th class=\"blank col2\" >&nbsp;</th>\n",
       "      <th class=\"blank col3\" >&nbsp;</th>\n",
       "      <th class=\"blank col4\" >&nbsp;</th>\n",
       "      <th class=\"blank col5\" >&nbsp;</th>\n",
       "    </tr>\n",
       "  </thead>\n",
       "  <tbody>\n",
       "    <tr>\n",
       "      <th id=\"T_b09c0_level0_row0\" class=\"row_heading level0 row0\" >0</th>\n",
       "      <td id=\"T_b09c0_row0_col0\" class=\"data row0 col0\" >4.5082</td>\n",
       "      <td id=\"T_b09c0_row0_col1\" class=\"data row0 col1\" >61.8598</td>\n",
       "      <td id=\"T_b09c0_row0_col2\" class=\"data row0 col2\" >7.8651</td>\n",
       "      <td id=\"T_b09c0_row0_col3\" class=\"data row0 col3\" >0.9896</td>\n",
       "      <td id=\"T_b09c0_row0_col4\" class=\"data row0 col4\" >0.0725</td>\n",
       "      <td id=\"T_b09c0_row0_col5\" class=\"data row0 col5\" >0.0623</td>\n",
       "    </tr>\n",
       "    <tr>\n",
       "      <th id=\"T_b09c0_level0_row1\" class=\"row_heading level0 row1\" >1</th>\n",
       "      <td id=\"T_b09c0_row1_col0\" class=\"data row1 col0\" >4.6697</td>\n",
       "      <td id=\"T_b09c0_row1_col1\" class=\"data row1 col1\" >61.5910</td>\n",
       "      <td id=\"T_b09c0_row1_col2\" class=\"data row1 col2\" >7.8480</td>\n",
       "      <td id=\"T_b09c0_row1_col3\" class=\"data row1 col3\" >0.9898</td>\n",
       "      <td id=\"T_b09c0_row1_col4\" class=\"data row1 col4\" >0.0697</td>\n",
       "      <td id=\"T_b09c0_row1_col5\" class=\"data row1 col5\" >0.0560</td>\n",
       "    </tr>\n",
       "    <tr>\n",
       "      <th id=\"T_b09c0_level0_row2\" class=\"row_heading level0 row2\" >2</th>\n",
       "      <td id=\"T_b09c0_row2_col0\" class=\"data row2 col0\" >5.1633</td>\n",
       "      <td id=\"T_b09c0_row2_col1\" class=\"data row2 col1\" >71.4715</td>\n",
       "      <td id=\"T_b09c0_row2_col2\" class=\"data row2 col2\" >8.4541</td>\n",
       "      <td id=\"T_b09c0_row2_col3\" class=\"data row2 col3\" >0.9887</td>\n",
       "      <td id=\"T_b09c0_row2_col4\" class=\"data row2 col4\" >0.0697</td>\n",
       "      <td id=\"T_b09c0_row2_col5\" class=\"data row2 col5\" >0.0583</td>\n",
       "    </tr>\n",
       "    <tr>\n",
       "      <th id=\"T_b09c0_level0_row3\" class=\"row_heading level0 row3\" >3</th>\n",
       "      <td id=\"T_b09c0_row3_col0\" class=\"data row3 col0\" >4.8489</td>\n",
       "      <td id=\"T_b09c0_row3_col1\" class=\"data row3 col1\" >67.5730</td>\n",
       "      <td id=\"T_b09c0_row3_col2\" class=\"data row3 col2\" >8.2203</td>\n",
       "      <td id=\"T_b09c0_row3_col3\" class=\"data row3 col3\" >0.9897</td>\n",
       "      <td id=\"T_b09c0_row3_col4\" class=\"data row3 col4\" >0.0729</td>\n",
       "      <td id=\"T_b09c0_row3_col5\" class=\"data row3 col5\" >0.0628</td>\n",
       "    </tr>\n",
       "    <tr>\n",
       "      <th id=\"T_b09c0_level0_row4\" class=\"row_heading level0 row4\" >4</th>\n",
       "      <td id=\"T_b09c0_row4_col0\" class=\"data row4 col0\" >4.9338</td>\n",
       "      <td id=\"T_b09c0_row4_col1\" class=\"data row4 col1\" >55.6284</td>\n",
       "      <td id=\"T_b09c0_row4_col2\" class=\"data row4 col2\" >7.4584</td>\n",
       "      <td id=\"T_b09c0_row4_col3\" class=\"data row4 col3\" >0.9906</td>\n",
       "      <td id=\"T_b09c0_row4_col4\" class=\"data row4 col4\" >0.0723</td>\n",
       "      <td id=\"T_b09c0_row4_col5\" class=\"data row4 col5\" >0.0612</td>\n",
       "    </tr>\n",
       "    <tr>\n",
       "      <th id=\"T_b09c0_level0_row5\" class=\"row_heading level0 row5\" >5</th>\n",
       "      <td id=\"T_b09c0_row5_col0\" class=\"data row5 col0\" >5.1640</td>\n",
       "      <td id=\"T_b09c0_row5_col1\" class=\"data row5 col1\" >71.2992</td>\n",
       "      <td id=\"T_b09c0_row5_col2\" class=\"data row5 col2\" >8.4439</td>\n",
       "      <td id=\"T_b09c0_row5_col3\" class=\"data row5 col3\" >0.9891</td>\n",
       "      <td id=\"T_b09c0_row5_col4\" class=\"data row5 col4\" >0.0713</td>\n",
       "      <td id=\"T_b09c0_row5_col5\" class=\"data row5 col5\" >0.0594</td>\n",
       "    </tr>\n",
       "    <tr>\n",
       "      <th id=\"T_b09c0_level0_row6\" class=\"row_heading level0 row6\" >6</th>\n",
       "      <td id=\"T_b09c0_row6_col0\" class=\"data row6 col0\" >5.5804</td>\n",
       "      <td id=\"T_b09c0_row6_col1\" class=\"data row6 col1\" >86.5890</td>\n",
       "      <td id=\"T_b09c0_row6_col2\" class=\"data row6 col2\" >9.3053</td>\n",
       "      <td id=\"T_b09c0_row6_col3\" class=\"data row6 col3\" >0.9874</td>\n",
       "      <td id=\"T_b09c0_row6_col4\" class=\"data row6 col4\" >0.0724</td>\n",
       "      <td id=\"T_b09c0_row6_col5\" class=\"data row6 col5\" >0.0584</td>\n",
       "    </tr>\n",
       "    <tr>\n",
       "      <th id=\"T_b09c0_level0_row7\" class=\"row_heading level0 row7\" >7</th>\n",
       "      <td id=\"T_b09c0_row7_col0\" class=\"data row7 col0\" >4.3657</td>\n",
       "      <td id=\"T_b09c0_row7_col1\" class=\"data row7 col1\" >50.4883</td>\n",
       "      <td id=\"T_b09c0_row7_col2\" class=\"data row7 col2\" >7.1055</td>\n",
       "      <td id=\"T_b09c0_row7_col3\" class=\"data row7 col3\" >0.9917</td>\n",
       "      <td id=\"T_b09c0_row7_col4\" class=\"data row7 col4\" >0.0723</td>\n",
       "      <td id=\"T_b09c0_row7_col5\" class=\"data row7 col5\" >0.0603</td>\n",
       "    </tr>\n",
       "    <tr>\n",
       "      <th id=\"T_b09c0_level0_row8\" class=\"row_heading level0 row8\" >8</th>\n",
       "      <td id=\"T_b09c0_row8_col0\" class=\"data row8 col0\" >5.5135</td>\n",
       "      <td id=\"T_b09c0_row8_col1\" class=\"data row8 col1\" >70.9671</td>\n",
       "      <td id=\"T_b09c0_row8_col2\" class=\"data row8 col2\" >8.4242</td>\n",
       "      <td id=\"T_b09c0_row8_col3\" class=\"data row8 col3\" >0.9897</td>\n",
       "      <td id=\"T_b09c0_row8_col4\" class=\"data row8 col4\" >0.0739</td>\n",
       "      <td id=\"T_b09c0_row8_col5\" class=\"data row8 col5\" >0.0619</td>\n",
       "    </tr>\n",
       "    <tr>\n",
       "      <th id=\"T_b09c0_level0_row9\" class=\"row_heading level0 row9\" >9</th>\n",
       "      <td id=\"T_b09c0_row9_col0\" class=\"data row9 col0\" >4.4963</td>\n",
       "      <td id=\"T_b09c0_row9_col1\" class=\"data row9 col1\" >56.6434</td>\n",
       "      <td id=\"T_b09c0_row9_col2\" class=\"data row9 col2\" >7.5262</td>\n",
       "      <td id=\"T_b09c0_row9_col3\" class=\"data row9 col3\" >0.9907</td>\n",
       "      <td id=\"T_b09c0_row9_col4\" class=\"data row9 col4\" >0.0691</td>\n",
       "      <td id=\"T_b09c0_row9_col5\" class=\"data row9 col5\" >0.0615</td>\n",
       "    </tr>\n",
       "    <tr>\n",
       "      <th id=\"T_b09c0_level0_row10\" class=\"row_heading level0 row10\" >Mean</th>\n",
       "      <td id=\"T_b09c0_row10_col0\" class=\"data row10 col0\" >4.9244</td>\n",
       "      <td id=\"T_b09c0_row10_col1\" class=\"data row10 col1\" >65.4110</td>\n",
       "      <td id=\"T_b09c0_row10_col2\" class=\"data row10 col2\" >8.0651</td>\n",
       "      <td id=\"T_b09c0_row10_col3\" class=\"data row10 col3\" >0.9897</td>\n",
       "      <td id=\"T_b09c0_row10_col4\" class=\"data row10 col4\" >0.0716</td>\n",
       "      <td id=\"T_b09c0_row10_col5\" class=\"data row10 col5\" >0.0602</td>\n",
       "    </tr>\n",
       "    <tr>\n",
       "      <th id=\"T_b09c0_level0_row11\" class=\"row_heading level0 row11\" >Std</th>\n",
       "      <td id=\"T_b09c0_row11_col0\" class=\"data row11 col0\" >0.4039</td>\n",
       "      <td id=\"T_b09c0_row11_col1\" class=\"data row11 col1\" >9.8889</td>\n",
       "      <td id=\"T_b09c0_row11_col2\" class=\"data row11 col2\" >0.6043</td>\n",
       "      <td id=\"T_b09c0_row11_col3\" class=\"data row11 col3\" >0.0011</td>\n",
       "      <td id=\"T_b09c0_row11_col4\" class=\"data row11 col4\" >0.0015</td>\n",
       "      <td id=\"T_b09c0_row11_col5\" class=\"data row11 col5\" >0.0021</td>\n",
       "    </tr>\n",
       "  </tbody>\n",
       "</table>\n"
      ],
      "text/plain": [
       "<pandas.io.formats.style.Styler at 0x28a43d6c0>"
      ]
     },
     "metadata": {},
     "output_type": "display_data"
    },
    {
     "data": {
      "text/html": [],
      "text/plain": [
       "<IPython.core.display.HTML object>"
      ]
     },
     "metadata": {},
     "output_type": "display_data"
    }
   ],
   "source": [
    "et = create_model('et')"
   ]
  },
  {
   "cell_type": "code",
   "execution_count": 32,
   "id": "8c5b98f4-2fef-4255-a0c9-595d21d2309e",
   "metadata": {},
   "outputs": [
    {
     "data": {
      "text/html": [],
      "text/plain": [
       "<IPython.core.display.HTML object>"
      ]
     },
     "metadata": {},
     "output_type": "display_data"
    },
    {
     "data": {
      "text/html": [
       "<style type=\"text/css\">\n",
       "#T_ca5c5_row10_col0, #T_ca5c5_row10_col1, #T_ca5c5_row10_col2, #T_ca5c5_row10_col3, #T_ca5c5_row10_col4, #T_ca5c5_row10_col5 {\n",
       "  background: yellow;\n",
       "}\n",
       "</style>\n",
       "<table id=\"T_ca5c5\">\n",
       "  <thead>\n",
       "    <tr>\n",
       "      <th class=\"blank level0\" >&nbsp;</th>\n",
       "      <th id=\"T_ca5c5_level0_col0\" class=\"col_heading level0 col0\" >MAE</th>\n",
       "      <th id=\"T_ca5c5_level0_col1\" class=\"col_heading level0 col1\" >MSE</th>\n",
       "      <th id=\"T_ca5c5_level0_col2\" class=\"col_heading level0 col2\" >RMSE</th>\n",
       "      <th id=\"T_ca5c5_level0_col3\" class=\"col_heading level0 col3\" >R2</th>\n",
       "      <th id=\"T_ca5c5_level0_col4\" class=\"col_heading level0 col4\" >RMSLE</th>\n",
       "      <th id=\"T_ca5c5_level0_col5\" class=\"col_heading level0 col5\" >MAPE</th>\n",
       "    </tr>\n",
       "    <tr>\n",
       "      <th class=\"index_name level0\" >Fold</th>\n",
       "      <th class=\"blank col0\" >&nbsp;</th>\n",
       "      <th class=\"blank col1\" >&nbsp;</th>\n",
       "      <th class=\"blank col2\" >&nbsp;</th>\n",
       "      <th class=\"blank col3\" >&nbsp;</th>\n",
       "      <th class=\"blank col4\" >&nbsp;</th>\n",
       "      <th class=\"blank col5\" >&nbsp;</th>\n",
       "    </tr>\n",
       "  </thead>\n",
       "  <tbody>\n",
       "    <tr>\n",
       "      <th id=\"T_ca5c5_level0_row0\" class=\"row_heading level0 row0\" >0</th>\n",
       "      <td id=\"T_ca5c5_row0_col0\" class=\"data row0 col0\" >4.6816</td>\n",
       "      <td id=\"T_ca5c5_row0_col1\" class=\"data row0 col1\" >59.8774</td>\n",
       "      <td id=\"T_ca5c5_row0_col2\" class=\"data row0 col2\" >7.7380</td>\n",
       "      <td id=\"T_ca5c5_row0_col3\" class=\"data row0 col3\" >0.9899</td>\n",
       "      <td id=\"T_ca5c5_row0_col4\" class=\"data row0 col4\" >0.0981</td>\n",
       "      <td id=\"T_ca5c5_row0_col5\" class=\"data row0 col5\" >0.0835</td>\n",
       "    </tr>\n",
       "    <tr>\n",
       "      <th id=\"T_ca5c5_level0_row1\" class=\"row_heading level0 row1\" >1</th>\n",
       "      <td id=\"T_ca5c5_row1_col0\" class=\"data row1 col0\" >4.7727</td>\n",
       "      <td id=\"T_ca5c5_row1_col1\" class=\"data row1 col1\" >65.1033</td>\n",
       "      <td id=\"T_ca5c5_row1_col2\" class=\"data row1 col2\" >8.0687</td>\n",
       "      <td id=\"T_ca5c5_row1_col3\" class=\"data row1 col3\" >0.9893</td>\n",
       "      <td id=\"T_ca5c5_row1_col4\" class=\"data row1 col4\" >0.0738</td>\n",
       "      <td id=\"T_ca5c5_row1_col5\" class=\"data row1 col5\" >0.0630</td>\n",
       "    </tr>\n",
       "    <tr>\n",
       "      <th id=\"T_ca5c5_level0_row2\" class=\"row_heading level0 row2\" >2</th>\n",
       "      <td id=\"T_ca5c5_row2_col0\" class=\"data row2 col0\" >5.6777</td>\n",
       "      <td id=\"T_ca5c5_row2_col1\" class=\"data row2 col1\" >82.6494</td>\n",
       "      <td id=\"T_ca5c5_row2_col2\" class=\"data row2 col2\" >9.0912</td>\n",
       "      <td id=\"T_ca5c5_row2_col3\" class=\"data row2 col3\" >0.9869</td>\n",
       "      <td id=\"T_ca5c5_row2_col4\" class=\"data row2 col4\" >0.0861</td>\n",
       "      <td id=\"T_ca5c5_row2_col5\" class=\"data row2 col5\" >0.0705</td>\n",
       "    </tr>\n",
       "    <tr>\n",
       "      <th id=\"T_ca5c5_level0_row3\" class=\"row_heading level0 row3\" >3</th>\n",
       "      <td id=\"T_ca5c5_row3_col0\" class=\"data row3 col0\" >5.2956</td>\n",
       "      <td id=\"T_ca5c5_row3_col1\" class=\"data row3 col1\" >82.4689</td>\n",
       "      <td id=\"T_ca5c5_row3_col2\" class=\"data row3 col2\" >9.0812</td>\n",
       "      <td id=\"T_ca5c5_row3_col3\" class=\"data row3 col3\" >0.9875</td>\n",
       "      <td id=\"T_ca5c5_row3_col4\" class=\"data row3 col4\" >0.0847</td>\n",
       "      <td id=\"T_ca5c5_row3_col5\" class=\"data row3 col5\" >0.0725</td>\n",
       "    </tr>\n",
       "    <tr>\n",
       "      <th id=\"T_ca5c5_level0_row4\" class=\"row_heading level0 row4\" >4</th>\n",
       "      <td id=\"T_ca5c5_row4_col0\" class=\"data row4 col0\" >5.0592</td>\n",
       "      <td id=\"T_ca5c5_row4_col1\" class=\"data row4 col1\" >58.8067</td>\n",
       "      <td id=\"T_ca5c5_row4_col2\" class=\"data row4 col2\" >7.6686</td>\n",
       "      <td id=\"T_ca5c5_row4_col3\" class=\"data row4 col3\" >0.9901</td>\n",
       "      <td id=\"T_ca5c5_row4_col4\" class=\"data row4 col4\" >0.0880</td>\n",
       "      <td id=\"T_ca5c5_row4_col5\" class=\"data row4 col5\" >0.0674</td>\n",
       "    </tr>\n",
       "    <tr>\n",
       "      <th id=\"T_ca5c5_level0_row5\" class=\"row_heading level0 row5\" >5</th>\n",
       "      <td id=\"T_ca5c5_row5_col0\" class=\"data row5 col0\" >5.4543</td>\n",
       "      <td id=\"T_ca5c5_row5_col1\" class=\"data row5 col1\" >83.1811</td>\n",
       "      <td id=\"T_ca5c5_row5_col2\" class=\"data row5 col2\" >9.1204</td>\n",
       "      <td id=\"T_ca5c5_row5_col3\" class=\"data row5 col3\" >0.9873</td>\n",
       "      <td id=\"T_ca5c5_row5_col4\" class=\"data row5 col4\" >0.0762</td>\n",
       "      <td id=\"T_ca5c5_row5_col5\" class=\"data row5 col5\" >0.0646</td>\n",
       "    </tr>\n",
       "    <tr>\n",
       "      <th id=\"T_ca5c5_level0_row6\" class=\"row_heading level0 row6\" >6</th>\n",
       "      <td id=\"T_ca5c5_row6_col0\" class=\"data row6 col0\" >5.9653</td>\n",
       "      <td id=\"T_ca5c5_row6_col1\" class=\"data row6 col1\" >98.3517</td>\n",
       "      <td id=\"T_ca5c5_row6_col2\" class=\"data row6 col2\" >9.9172</td>\n",
       "      <td id=\"T_ca5c5_row6_col3\" class=\"data row6 col3\" >0.9857</td>\n",
       "      <td id=\"T_ca5c5_row6_col4\" class=\"data row6 col4\" >0.0860</td>\n",
       "      <td id=\"T_ca5c5_row6_col5\" class=\"data row6 col5\" >0.0689</td>\n",
       "    </tr>\n",
       "    <tr>\n",
       "      <th id=\"T_ca5c5_level0_row7\" class=\"row_heading level0 row7\" >7</th>\n",
       "      <td id=\"T_ca5c5_row7_col0\" class=\"data row7 col0\" >4.9106</td>\n",
       "      <td id=\"T_ca5c5_row7_col1\" class=\"data row7 col1\" >62.0593</td>\n",
       "      <td id=\"T_ca5c5_row7_col2\" class=\"data row7 col2\" >7.8778</td>\n",
       "      <td id=\"T_ca5c5_row7_col3\" class=\"data row7 col3\" >0.9898</td>\n",
       "      <td id=\"T_ca5c5_row7_col4\" class=\"data row7 col4\" >0.0849</td>\n",
       "      <td id=\"T_ca5c5_row7_col5\" class=\"data row7 col5\" >0.0713</td>\n",
       "    </tr>\n",
       "    <tr>\n",
       "      <th id=\"T_ca5c5_level0_row8\" class=\"row_heading level0 row8\" >8</th>\n",
       "      <td id=\"T_ca5c5_row8_col0\" class=\"data row8 col0\" >5.7391</td>\n",
       "      <td id=\"T_ca5c5_row8_col1\" class=\"data row8 col1\" >76.2650</td>\n",
       "      <td id=\"T_ca5c5_row8_col2\" class=\"data row8 col2\" >8.7330</td>\n",
       "      <td id=\"T_ca5c5_row8_col3\" class=\"data row8 col3\" >0.9889</td>\n",
       "      <td id=\"T_ca5c5_row8_col4\" class=\"data row8 col4\" >0.0777</td>\n",
       "      <td id=\"T_ca5c5_row8_col5\" class=\"data row8 col5\" >0.0652</td>\n",
       "    </tr>\n",
       "    <tr>\n",
       "      <th id=\"T_ca5c5_level0_row9\" class=\"row_heading level0 row9\" >9</th>\n",
       "      <td id=\"T_ca5c5_row9_col0\" class=\"data row9 col0\" >4.7863</td>\n",
       "      <td id=\"T_ca5c5_row9_col1\" class=\"data row9 col1\" >62.6493</td>\n",
       "      <td id=\"T_ca5c5_row9_col2\" class=\"data row9 col2\" >7.9151</td>\n",
       "      <td id=\"T_ca5c5_row9_col3\" class=\"data row9 col3\" >0.9897</td>\n",
       "      <td id=\"T_ca5c5_row9_col4\" class=\"data row9 col4\" >0.0853</td>\n",
       "      <td id=\"T_ca5c5_row9_col5\" class=\"data row9 col5\" >0.0757</td>\n",
       "    </tr>\n",
       "    <tr>\n",
       "      <th id=\"T_ca5c5_level0_row10\" class=\"row_heading level0 row10\" >Mean</th>\n",
       "      <td id=\"T_ca5c5_row10_col0\" class=\"data row10 col0\" >5.2342</td>\n",
       "      <td id=\"T_ca5c5_row10_col1\" class=\"data row10 col1\" >73.1412</td>\n",
       "      <td id=\"T_ca5c5_row10_col2\" class=\"data row10 col2\" >8.5211</td>\n",
       "      <td id=\"T_ca5c5_row10_col3\" class=\"data row10 col3\" >0.9885</td>\n",
       "      <td id=\"T_ca5c5_row10_col4\" class=\"data row10 col4\" >0.0841</td>\n",
       "      <td id=\"T_ca5c5_row10_col5\" class=\"data row10 col5\" >0.0703</td>\n",
       "    </tr>\n",
       "    <tr>\n",
       "      <th id=\"T_ca5c5_level0_row11\" class=\"row_heading level0 row11\" >Std</th>\n",
       "      <td id=\"T_ca5c5_row11_col0\" class=\"data row11 col0\" >0.4351</td>\n",
       "      <td id=\"T_ca5c5_row11_col1\" class=\"data row11 col1\" >12.6587</td>\n",
       "      <td id=\"T_ca5c5_row11_col2\" class=\"data row11 col2\" >0.7292</td>\n",
       "      <td id=\"T_ca5c5_row11_col3\" class=\"data row11 col3\" >0.0015</td>\n",
       "      <td id=\"T_ca5c5_row11_col4\" class=\"data row11 col4\" >0.0066</td>\n",
       "      <td id=\"T_ca5c5_row11_col5\" class=\"data row11 col5\" >0.0058</td>\n",
       "    </tr>\n",
       "  </tbody>\n",
       "</table>\n"
      ],
      "text/plain": [
       "<pandas.io.formats.style.Styler at 0x28a459c60>"
      ]
     },
     "metadata": {},
     "output_type": "display_data"
    },
    {
     "data": {
      "text/html": [],
      "text/plain": [
       "<IPython.core.display.HTML object>"
      ]
     },
     "metadata": {},
     "output_type": "display_data"
    },
    {
     "name": "stdout",
     "output_type": "stream",
     "text": [
      "Fitting 10 folds for each of 10 candidates, totalling 100 fits\n",
      "Original model was better than the tuned model, hence it will be returned. NOTE: The display metrics are for the tuned model (not the original one).\n"
     ]
    }
   ],
   "source": [
    "tuned_et = tune_model(et, optimize = 'MAPE')"
   ]
  },
  {
   "cell_type": "markdown",
   "id": "7ec4ff48-0e07-4841-94a1-db0026633dd8",
   "metadata": {},
   "source": [
    "Interestingly tuning the model doesn't seem to improve performance."
   ]
  },
  {
   "cell_type": "code",
   "execution_count": null,
   "id": "f76f4028-2e50-4591-a02b-957a06295e8f",
   "metadata": {},
   "outputs": [],
   "source": []
  }
 ],
 "metadata": {
  "kernelspec": {
   "display_name": "Python 3 (ipykernel)",
   "language": "python",
   "name": "python3"
  },
  "language_info": {
   "codemirror_mode": {
    "name": "ipython",
    "version": 3
   },
   "file_extension": ".py",
   "mimetype": "text/x-python",
   "name": "python",
   "nbconvert_exporter": "python",
   "pygments_lexer": "ipython3",
   "version": "3.10.6"
  }
 },
 "nbformat": 4,
 "nbformat_minor": 5
}
