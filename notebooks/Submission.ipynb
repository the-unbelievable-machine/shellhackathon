{
 "cells": [
  {
   "cell_type": "code",
   "execution_count": 43,
   "id": "b2c859d7-d6ee-47ea-b331-176ac2cb01e4",
   "metadata": {},
   "outputs": [],
   "source": [
    "import pandas as pd"
   ]
  },
  {
   "cell_type": "code",
   "execution_count": 44,
   "id": "507ed6bd-7985-496e-bbf1-cc676657f378",
   "metadata": {},
   "outputs": [],
   "source": [
    "result_2019 = pd.read_csv(\"../data/processed/result_2019.csv\")"
   ]
  },
  {
   "cell_type": "code",
   "execution_count": 45,
   "id": "62214d6d-5cf4-4324-b725-c1abcc755d91",
   "metadata": {},
   "outputs": [],
   "source": [
    "result_2020 = pd.read_csv(\"../data/processed/result_2020.csv\")"
   ]
  },
  {
   "cell_type": "code",
   "execution_count": 46,
   "id": "196e8aa6-85db-403a-b0d4-80b0d3aeaa72",
   "metadata": {},
   "outputs": [],
   "source": [
    "submission = pd.concat([result_2019, result_2020])"
   ]
  },
  {
   "cell_type": "code",
   "execution_count": 47,
   "id": "739a6354-fb8f-4569-a9f1-992f80f377b3",
   "metadata": {},
   "outputs": [],
   "source": [
    "# We need to truncate the results. Otherwise the constraints are violated due to floating point issues\n",
    "# see https://stackoverflow.com/a/49960574\n",
    "def truncate(theNumber, theDigits):\n",
    "    myDigits = 10 ** theDigits\n",
    "    return (int(theNumber * myDigits) / myDigits)"
   ]
  },
  {
   "cell_type": "code",
   "execution_count": 48,
   "id": "77fe59db-7dc2-4c5d-a612-6fcd1dd46d07",
   "metadata": {},
   "outputs": [],
   "source": [
    "submission['value'] = submission['value'].apply(lambda x: truncate(x,2))"
   ]
  },
  {
   "cell_type": "code",
   "execution_count": 51,
   "id": "678ee427-6afa-4eae-92f9-d6b7923383f8",
   "metadata": {},
   "outputs": [
    {
     "data": {
      "text/html": [
       "<div>\n",
       "<style scoped>\n",
       "    .dataframe tbody tr th:only-of-type {\n",
       "        vertical-align: middle;\n",
       "    }\n",
       "\n",
       "    .dataframe tbody tr th {\n",
       "        vertical-align: top;\n",
       "    }\n",
       "\n",
       "    .dataframe thead th {\n",
       "        text-align: right;\n",
       "    }\n",
       "</style>\n",
       "<table border=\"1\" class=\"dataframe\">\n",
       "  <thead>\n",
       "    <tr style=\"text-align: right;\">\n",
       "      <th></th>\n",
       "      <th>Unnamed: 0</th>\n",
       "      <th>year</th>\n",
       "      <th>data_type</th>\n",
       "      <th>demand_point_index</th>\n",
       "      <th>supply_point_index</th>\n",
       "      <th>value</th>\n",
       "    </tr>\n",
       "  </thead>\n",
       "  <tbody>\n",
       "  </tbody>\n",
       "</table>\n",
       "</div>"
      ],
      "text/plain": [
       "Empty DataFrame\n",
       "Columns: [Unnamed: 0, year, data_type, demand_point_index, supply_point_index, value]\n",
       "Index: []"
      ]
     },
     "execution_count": 51,
     "metadata": {},
     "output_type": "execute_result"
    }
   ],
   "source": [
    "submission[submission[\"value\"] < 0.0]"
   ]
  },
  {
   "cell_type": "code",
   "execution_count": 49,
   "id": "49b043fc-741a-4526-b511-78b428da83ba",
   "metadata": {},
   "outputs": [
    {
     "data": {
      "text/html": [
       "<div>\n",
       "<style scoped>\n",
       "    .dataframe tbody tr th:only-of-type {\n",
       "        vertical-align: middle;\n",
       "    }\n",
       "\n",
       "    .dataframe tbody tr th {\n",
       "        vertical-align: top;\n",
       "    }\n",
       "\n",
       "    .dataframe thead th {\n",
       "        text-align: right;\n",
       "    }\n",
       "</style>\n",
       "<table border=\"1\" class=\"dataframe\">\n",
       "  <thead>\n",
       "    <tr style=\"text-align: right;\">\n",
       "      <th></th>\n",
       "      <th>Unnamed: 0</th>\n",
       "      <th>year</th>\n",
       "      <th>data_type</th>\n",
       "      <th>demand_point_index</th>\n",
       "      <th>supply_point_index</th>\n",
       "      <th>value</th>\n",
       "    </tr>\n",
       "  </thead>\n",
       "  <tbody>\n",
       "    <tr>\n",
       "      <th>0</th>\n",
       "      <td>0</td>\n",
       "      <td>2019</td>\n",
       "      <td>SCS</td>\n",
       "      <td>NaN</td>\n",
       "      <td>0</td>\n",
       "      <td>5.0</td>\n",
       "    </tr>\n",
       "    <tr>\n",
       "      <th>1</th>\n",
       "      <td>1</td>\n",
       "      <td>2019</td>\n",
       "      <td>SCS</td>\n",
       "      <td>NaN</td>\n",
       "      <td>1</td>\n",
       "      <td>4.0</td>\n",
       "    </tr>\n",
       "    <tr>\n",
       "      <th>2</th>\n",
       "      <td>2</td>\n",
       "      <td>2019</td>\n",
       "      <td>SCS</td>\n",
       "      <td>NaN</td>\n",
       "      <td>2</td>\n",
       "      <td>6.0</td>\n",
       "    </tr>\n",
       "    <tr>\n",
       "      <th>3</th>\n",
       "      <td>3</td>\n",
       "      <td>2019</td>\n",
       "      <td>SCS</td>\n",
       "      <td>NaN</td>\n",
       "      <td>3</td>\n",
       "      <td>5.0</td>\n",
       "    </tr>\n",
       "    <tr>\n",
       "      <th>4</th>\n",
       "      <td>4</td>\n",
       "      <td>2019</td>\n",
       "      <td>SCS</td>\n",
       "      <td>NaN</td>\n",
       "      <td>4</td>\n",
       "      <td>11.0</td>\n",
       "    </tr>\n",
       "    <tr>\n",
       "      <th>...</th>\n",
       "      <td>...</td>\n",
       "      <td>...</td>\n",
       "      <td>...</td>\n",
       "      <td>...</td>\n",
       "      <td>...</td>\n",
       "      <td>...</td>\n",
       "    </tr>\n",
       "    <tr>\n",
       "      <th>409795</th>\n",
       "      <td>409795</td>\n",
       "      <td>2020</td>\n",
       "      <td>DS</td>\n",
       "      <td>4095.0</td>\n",
       "      <td>95</td>\n",
       "      <td>0.0</td>\n",
       "    </tr>\n",
       "    <tr>\n",
       "      <th>409796</th>\n",
       "      <td>409796</td>\n",
       "      <td>2020</td>\n",
       "      <td>DS</td>\n",
       "      <td>4095.0</td>\n",
       "      <td>96</td>\n",
       "      <td>0.0</td>\n",
       "    </tr>\n",
       "    <tr>\n",
       "      <th>409797</th>\n",
       "      <td>409797</td>\n",
       "      <td>2020</td>\n",
       "      <td>DS</td>\n",
       "      <td>4095.0</td>\n",
       "      <td>97</td>\n",
       "      <td>0.0</td>\n",
       "    </tr>\n",
       "    <tr>\n",
       "      <th>409798</th>\n",
       "      <td>409798</td>\n",
       "      <td>2020</td>\n",
       "      <td>DS</td>\n",
       "      <td>4095.0</td>\n",
       "      <td>98</td>\n",
       "      <td>0.0</td>\n",
       "    </tr>\n",
       "    <tr>\n",
       "      <th>409799</th>\n",
       "      <td>409799</td>\n",
       "      <td>2020</td>\n",
       "      <td>DS</td>\n",
       "      <td>4095.0</td>\n",
       "      <td>99</td>\n",
       "      <td>0.0</td>\n",
       "    </tr>\n",
       "  </tbody>\n",
       "</table>\n",
       "<p>819600 rows × 6 columns</p>\n",
       "</div>"
      ],
      "text/plain": [
       "        Unnamed: 0  year data_type  demand_point_index  supply_point_index  \\\n",
       "0                0  2019       SCS                 NaN                   0   \n",
       "1                1  2019       SCS                 NaN                   1   \n",
       "2                2  2019       SCS                 NaN                   2   \n",
       "3                3  2019       SCS                 NaN                   3   \n",
       "4                4  2019       SCS                 NaN                   4   \n",
       "...            ...   ...       ...                 ...                 ...   \n",
       "409795      409795  2020        DS              4095.0                  95   \n",
       "409796      409796  2020        DS              4095.0                  96   \n",
       "409797      409797  2020        DS              4095.0                  97   \n",
       "409798      409798  2020        DS              4095.0                  98   \n",
       "409799      409799  2020        DS              4095.0                  99   \n",
       "\n",
       "        value  \n",
       "0         5.0  \n",
       "1         4.0  \n",
       "2         6.0  \n",
       "3         5.0  \n",
       "4        11.0  \n",
       "...       ...  \n",
       "409795    0.0  \n",
       "409796    0.0  \n",
       "409797    0.0  \n",
       "409798    0.0  \n",
       "409799    0.0  \n",
       "\n",
       "[819600 rows x 6 columns]"
      ]
     },
     "execution_count": 49,
     "metadata": {},
     "output_type": "execute_result"
    }
   ],
   "source": [
    "submission"
   ]
  },
  {
   "cell_type": "code",
   "execution_count": 50,
   "id": "72527fb7-693b-4270-8862-6cae94494de5",
   "metadata": {},
   "outputs": [],
   "source": [
    "submission.to_csv(\"../data/processed/submission.csv\")"
   ]
  },
  {
   "cell_type": "code",
   "execution_count": null,
   "id": "f583e8f1-e78e-4f2e-8e7e-f642b56db2ed",
   "metadata": {},
   "outputs": [],
   "source": []
  }
 ],
 "metadata": {
  "kernelspec": {
   "display_name": "Python 3 (ipykernel)",
   "language": "python",
   "name": "python3"
  },
  "language_info": {
   "codemirror_mode": {
    "name": "ipython",
    "version": 3
   },
   "file_extension": ".py",
   "mimetype": "text/x-python",
   "name": "python",
   "nbconvert_exporter": "python",
   "pygments_lexer": "ipython3",
   "version": "3.10.6"
  }
 },
 "nbformat": 4,
 "nbformat_minor": 5
}
